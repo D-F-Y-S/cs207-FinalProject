{
 "cells": [
  {
   "cell_type": "code",
   "execution_count": 1,
   "metadata": {
    "collapsed": true
   },
   "outputs": [],
   "source": [
    "import pytest\n",
    "import numpy as np\n",
    "import autodiff.forward as fwd\n",
    "\n",
    "\n",
    "def test_multiply_constant():\n",
    "    x = fwd.Variable()\n",
    "    assert (2.0*x).derivative_at(x,{x:3.0}) == 2.0\n",
    "    assert (x*2.0).derivative_at(x,{x:3.0}) == 2.0\n",
    "\n",
    "def test_divide_constant():\n",
    "    x = fwd.Variable()\n",
    "    assert (x/2.0).derivative_at(x,{x:3.0}) == 0.5\n",
    "    assert (2.0/x).derivative_at(x,{x:3.0}) == -2/9.0\n",
    "\n",
    "def test_multiply():\n",
    "    x = fwd.Variable()\n",
    "    y = fwd.Variable()\n",
    "    f = x*y\n",
    "    assert f.evaluation_at({x: 3.0, y: 2.0}) == 6.0\n",
    "    assert f.derivative_at(x, {x: 3.0, y: 2.0}) == 2.0\n",
    "    assert f.derivative_at(y, {x: 3.0, y: 2.0}) == 3.0\n",
    "\n",
    "def test_divide():\n",
    "    x = fwd.Variable()\n",
    "    y = fwd.Variable()\n",
    "    f = x/y\n",
    "    assert f.evaluation_at({x: 3.0, y: 2.0}) == 1.5\n",
    "    assert f.derivative_at(x, {x: 3.0, y: 2.0}) == 0.5\n",
    "    assert f.derivative_at(y, {x: 3.0, y: 2.0}) == -0.75\n",
    "\n",
    "def test_power():\n",
    "    x = fwd.Variable()\n",
    "    y = fwd.Variable()\n",
    "    f = x**y\n",
    "    assert f.evaluation_at({x: 3.0, y: 2.0}) == 9.0\n",
    "    assert f.derivative_at(x, {x: 3.0, y: 2.0}) == 6.0\n",
    "    assert f.derivative_at(y, {x: 3.0, y: 2.0}) == np.log(3.)*3**2\n"
   ]
  },
  {
   "cell_type": "code",
   "execution_count": 2,
   "metadata": {},
   "outputs": [],
   "source": [
    "test_divide_constant()"
   ]
  },
  {
   "cell_type": "code",
   "execution_count": 3,
   "metadata": {},
   "outputs": [
    {
     "data": {
      "text/plain": [
       "1.5"
      ]
     },
     "execution_count": 3,
     "metadata": {},
     "output_type": "execute_result"
    }
   ],
   "source": [
    "x = fwd.Variable()\n",
    "y = fwd.Variable()\n",
    "f = x/y\n",
    "f.evaluation_at({x: 3.0, y: 2.0})\n"
   ]
  },
  {
   "cell_type": "code",
   "execution_count": 4,
   "metadata": {},
   "outputs": [
    {
     "data": {
      "text/plain": [
       "0.5"
      ]
     },
     "execution_count": 4,
     "metadata": {},
     "output_type": "execute_result"
    }
   ],
   "source": [
    "f.derivative_at(x, {x: 3.0, y: 2.0}) \n",
    "\n"
   ]
  },
  {
   "cell_type": "code",
   "execution_count": 5,
   "metadata": {},
   "outputs": [
    {
     "data": {
      "text/plain": [
       "-0.75"
      ]
     },
     "execution_count": 5,
     "metadata": {},
     "output_type": "execute_result"
    }
   ],
   "source": [
    "f.derivative_at(y, {x: 3.0, y: 2.0})"
   ]
  },
  {
   "cell_type": "code",
   "execution_count": 6,
   "metadata": {
    "collapsed": true
   },
   "outputs": [],
   "source": [
    "test_divide_constant()"
   ]
  },
  {
   "cell_type": "code",
   "execution_count": null,
   "metadata": {
    "collapsed": true
   },
   "outputs": [],
   "source": []
  }
 ],
 "metadata": {
  "kernelspec": {
   "display_name": "Python [default]",
   "language": "python",
   "name": "python3"
  },
  "language_info": {
   "codemirror_mode": {
    "name": "ipython",
    "version": 3
   },
   "file_extension": ".py",
   "mimetype": "text/x-python",
   "name": "python",
   "nbconvert_exporter": "python",
   "pygments_lexer": "ipython3",
   "version": "3.6.3"
  }
 },
 "nbformat": 4,
 "nbformat_minor": 2
}
