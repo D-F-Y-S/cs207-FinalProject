{
 "cells": [
  {
   "cell_type": "markdown",
   "metadata": {},
   "source": [
    "## Introduction"
   ]
  },
  {
   "cell_type": "markdown",
   "metadata": {},
   "source": [
    "Automatic differentiation (AD) is a family of techniques for efficiently and accurately evaluating derivatives of numeric functions expressed as computer programs. Application of AD includes Newton’s method for solving nonlinear equations, real-parameter optimization, probabilistic inference, and backpropagation in neural networks. AD has been extremely popular because of the booming development in machine learning and deep learning techniques. Our AD sofeware package enable user to calculate derivatives using the forward and reverse mode. "
   ]
  },
  {
   "cell_type": "markdown",
   "metadata": {},
   "source": [
    "**Mathematical Background**\n",
    "\n",
    "Automatic Differentiation decomposes a complex function into a sequence of operations on elementary functions, evaluates the derivatives at each intermediate stage, repeatedly applies the chain rule to obtain the derivative of the outermost function.\n",
    "We provides explanations for related math concepts below. \n",
    "\n",
    "**Elimentary functions**\n",
    "\n",
    "The class of functions consisting of the polynomials, the exponential functions, the logarithmic functions, the trigonometric functions, the inverse trigonometric functions,and the functions obtained from those listed by the four arithmetic operations and by superposition(i.e. composition),applied by finitely many times.\n",
    "\n",
    "**Chain Rule**\n",
    "+ Used to compute the derivative of a composite function\n",
    "+ Core of automatic differentiation\n",
    "$$ f \\circ g (x) = f(g(x))$$\n",
    "$$\\dfrac{d}{dx}[f(g(x))] = f'(g(x))g'(x)$$\n",
    "\n",
    "**Dual Numbers**\n",
    "+ Used to compute derivative for elementary functions in automatic differentiation\n",
    "+ Replace x and y with $x+x'\\epsilon$ and $y+y'\\epsilon$. x' and y' are real numbers,$\\epsilon$ is an abstract number with the property: $\\epsilon^2=0$\n",
    "+ Carry out operations, the dual part gives us the derivative\n",
    "\n",
    "**Topological Graph**\n",
    "+ Each node represent a variable\n",
    "+ Arrows indicate topological orders(order of operations) and operations themselves.\n",
    "\n",
    "\n",
    "**Forward Mode Autodifferentiation**\n",
    "\n",
    "Follow the topological order and store the values of each variable in the nodes.\n",
    "visit each node in topological order. Let x denote our innermost function. For variable $u_i=g_i(v)$ we already know $\\dfrac{dv}{dx}$, calculate $\\dfrac{du_i}{dx}= \\dfrac{du_i}{dv}\\dfrac{dv}{dx}$\n",
    "\n",
    "\n",
    "**Reverse Mode Autodifferentiation**\n",
    "\n",
    "Has forward computation and backward computation\n",
    "\n",
    "    **Forward Computation**\n",
    "Follow the topological order and store the values of each variable in each nodes.\n",
    "    \n",
    "    \n",
    "    **Backward Computation**\n",
    "let y denote our final output variable and $u_j$, $v_j$ denote the intermediate variables\n",
    "1. Initialize all partial derivative $\\dfrac{dy}{du_j}$ to 0 and dy/dy = 1\n",
    "2. visit each node in reverse topological order. For variable $u_i=g_i(v_1,...,v_n)$ we already know $\\dfrac{dy}{du_i}$, increment $\\dfrac{dy}{dv_j}$ by $\\dfrac{dy}{du_i}\\dfrac{du_i}{dv_j}$\n"
   ]
  },
  {
   "cell_type": "markdown",
   "metadata": {
    "collapsed": true
   },
   "source": [
    "## How to Use dyfs"
   ]
  },
  {
   "cell_type": "markdown",
   "metadata": {},
   "source": [
    "### Univariate Functions"
   ]
  },
  {
   "cell_type": "markdown",
   "metadata": {},
   "source": [
    "We start with a `Variable`, which represents an independent variable. Let's call it `x`. "
   ]
  },
  {
   "cell_type": "code",
   "execution_count": 13,
   "metadata": {},
   "outputs": [],
   "source": [
    "import autodiff.forward as fwd"
   ]
  },
  {
   "cell_type": "code",
   "execution_count": 14,
   "metadata": {},
   "outputs": [],
   "source": [
    "x = fwd.Variable()"
   ]
  },
  {
   "cell_type": "markdown",
   "metadata": {},
   "source": [
    "The core class in `dyfs` is `Expression`, and we can build up `Expression` from `Variable` and other `Expression`. All functions are represented as `Expression`. All `Expression`, including `Variance` which is the most elementary `Expression`, implements the `evaluation_at` method, returns the value of this `Expression`. It also implements the `derivative_at` method, returns the derivative of this `Expression`.\n",
    "\n",
    "Here we create an `Expression` that represents $f(x) = 2x + \\exp(x)$. There is no need to call the `Expression` constructor explicitly, because the `*` operator on `x` is overloaded and will return an `Expression`. The `exp` function also returns an `Expression` representing $\\exp(x)$."
   ]
  },
  {
   "cell_type": "code",
   "execution_count": 15,
   "metadata": {},
   "outputs": [],
   "source": [
    "f = 2*x + fwd.exp(x)"
   ]
  },
  {
   "cell_type": "markdown",
   "metadata": {},
   "source": [
    "We can then evaluate $f(x)$'s value and derivative at $x = 0.5$ by calling `evaluation_at` and `derivative_at` on `f`. "
   ]
  },
  {
   "cell_type": "code",
   "execution_count": 16,
   "metadata": {},
   "outputs": [
    {
     "data": {
      "text/plain": [
       "2.648721270700128"
      ]
     },
     "execution_count": 16,
     "metadata": {},
     "output_type": "execute_result"
    }
   ],
   "source": [
    "f.evaluation_at({x: 0.5})"
   ]
  },
  {
   "cell_type": "code",
   "execution_count": 17,
   "metadata": {},
   "outputs": [
    {
     "data": {
      "text/plain": [
       "3.648721270700128"
      ]
     },
     "execution_count": 17,
     "metadata": {},
     "output_type": "execute_result"
    }
   ],
   "source": [
    "f.derivative_at(x, {x: 0.5})"
   ]
  },
  {
   "cell_type": "markdown",
   "metadata": {},
   "source": [
    "### Multivariate Functions"
   ]
  },
  {
   "cell_type": "markdown",
   "metadata": {},
   "source": [
    "Similar operations can be carried out on multivariate functions.\n",
    "\n",
    "Here we first create another `Variable` called `y`. Then we create an `Expression` that represents $g(x, y) = \\exp(x-y)$."
   ]
  },
  {
   "cell_type": "code",
   "execution_count": 19,
   "metadata": {},
   "outputs": [],
   "source": [
    "y = fwd.Variable()"
   ]
  },
  {
   "cell_type": "code",
   "execution_count": 20,
   "metadata": {},
   "outputs": [],
   "source": [
    "g = fwd.exp(x+y)"
   ]
  },
  {
   "cell_type": "markdown",
   "metadata": {},
   "source": [
    "We can then evaluate $g(x, y)$'s value at $x = 0.5, y = -0.5$ by calling `evaluation_at` on `g`. We can also evaluate $\\dfrac{\\partial g}{\\partial x}$ and $\\dfrac{\\partial g}{\\partial y}$ by calling `derivative_at` on `g`."
   ]
  },
  {
   "cell_type": "code",
   "execution_count": 23,
   "metadata": {},
   "outputs": [
    {
     "data": {
      "text/plain": [
       "1.0"
      ]
     },
     "execution_count": 23,
     "metadata": {},
     "output_type": "execute_result"
    }
   ],
   "source": [
    "g.evaluation_at({x: 0.5, y: -0.5})"
   ]
  },
  {
   "cell_type": "code",
   "execution_count": 24,
   "metadata": {},
   "outputs": [
    {
     "data": {
      "text/plain": [
       "1.0"
      ]
     },
     "execution_count": 24,
     "metadata": {},
     "output_type": "execute_result"
    }
   ],
   "source": [
    "g.derivative_at(x, {x: 0.5, y: -0.5})"
   ]
  },
  {
   "cell_type": "code",
   "execution_count": 25,
   "metadata": {},
   "outputs": [
    {
     "data": {
      "text/plain": [
       "1.0"
      ]
     },
     "execution_count": 25,
     "metadata": {},
     "output_type": "execute_result"
    }
   ],
   "source": [
    "g.derivative_at(y, {x: 0.5, y: -0.5})"
   ]
  },
  {
   "cell_type": "markdown",
   "metadata": {},
   "source": [
    "### Vector Functions"
   ]
  },
  {
   "cell_type": "markdown",
   "metadata": {},
   "source": [
    "Similar operations can be carried out on vector functions.\n",
    "\n",
    "Here we create an `VectorFunction` that represents $h(\\begin{bmatrix}x\\\\y\\end{bmatrix}) = \\begin{bmatrix}f(x)\\\\g(x, y)\\end{bmatrix}$."
   ]
  },
  {
   "cell_type": "code",
   "execution_count": 26,
   "metadata": {},
   "outputs": [],
   "source": [
    "# not implemented yet\n",
    "# h = fwd.VectorFunction(fun_dict={f: (x), g: (x, y)}, var_list=[x, y])"
   ]
  },
  {
   "cell_type": "markdown",
   "metadata": {},
   "source": [
    "We can then evaluates $h(x)$'s value and derivative (returned as gradient $\\begin{bmatrix}\\dfrac{\\partial f}{\\partial x}\\\\\\dfrac{\\partial g}{\\partial x}\\end{bmatrix}$ or $\\begin{bmatrix}\\dfrac{\\partial f}{\\partial y}\\\\\\dfrac{\\partial g}{\\partial y}\\end{bmatrix}$) at $x = 0.5, y = -0.5$. The `jacobian_at` function returns the Jacobian ($\\begin{bmatrix}\\dfrac{\\partial f}{\\partial x} & \\dfrac{\\partial f}{\\partial y} \\\\ \\dfrac{\\partial g}{\\partial x} & \\dfrac{\\partial g}{\\partial y} \\end{bmatrix}$) of `h` at given position."
   ]
  },
  {
   "cell_type": "code",
   "execution_count": 27,
   "metadata": {},
   "outputs": [],
   "source": [
    "# not implemented yet\n",
    "# h.evaluation_at({x: 0.5, y: -0.5})\n",
    "# h.derivative_at(x, {x: 0.5, y: -0.5})\n",
    "# h.derivative_at(y, {x: 0.5, y: -0.5})\n",
    "# h.jacobian_at({x: 0.5, y: -0.5})"
   ]
  },
  {
   "cell_type": "markdown",
   "metadata": {},
   "source": [
    "## Software Organization"
   ]
  },
  {
   "cell_type": "markdown",
   "metadata": {},
   "source": [
    "### Directory Structure"
   ]
  },
  {
   "cell_type": "markdown",
   "metadata": {},
   "source": [
    "The structure of `autodiff`'s project directory is as follows. \n",
    "```\n",
    "autodiff/\n",
    "\n",
    "    __init__.py\n",
    "    forward.py\n",
    "    \n",
    "tests/\n",
    "\n",
    "    test_forward.py\n",
    "    \n",
    "docs/\n",
    "\n",
    "    milestone1.ipynb\n",
    "    milestone2.ipynb\n",
    "    \n",
    ".gitignore\n",
    ".travis.yml\n",
    "LICENSE.txt\n",
    "README.md\n",
    "requirements.txt\n",
    "setup.cfg\n",
    "setup.py\n",
    "```"
   ]
  },
  {
   "cell_type": "markdown",
   "metadata": {},
   "source": [
    "The source codes lies in the directory `autodiff`, in which the `__init__.py` is there to make `autodiff` a package. Currently all the source codes are in the file `forward.py`. In the future, we may want to break it into multiple files later for better organization.\n",
    "\n",
    "The test suites lies in the directory `tests`. Currently all the test codes are in the file `test_forward.py`. In the future, we may want to break it into multiple files later for better organization."
   ]
  },
  {
   "cell_type": "markdown",
   "metadata": {},
   "source": [
    "### Modules"
   ]
  },
  {
   "cell_type": "markdown",
   "metadata": {},
   "source": [
    "There are 3 modules in `dyfs`: `dyfs.forward` module contains classes and methods for forward mode auto differentiation. The directory named `ele_func` under `dyfs.forward` is the directory where all elementary function classes live. `dyfs.backward` contains classes and methods for backward mode auto differentiation. `dyfs.usecase` module contains some examples built on `dyfs.forward` and `dyfs.backward`."
   ]
  },
  {
   "cell_type": "markdown",
   "metadata": {},
   "source": [
    "### Test Automation"
   ]
  },
  {
   "cell_type": "markdown",
   "metadata": {},
   "source": [
    "`TravisCI` and `Coveralls` are used for test automation. The test suites for each module is included in the `tests` directory whithin the moduel directory."
   ]
  },
  {
   "cell_type": "markdown",
   "metadata": {},
   "source": [
    "### Distribution"
   ]
  },
  {
   "cell_type": "markdown",
   "metadata": {},
   "source": [
    "`dyfs` is distributed with `PyPI`."
   ]
  },
  {
   "cell_type": "markdown",
   "metadata": {},
   "source": [
    "## Implementation"
   ]
  },
  {
   "cell_type": "markdown",
   "metadata": {},
   "source": [
    "### dyfs.forward.Var"
   ]
  },
  {
   "cell_type": "markdown",
   "metadata": {},
   "source": [
    "`Var` represents a variable. It implements the `eval_at` method that returns the evaluation of this variable at a certain point. 'Evaluation of this variable' sure sounds odd. This is to make the `Var` class compatible with `Expr` class: they should share the same interface (see `dyfs.forward.Expr`)."
   ]
  },
  {
   "cell_type": "code",
   "execution_count": 5,
   "metadata": {
    "collapsed": true
   },
   "outputs": [],
   "source": [
    "class Var:\n",
    "    \n",
    "    def __init__(self):\n",
    "        \n",
    "    \"\"\"\n",
    "    Evaluates this variable on the point represented by val_dict\n",
    "    Params: \n",
    "        val_dict: dictionary, contains the variables and their values\n",
    "    Return:\n",
    "        eval: Eval, the evaluation of Var\n",
    "    \"\"\"\n",
    "    def eval_at(self, val_dict):"
   ]
  },
  {
   "cell_type": "markdown",
   "metadata": {},
   "source": [
    "### dyfs.forward.Eval"
   ]
  },
  {
   "cell_type": "markdown",
   "metadata": {},
   "source": [
    "`Eval` represents an evaluation. It implements `val` and `der` methods, which return the the value part of this evaluation and the derivative part of this evaluation respectively. The `der` method returns a dictionary whose keys are references to `Var`. The value of each key is the partial derivative with respect to the key."
   ]
  },
  {
   "cell_type": "code",
   "execution_count": null,
   "metadata": {
    "collapsed": true
   },
   "outputs": [],
   "source": [
    "class Eval:\n",
    "    \n",
    "    def __init__(self, val, der):\n",
    "    \n",
    "    \"\"\"\n",
    "    Return the value part of this evaluation\n",
    "    Return:\n",
    "        the value\n",
    "    \"\"\"\n",
    "    def val(self):\n",
    "    \n",
    "    \"\"\"\n",
    "    Return the derivative part of this evaluation\n",
    "    Return:\n",
    "        the derivative\n",
    "    \"\"\"\n",
    "    def der(self):"
   ]
  },
  {
   "cell_type": "markdown",
   "metadata": {},
   "source": [
    "### dyfs.forward.Expr"
   ]
  },
  {
   "cell_type": "markdown",
   "metadata": {},
   "source": [
    "`VFun` represents an expression. It has 2 private fields: `_ele_func` and `_sub_expr`. `_ele_func` is the element function of this expression and `_sub_expr` is the sub-expressions of this function. For example: for `h = fwd.VFun(fun_dict={f: (x), g: (x, y)}, var_list=[x, y])`, its `_funcs` will be a list containing `f` and `g`.\n",
    "\n",
    "`VFun` implements the `eval_at` method that returns the evaluation of this expression at a certain point."
   ]
  },
  {
   "cell_type": "code",
   "execution_count": 3,
   "metadata": {
    "collapsed": true
   },
   "outputs": [],
   "source": [
    "class Expr:\n",
    "    \n",
    "    def __init__(self, ele_func, sub_expr,)\n",
    "    \n",
    "    \"\"\"\n",
    "    _ele_func: reference to a class, \n",
    "    the element function (e.g. Sin, Exp...) of this expression\n",
    "    \"\"\"\n",
    "    _ele_func\n",
    "    \n",
    "    \"\"\"\n",
    "    _sub_expr: a list,\n",
    "    the sub-expressions of this expression\n",
    "    \"\"\"\n",
    "    _sub_expr\n",
    "    \n",
    "    \"\"\"\n",
    "    Evaluates this variable on the point represented by val_dict\n",
    "    Params: \n",
    "        val_dict: dictionary, contains the variables and their values\n",
    "    Return:\n",
    "        eval: Eval, the evaluation of Var\n",
    "        \n",
    "    ** notes on implementation **\n",
    "    * eval_at should first pass the val_dict to the eval_at method of\n",
    "    * its _sub_expr. The returned Eval should then be passed to the \n",
    "    * the eval_at method of _ele_func to fully evaluate this expression. \n",
    "    \"\"\"\n",
    "    def eval_at(self, val_dict):"
   ]
  },
  {
   "cell_type": "markdown",
   "metadata": {},
   "source": [
    "### dyfs.forward.VFun"
   ]
  },
  {
   "cell_type": "markdown",
   "metadata": {},
   "source": [
    "`VFun` represents a vector function. It has a private field `_funcs`, which is the emapping rule for each entry of \n",
    "    the output vector. For example: for `g = fwd.exp(x+y)`, its `_ele_func` will be pointing to `fwd.exp_eval`, and its `_sub_expr` will be pointing to a `Expr` that represents $x+y$ (In turn, this `Expr`'s `_ele_func` will be pointing to `fwd.add_eval`, and its `_sub_expr` will be pointing to a list containing a `Var` representing $x$ and a `Var` representing $y$).\n",
    "\n",
    "`Expr` implements the `eval_at` method that returns the evaluation of this expression at a certain point."
   ]
  },
  {
   "cell_type": "code",
   "execution_count": null,
   "metadata": {
    "collapsed": true
   },
   "outputs": [],
   "source": [
    "class VFun:\n",
    "    \n",
    "    \"\"\"\n",
    "    The functions representing the mapping rule for each entry of \n",
    "    the output vector\n",
    "    \"\"\"\n",
    "    _funcs\n",
    "    \n",
    "    \"\"\"\n",
    "    Construct a vector function.\n",
    "    Params:\n",
    "        fun_dict: a dictionary, \n",
    "                  key: Expr, the functions representing the mapping rule\n",
    "                       for each entry of the output vector\n",
    "                  val: Var, the variables involved in each function\n",
    "        var_dict: a list, the Var objects involved in this VFun object\n",
    "    \"\"\"\n",
    "    def __init__(self, fun_dict, var_list):\n",
    "    \n",
    "    \"\"\"\n",
    "    Evaluates this variable on the point represented by val_dict\n",
    "    Params: \n",
    "        val_dict: dictionary, contains the variables and their values\n",
    "    Return:\n",
    "        eval: Eval, the evaluation of Var, whose derivative part should\n",
    "            be a Jacobian\n",
    "        \n",
    "    ** notes on implementation **\n",
    "    * Call the eval_at function of each Expr in _funcs\n",
    "    \"\"\"\n",
    "    def eval_at(self, val_dict)"
   ]
  },
  {
   "cell_type": "markdown",
   "metadata": {},
   "source": [
    "### dyfs.forward.ele_func.Sin"
   ]
  },
  {
   "cell_type": "markdown",
   "metadata": {},
   "source": [
    "The class representing the elementary function $x \\mapsto \\sin(x)$. It implements 2 functions: `expr` and `eval_at` is a factory method that contruct an `Expr` of $\\sin(x)$. `eval_at` is the method that does the calculation to evaluate $sin(x)$ at certain point."
   ]
  },
  {
   "cell_type": "code",
   "execution_count": null,
   "metadata": {
    "collapsed": true
   },
   "outputs": [],
   "source": [
    "class Sin:\n",
    "    \n",
    "    def __init__(self):\n",
    "    \n",
    "    \"\"\"\n",
    "    Contruct and retur an Expr object\n",
    "    \n",
    "    ** notes on implementation **\n",
    "    * this method should set the _sub_expr field of the constructed Expr\n",
    "    * as well as the _ele_func field.\n",
    "    \"\"\"\n",
    "    def expr(self, sub_expr):\n",
    "    \n",
    "    \"\"\"\n",
    "    Evaluate the elementary function of sin, using the evaluations of \n",
    "    sub-expressions.\n",
    "    \n",
    "    ** notes on implementation **\n",
    "    * this method should set the _sub_expr field of the constructed Expr\n",
    "    * as well as the _ele_func field.\n",
    "    \"\"\"\n",
    "    def eval_at(self, evals):   "
   ]
  },
  {
   "cell_type": "markdown",
   "metadata": {},
   "source": [
    "### dyfs.forward.ele_func.Exp"
   ]
  },
  {
   "cell_type": "markdown",
   "metadata": {},
   "source": [
    "The class representing the elementary function $x \\mapsto \\exp(x)$. It implements 2 functions: `expr` and `eval_at` is a factory method that contruct an `Expr` of $\\sin(x)$. `eval_at` is the method that does the calculation to evaluate $exp(x)$ at certain point."
   ]
  },
  {
   "cell_type": "code",
   "execution_count": null,
   "metadata": {
    "collapsed": true
   },
   "outputs": [],
   "source": [
    "class Exp:\n",
    "    \n",
    "    def __init__(self):\n",
    "    \n",
    "    \"\"\"\n",
    "    Contruct and retur an Expr object\n",
    "    \n",
    "    ** notes on implementation **\n",
    "    * this method should set the _sub_expr field of the constructed Expr\n",
    "    * as well as the _ele_func field.\n",
    "    \"\"\"\n",
    "    def expr(self, sub_expr):\n",
    "    \n",
    "    \"\"\"\n",
    "    Evaluate the elementary function of exp, using the evaluations of \n",
    "    sub-expressions.\n",
    "    \n",
    "    ** notes on implementation **\n",
    "    * this method should set the _sub_expr field of the constructed Expr\n",
    "    * as well as the _ele_func field.\n",
    "    \"\"\"\n",
    "    def eval_at(self, evals):  "
   ]
  }
 ],
 "metadata": {
  "kernelspec": {
   "display_name": "Python 3",
   "language": "python",
   "name": "python3"
  },
  "language_info": {
   "codemirror_mode": {
    "name": "ipython",
    "version": 3
   },
   "file_extension": ".py",
   "mimetype": "text/x-python",
   "name": "python",
   "nbconvert_exporter": "python",
   "pygments_lexer": "ipython3",
   "version": "3.6.5"
  }
 },
 "nbformat": 4,
 "nbformat_minor": 2
}
