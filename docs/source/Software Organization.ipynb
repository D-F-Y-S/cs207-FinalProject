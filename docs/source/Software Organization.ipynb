{
 "cells": [
  {
   "cell_type": "markdown",
   "metadata": {},
   "source": [
    "# Software Organization"
   ]
  },
  {
   "cell_type": "markdown",
   "metadata": {},
   "source": [
    "## Directory Structure"
   ]
  },
  {
   "cell_type": "markdown",
   "metadata": {},
   "source": [
    "The structure of `autodiff`'s project directory is as follows. \n",
    "```\n",
    "autodiff/\n",
    "\n",
    "    __init__.py\n",
    "    README.md\n",
    "    forward.py\n",
    "    backward.py\n",
    "    optimize.py\n",
    "    rootfinding.py\n",
    "    plot.py\n",
    "    \n",
    "tests/\n",
    "    \n",
    "    README.md\n",
    "    test_forward.py\n",
    "    test_backward.py\n",
    "    test_optimize.py\n",
    "    test_rootfinding.py\n",
    "    test_plot.py   \n",
    "    \n",
    "docs/\n",
    "    \n",
    "    README.md\n",
    "    milestone1.ipynb\n",
    "    milestone2.ipynb\n",
    "    source/\n",
    "        Background.ipynb\n",
    "        Getting Started.ipynb\n",
    "        Implementation.ipynb\n",
    "        index.rst\n",
    "        License.rst\n",
    "        Installation.ipynb\n",
    "        Libraries_demo.ipynb\n",
    "    \n",
    ".gitignore\n",
    ".travis.yml\n",
    "LICENSE.txt\n",
    "README.md\n",
    "requirements.txt\n",
    "setup.cfg\n",
    "setup.py\n",
    "```"
   ]
  },
  {
   "cell_type": "markdown",
   "metadata": {},
   "source": [
    "The source codes lies in the directory `autodiff`, in which the `__init__.py` is there to make `autodiff` a package. The file `forward.py` contains the source code of forward mode autodifferentiation. The file `backward.py` contains the source code of backward mode autodifferentiation. The file `optimize.py` contains optimization routines built on top of autodifferentiation. The file `rootfinding.py` contains rootfinding routines. The file `plot.py` contains utility functions for plotting.\n",
    "\n",
    "The test suites lies in the directory `tests`. The test files are named to represent the module that they test.\n",
    "\n",
    "The documents lies in the directory `docs`. `milestone1.ipynb` is the history version of document when submitting milestone 1. `milestone2.ipynb` is the history version of document when submitting milestone 2. `document.ipynb`, which is this file itself, is the final document.\n",
    "\n",
    "Other files in the rrot directory includes: `.gitignore`, which specifies the files that should not be tracked by git, `.travis.yml`, which is the configuration file for TravisCI, `LICENSE.txt`, which is the license for this package, `README.md`, which is the README file for this package, `requirements.txt`, which specifies the dependensies of this package, `setup.cfg`, which is the configuration file for installing this package, `setup.py`, which is the script for installing this package."
   ]
  },
  {
   "cell_type": "markdown",
   "metadata": {},
   "source": [
    "## Modules"
   ]
  },
  {
   "cell_type": "markdown",
   "metadata": {},
   "source": [
    "There are now five modules: `autodiff.forward` for forward mode autodifferentiation, `backward` for backward mode autodifferentiation, `optimize` for optimization, `rootfinding` for rootfinding, and `plot` for plotting."
   ]
  },
  {
   "cell_type": "markdown",
   "metadata": {},
   "source": [
    "## Test Automation"
   ]
  },
  {
   "cell_type": "markdown",
   "metadata": {},
   "source": [
    "The continuous integration is done by `TravisCI` and `Coveralls`."
   ]
  },
  {
   "cell_type": "markdown",
   "metadata": {},
   "source": [
    "## Distribution"
   ]
  },
  {
   "cell_type": "markdown",
   "metadata": {},
   "source": [
    "`autodiff ` is distributed with [PyPI](https://pypi.org/project/DFYS-autodiff/)."
   ]
  }
 ],
 "metadata": {
  "kernelspec": {
   "display_name": "Python [default]",
   "language": "python",
   "name": "python3"
  },
  "language_info": {
   "codemirror_mode": {
    "name": "ipython",
    "version": 3
   },
   "file_extension": ".py",
   "mimetype": "text/x-python",
   "name": "python",
   "nbconvert_exporter": "python",
   "pygments_lexer": "ipython3",
   "version": "3.6.3"
  }
 },
 "nbformat": 4,
 "nbformat_minor": 2
}
