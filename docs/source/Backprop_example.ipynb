{
 "cells": [
  {
   "cell_type": "code",
   "execution_count": 1,
   "metadata": {
    "collapsed": true
   },
   "outputs": [],
   "source": [
    "import numpy as np\n",
    "import matplotlib.pyplot as plt\n",
    "%matplotlib inline\n",
    "from autodiff.backprop import *\n",
    "from autodiff.forward import *\n",
    "from autodiff.rootfinding import *"
   ]
  },
  {
   "cell_type": "markdown",
   "metadata": {},
   "source": [
    "Backpropagation module is built upon the interfaces developed in central code file \"Autodiff.forward\".\n",
    "It calculate the derivative of each nodes in the compuational graph with respect to the root nodes. Therefore with different root nodes, we should expect to see different values of derivative.\n",
    "suppose we have the following structure:\n",
    "\n",
    " - $x = 1$, $y = 2$\n",
    " - $c = \\sin(x)$\n",
    " - $d = c \\cdot y$\n",
    "\n",
    "Note: after one round of back propagation, the .bder attributes stores the answer from the last round until it is cleared when a new round is called upon."
   ]
  },
  {
   "cell_type": "code",
   "execution_count": 2,
   "metadata": {},
   "outputs": [
    {
     "name": "stdout",
     "output_type": "stream",
     "text": [
      "derivative of x with respect to c is  0.5403023058681398\n",
      "derivative of y with respect to c is  0\n",
      "derivative of x with respect to c is  1.0806046117362795\n",
      "derivative of y with respect to c is  0.8414709848078965\n"
     ]
    }
   ],
   "source": [
    "x = Variable()\n",
    "y = Variable()\n",
    "c = sin(x)\n",
    "d = c*y\n",
    "back_propagation(c,{x:1,y:2})\n",
    "print('derivative of x with respect to c is ', x.bder)\n",
    "print('derivative of y with respect to c is ', y.bder)\n",
    "back_propagation(d,{x:1,y:2})\n",
    "print('derivative of x with respect to c is ', x.bder)\n",
    "print('derivative of y with respect to c is ', y.bder)"
   ]
  },
  {
   "cell_type": "markdown",
   "metadata": {},
   "source": [
    "If we calculate by hand:\n",
    "\n",
    "$\n",
    "\\begin{align}\n",
    "\\frac{dc}{dx} &= cos(1) = 0.54 \\\\\n",
    "\\frac{dc}{dy} &= 0 \\\\\n",
    "\\frac{dd}{dx} &= y*\\frac{dc}{dx} = 2*cos(1) = 1.08\\\\\n",
    "\\frac{dd}{dy} &= c = sin(1) =  0.84 \\\\ \n",
    "\\end{align}\n",
    "$"
   ]
  },
  {
   "cell_type": "markdown",
   "metadata": {},
   "source": [
    "Back propagation is also integrated with the function Newton's"
   ]
  },
  {
   "cell_type": "code",
   "execution_count": 7,
   "metadata": {
    "collapsed": true
   },
   "outputs": [],
   "source": [
    "result_d=newton_scalar(f,{x:1,y:-1},max_itr = 25,method = 'backward')"
   ]
  },
  {
   "cell_type": "code",
   "execution_count": 12,
   "metadata": {},
   "outputs": [
    {
     "name": "stdout",
     "output_type": "stream",
     "text": [
      "x: 0.0\n",
      "y: -1.6420926159343308\n",
      "function value: 0.0\n"
     ]
    }
   ],
   "source": [
    "print('x:',result_D[x])\n",
    "print('y:',result_D[y])\n",
    "print('function value:',abs(f.evaluation_at({x:result_d[x],y:result_d[y]})))"
   ]
  }
 ],
 "metadata": {
  "kernelspec": {
   "display_name": "Python [default]",
   "language": "python",
   "name": "python3"
  },
  "language_info": {
   "codemirror_mode": {
    "name": "ipython",
    "version": 3
   },
   "file_extension": ".py",
   "mimetype": "text/x-python",
   "name": "python",
   "nbconvert_exporter": "python",
   "pygments_lexer": "ipython3",
   "version": "3.6.3"
  }
 },
 "nbformat": 4,
 "nbformat_minor": 2
}
