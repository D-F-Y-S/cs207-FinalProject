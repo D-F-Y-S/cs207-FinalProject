{
 "cells": [
  {
   "cell_type": "markdown",
   "metadata": {},
   "source": [
    "# Installation"
   ]
  },
  {
   "cell_type": "markdown",
   "metadata": {},
   "source": [
    "## Install Through PyPI\n",
    "\n",
    "The easiest way to install `autodiff` is by `pip`. Just type in `pip install DYFS-autodiff` in the command line.\n",
    "\n",
    "`pip install DFYS-autodiff`\n",
    "\n"
   ]
  },
  {
   "cell_type": "markdown",
   "metadata": {},
   "source": [
    "## Install Manually\n",
    "\n",
    "The user can choose to install `autodiff` directly from the source in this repository. We suppose that the user has already installed `pip` and `virtualenv`:\n",
    "\n",
    "1. clone the project repo by `git clone git@github.com:D-F-Y-S/cs207-FinalProject.git`\n",
    "2. `cd` into the local repo and create a virtual environment by `virtualenv env` \n",
    "3. activate the virtual environment by `source env/bin/activate` (use `deactivate` to deactivate the virtual environment later.)\n",
    "4. install the dependencies by `pip install -r requirements.txt`\n",
    "5. install `autodiff` by `pip install -e .`"
   ]
  }
 ],
 "metadata": {
  "kernelspec": {
   "display_name": "Python [default]",
   "language": "python",
   "name": "python3"
  },
  "language_info": {
   "codemirror_mode": {
    "name": "ipython",
    "version": 3
   },
   "file_extension": ".py",
   "mimetype": "text/x-python",
   "name": "python",
   "nbconvert_exporter": "python",
   "pygments_lexer": "ipython3",
   "version": "3.6.3"
  }
 },
 "nbformat": 4,
 "nbformat_minor": 2
}
