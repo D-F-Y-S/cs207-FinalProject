{
 "cells": [
  {
   "cell_type": "markdown",
   "metadata": {},
   "source": [
    "## Introduction"
   ]
  },
  {
   "cell_type": "markdown",
   "metadata": {},
   "source": [
    "Automatic differentiation (AD) is a family of techniques for efficiently and accurately evaluating derivatives of numeric functions expressed as computer programs. Application of AD includes Newton’s method for solving nonlinear equations, real-parameter optimization, probabilistic inference, and backpropagation in neural networks. AD has been extremely popular because of the booming development in machine learning and deep learning techniques. Our AD sofeware package enable user to calculate derivatives using the forward and reverse mode. "
   ]
  },
  {
   "cell_type": "markdown",
   "metadata": {},
   "source": [
    "**Mathematical Background**\n",
    "\n",
    "Automatic Differentiation decomposes a complex function into a sequence of operations on elementary functions, evaluates the derivatives at each intermediate stage, repeatedly applies the chain rule to obtain the derivative of the outermost function.\n",
    "We provides explanations for related math concepts below. \n",
    "\n",
    "**Elimentary functions**\n",
    "\n",
    "The class of functions consisting of the polynomials, the exponential functions, the logarithmic functions, the trigonometric functions, the inverse trigonometric functions,and the functions obtained from those listed by the four arithmetic operations and by superposition(i.e. composition),applied by finitely many times.\n",
    "\n",
    "**Chain Rule**\n",
    "+ Used to compute the derivative of a composite function\n",
    "+ Core of automatic differentiation\n",
    "$$ f \\circ g (x) = f(g(x))$$\n",
    "$$\\frac{d}{dx}[f(g(x))] = f'(g(x))g'(x)$$\n",
    "\n",
    "**Dual Numbers**\n",
    "+ Used to compute derivative for elementary functions in automatic differentiation\n",
    "+ Replace x and y with $x+x'\\epsilon$ and $y+y'\\epsilon$. x' and y' are real numbers,$\\epsilon$ is an abstract number with the property: $\\epsilon^2=0$\n",
    "+ Carry out operations, the dual part gives us the derivative\n",
    "\n",
    "**Topological Graph**\n",
    "+ Each node represent a variable\n",
    "+ Arrows indicate topological orders(order of operations) and operations themselves.\n",
    "\n",
    "\n",
    "**Forward Mode Autodifferentiation**\n",
    "\n",
    "Follow the topological order and store the values of each variable in the nodes.\n",
    "visit each node in topological order. Let x denote our innermost function. For variable $u_i=g_i(v)$ we already know $\\frac{dv}{dx}$, calculate $\\frac{du_i}{dx}= \\frac{du_i}{dv}\\frac{dv}{dx}$\n",
    "\n",
    "\n",
    "**Reverse Mode Autodifferentiation**\n",
    "\n",
    "Has forward computation and backward computation\n",
    "\n",
    "    **Forward Computation**\n",
    "Follow the topological order and store the values of each variable in each nodes.\n",
    "    \n",
    "    \n",
    "    **Backward Computation**\n",
    "let y denote our final output variable and $u_j$, $v_j$ denote the intermediate variables\n",
    "1. Initialize all partial derivative $\\frac{dy}{du_j}$ to 0 and dy/dy = 1\n",
    "2. visit each node in reverse topological order. For variable $u_i=g_i(v_1,...,v_n)$ we already know $\\frac{dy}{du_i}$, increment $\\frac{dy}{dv_j}$ by $\\frac{dy}{du_i}\\frac{du_i}{dv_j}$\n"
   ]
  },
  {
   "cell_type": "markdown",
   "metadata": {
    "collapsed": true
   },
   "source": [
    "## How to Use dyfs"
   ]
  },
  {
   "cell_type": "code",
   "execution_count": null,
   "metadata": {
    "collapsed": true
   },
   "outputs": [],
   "source": [
    "\"\"\"\n",
    "This cell is to be deleted.\n",
    "\n",
    "** notes on the package name\n",
    "* dyfs is the contatenation of the name of our group members: \n",
    "* Danyun - Yan - Feiyu - Sara, and it sounds like 'diffs', but \n",
    "* since Danyun  is not in our group anymore, we may want to \n",
    "* change the name later\n",
    "\"\"\""
   ]
  },
  {
   "cell_type": "markdown",
   "metadata": {},
   "source": [
    "### Variables"
   ]
  },
  {
   "cell_type": "markdown",
   "metadata": {},
   "source": [
    "We start with a `Var` (variable). Let's call it `x`. "
   ]
  },
  {
   "cell_type": "code",
   "execution_count": null,
   "metadata": {
    "collapsed": true
   },
   "outputs": [],
   "source": [
    "import dyfs.forward as fwd"
   ]
  },
  {
   "cell_type": "code",
   "execution_count": null,
   "metadata": {
    "collapsed": true
   },
   "outputs": [],
   "source": [
    "x = fwd.Variable()"
   ]
  },
  {
   "cell_type": "markdown",
   "metadata": {},
   "source": [
    "### Univariate Functions"
   ]
  },
  {
   "cell_type": "markdown",
   "metadata": {},
   "source": [
    "The core class in `dyfs` is `Expr` (expression), and we can build up `Expr` from `Var` and other `Expr`. All functions are represented as `Expr`. All `Expr`, including `Var` which is the most elementary `Expr`, implements the `eval_at` method, which evaluates and returns the value and (partial) derivatives of this `Expr` at a certain point on its domain.\n",
    "\n",
    "Here we create a `Expr` that represents $f(x) = x^2 + \\sin(x)$. There is no need to call the `Expr` constructor explicitly, because the `**` operator on `x` is overloaded and will return an `Expr`. The `Sin.expr` function also returns an `Expr` representing $\\sin(x)$."
   ]
  },
  {
   "cell_type": "code",
   "execution_count": null,
   "metadata": {
    "collapsed": true
   },
   "outputs": [],
   "source": [
    "from fwd.ele_func import Sin"
   ]
  },
  {
   "cell_type": "code",
   "execution_count": null,
   "metadata": {
    "collapsed": true
   },
   "outputs": [],
   "source": [
    "f = x**2 + Sin.expr(x)"
   ]
  },
  {
   "cell_type": "markdown",
   "metadata": {},
   "source": [
    "We can then evaluates $f(x)$'s value and derivative on $x = 42$. "
   ]
  },
  {
   "cell_type": "code",
   "execution_count": null,
   "metadata": {
    "collapsed": true
   },
   "outputs": [],
   "source": [
    "val, der = f.eval_at(var_dict={x: 42})"
   ]
  },
  {
   "cell_type": "markdown",
   "metadata": {},
   "source": [
    "### Multivariate Functions"
   ]
  },
  {
   "cell_type": "markdown",
   "metadata": {},
   "source": [
    "Similar operations can be carried out on multivariate functions.\n",
    "\n",
    "Here we create an `Expr` that represents $g(x, y) = \\exp(x+y)$. Here the `Exp.exp` function also returns an `Expr`."
   ]
  },
  {
   "cell_type": "code",
   "execution_count": null,
   "metadata": {
    "collapsed": true
   },
   "outputs": [],
   "source": [
    "from fwd.ele_func import Exp"
   ]
  },
  {
   "cell_type": "code",
   "execution_count": null,
   "metadata": {
    "collapsed": true
   },
   "outputs": [],
   "source": [
    "g = Exp.expr(x+y)"
   ]
  },
  {
   "cell_type": "markdown",
   "metadata": {},
   "source": [
    "We can then evaluates $g(x)$'s value and derivative at $x = 3, y = 4$. Here the returned `der` is a dictionary with entries of the partial derivatives of `x` and `y`."
   ]
  },
  {
   "cell_type": "code",
   "execution_count": null,
   "metadata": {
    "collapsed": true
   },
   "outputs": [],
   "source": [
    "val, der = g.eval_at(var_dict={x: 3, y: 4})"
   ]
  },
  {
   "cell_type": "markdown",
   "metadata": {},
   "source": [
    "### Vector Functions"
   ]
  },
  {
   "cell_type": "markdown",
   "metadata": {},
   "source": [
    "Similar operations can be carried out on vector functions.\n",
    "\n",
    "Here we create an `VFun` (vector function) that represents $h(\\begin{bmatrix}x\\\\y\\end{bmatrix}) = \\begin{bmatrix}f(x)\\\\g(x, y)\\end{bmatrix}$."
   ]
  },
  {
   "cell_type": "code",
   "execution_count": null,
   "metadata": {
    "collapsed": true
   },
   "outputs": [],
   "source": [
    "h = fwd.VFun(fun_dict={f: (x), g: (x, y)}, var_list=[x, y])"
   ]
  },
  {
   "cell_type": "markdown",
   "metadata": {},
   "source": [
    "We can then evaluates $h(x)$'s value and derivative at $x = 3, y = 4$. Here the returned `der` is the Jacobian of $h$ at $x = 3, y = 4$."
   ]
  },
  {
   "cell_type": "markdown",
   "metadata": {},
   "source": [
    "## Software Organization"
   ]
  },
  {
   "cell_type": "markdown",
   "metadata": {},
   "source": [
    "### Directory Structure"
   ]
  },
  {
   "cell_type": "markdown",
   "metadata": {},
   "source": [
    "The organization of `dyfs` is as follows. \n",
    "```\n",
    "dyfs/\n",
    "    __init__.py\n",
    "    forward/\n",
    "        __init__.py\n",
    "        Var.py\n",
    "        Expr.py\n",
    "        VFun.py\n",
    "        ele_func/\n",
    "            Sin.py\n",
    "            Exp.py\n",
    "        ...\n",
    "        tests/\n",
    "            Var_tests.py\n",
    "            Expr_tests.py\n",
    "            VFun_tests.py\n",
    "            ...\n",
    "    backward/\n",
    "        ...\n",
    "    usecase/\n",
    "        ...\n",
    "```"
   ]
  },
  {
   "cell_type": "markdown",
   "metadata": {},
   "source": [
    "### Modules"
   ]
  },
  {
   "cell_type": "markdown",
   "metadata": {},
   "source": [
    "There are 3 modules in `dyfs`: `dyfs.forward` module contains classes and methods for forward mode auto differentiation. The directory named `ele_func` under `dyfs.forward` is the directory where all elementary function classes live. `dyfs.backward` contains classes and methods for backward mode auto differentiation. `dyfs.usecase` module contains some examples built on `dyfs.forward` and `dyfs.backward`."
   ]
  },
  {
   "cell_type": "markdown",
   "metadata": {},
   "source": [
    "### Test Automation"
   ]
  },
  {
   "cell_type": "markdown",
   "metadata": {},
   "source": [
    "`TravisCI` and `Coveralls` are used for test automation. The test suites for each module is included in the `tests` directory whithin the moduel directory."
   ]
  },
  {
   "cell_type": "markdown",
   "metadata": {},
   "source": [
    "### Distribution"
   ]
  },
  {
   "cell_type": "markdown",
   "metadata": {},
   "source": [
    "`dyfs` is distributed with `PyPI`."
   ]
  },
  {
   "cell_type": "markdown",
   "metadata": {},
   "source": [
    "## Implementation"
   ]
  },
  {
   "cell_type": "markdown",
   "metadata": {},
   "source": [
    "### dyfs.forward.Var"
   ]
  },
  {
   "cell_type": "markdown",
   "metadata": {},
   "source": [
    "`Var` represents a variable. It implements the `eval_at` method that returns the evaluation of this variable at a certain point. 'Evaluation of this variable' sure sounds odd. This is to make the `Var` class compatible with `Expr` class: they should share the same interface (see `dyfs.forward.Expr`)."
   ]
  },
  {
   "cell_type": "code",
   "execution_count": 5,
   "metadata": {
    "collapsed": true
   },
   "outputs": [],
   "source": [
    "class Var:\n",
    "    \n",
    "    def __init__(self):\n",
    "        \n",
    "    \"\"\"\n",
    "    Evaluates this variable on the point represented by val_dict\n",
    "    Params: \n",
    "        val_dict: dictionary, contains the variables and their values\n",
    "    Return:\n",
    "        eval: Eval, the evaluation of Var\n",
    "    \"\"\"\n",
    "    def eval_at(self, val_dict):"
   ]
  },
  {
   "cell_type": "markdown",
   "metadata": {},
   "source": [
    "### dyfs.forward.Eval"
   ]
  },
  {
   "cell_type": "markdown",
   "metadata": {},
   "source": [
    "`Eval` represents an evaluation. It implements `val` and `der` methods, which return the the value part of this evaluation and the derivative part of this evaluation respectively. The `der` method returns a dictionary whose keys are references to `Var`. The value of each key is the partial derivative with respect to the key."
   ]
  },
  {
   "cell_type": "code",
   "execution_count": null,
   "metadata": {
    "collapsed": true
   },
   "outputs": [],
   "source": [
    "class Eval:\n",
    "    \n",
    "    def __init__(self, val, der):\n",
    "    \n",
    "    \"\"\"\n",
    "    Return the value part of this evaluation\n",
    "    Return:\n",
    "        the value\n",
    "    \"\"\"\n",
    "    def val(self):\n",
    "    \n",
    "    \"\"\"\n",
    "    Return the derivative part of this evaluation\n",
    "    Return:\n",
    "        the derivative\n",
    "    \"\"\"\n",
    "    def der(self):"
   ]
  },
  {
   "cell_type": "markdown",
   "metadata": {},
   "source": [
    "### dyfs.forward.Expr"
   ]
  },
  {
   "cell_type": "markdown",
   "metadata": {},
   "source": [
    "`VFun` represents an expression. It has 2 private fields: `_ele_func` and `_sub_expr`. `_ele_func` is the element function of this expression and `_sub_expr` is the sub-expressions of this function. For example: for `h = fwd.VFun(fun_dict={f: (x), g: (x, y)}, var_list=[x, y])`, its `_funcs` will be a list containing `f` and `g`.\n",
    "\n",
    "`VFun` implements the `eval_at` method that returns the evaluation of this expression at a certain point."
   ]
  },
  {
   "cell_type": "code",
   "execution_count": 3,
   "metadata": {
    "collapsed": true
   },
   "outputs": [],
   "source": [
    "class Expr:\n",
    "    \n",
    "    def __init__(self, ele_func, sub_expr,)\n",
    "    \n",
    "    \"\"\"\n",
    "    _ele_func: reference to a class, \n",
    "    the element function (e.g. Sin, Exp...) of this expression\n",
    "    \"\"\"\n",
    "    _ele_func\n",
    "    \n",
    "    \"\"\"\n",
    "    _sub_expr: a list,\n",
    "    the sub-expressions of this expression\n",
    "    \"\"\"\n",
    "    _sub_expr\n",
    "    \n",
    "    \"\"\"\n",
    "    Evaluates this variable on the point represented by val_dict\n",
    "    Params: \n",
    "        val_dict: dictionary, contains the variables and their values\n",
    "    Return:\n",
    "        eval: Eval, the evaluation of Var\n",
    "        \n",
    "    ** notes on implementation **\n",
    "    * eval_at should first pass the val_dict to the eval_at method of\n",
    "    * its _sub_expr. The returned Eval should then be passed to the \n",
    "    * the eval_at method of _ele_func to fully evaluate this expression. \n",
    "    \"\"\"\n",
    "    def eval_at(self, val_dict):"
   ]
  },
  {
   "cell_type": "markdown",
   "metadata": {},
   "source": [
    "### dyfs.forward.VFun"
   ]
  },
  {
   "cell_type": "markdown",
   "metadata": {},
   "source": [
    "`VFun` represents a vector function. It has a private field `_funcs`, which is the emapping rule for each entry of \n",
    "    the output vector. For example: for `g = fwd.exp(x+y)`, its `_ele_func` will be pointing to `fwd.exp_eval`, and its `_sub_expr` will be pointing to a `Expr` that represents $x+y$ (In turn, this `Expr`'s `_ele_func` will be pointing to `fwd.add_eval`, and its `_sub_expr` will be pointing to a list containing a `Var` representing $x$ and a `Var` representing $y$).\n",
    "\n",
    "`Expr` implements the `eval_at` method that returns the evaluation of this expression at a certain point."
   ]
  },
  {
   "cell_type": "code",
   "execution_count": null,
   "metadata": {
    "collapsed": true
   },
   "outputs": [],
   "source": [
    "class VFun:\n",
    "    \n",
    "    \"\"\"\n",
    "    The functions representing the mapping rule for each entry of \n",
    "    the output vector\n",
    "    \"\"\"\n",
    "    _funcs\n",
    "    \n",
    "    \"\"\"\n",
    "    Construct a vector function.\n",
    "    Params:\n",
    "        fun_dict: a dictionary, \n",
    "                  key: Expr, the functions representing the mapping rule\n",
    "                       for each entry of the output vector\n",
    "                  val: Var, the variables involved in each function\n",
    "        var_dict: a list, the Var objects involved in this VFun object\n",
    "    \"\"\"\n",
    "    def __init__(self, fun_dict, var_list):\n",
    "    \n",
    "    \"\"\"\n",
    "    Evaluates this variable on the point represented by val_dict\n",
    "    Params: \n",
    "        val_dict: dictionary, contains the variables and their values\n",
    "    Return:\n",
    "        eval: Eval, the evaluation of Var, whose derivative part should\n",
    "            be a Jacobian\n",
    "        \n",
    "    ** notes on implementation **\n",
    "    * Call the eval_at function of each Expr in _funcs\n",
    "    \"\"\"\n",
    "    def eval_at(self, val_dict)"
   ]
  },
  {
   "cell_type": "markdown",
   "metadata": {},
   "source": [
    "### dyfs.forward.ele_func.Sin"
   ]
  },
  {
   "cell_type": "markdown",
   "metadata": {},
   "source": [
    "The class representing the elementary function $x \\mapsto \\sin(x)$. It implements 2 functions: `expr` and `eval_at` is a factory method that contruct an `Expr` of $\\sin(x)$. `eval_at` is the method that does the calculation to evaluate $sin(x)$ at certain point."
   ]
  },
  {
   "cell_type": "code",
   "execution_count": null,
   "metadata": {
    "collapsed": true
   },
   "outputs": [],
   "source": [
    "class Sin:\n",
    "    \n",
    "    def __init__(self):\n",
    "    \n",
    "    \"\"\"\n",
    "    Contruct and retur an Expr object\n",
    "    \n",
    "    ** notes on implementation **\n",
    "    * this method should set the _sub_expr field of the constructed Expr\n",
    "    * as well as the _ele_func field.\n",
    "    \"\"\"\n",
    "    def expr(self, sub_expr):\n",
    "    \n",
    "    \"\"\"\n",
    "    Evaluate the elementary function of sin, using the evaluations of \n",
    "    sub-expressions.\n",
    "    \n",
    "    ** notes on implementation **\n",
    "    * this method should set the _sub_expr field of the constructed Expr\n",
    "    * as well as the _ele_func field.\n",
    "    \"\"\"\n",
    "    def eval_at(self, evals):   "
   ]
  },
  {
   "cell_type": "markdown",
   "metadata": {},
   "source": [
    "### dyfs.forward.ele_func.Exp"
   ]
  },
  {
   "cell_type": "markdown",
   "metadata": {},
   "source": [
    "The class representing the elementary function $x \\mapsto \\exp(x)$. It implements 2 functions: `expr` and `eval_at` is a factory method that contruct an `Expr` of $\\sin(x)$. `eval_at` is the method that does the calculation to evaluate $exp(x)$ at certain point."
   ]
  },
  {
   "cell_type": "code",
   "execution_count": null,
   "metadata": {
    "collapsed": true
   },
   "outputs": [],
   "source": [
    "class Exp:\n",
    "    \n",
    "    def __init__(self):\n",
    "    \n",
    "    \"\"\"\n",
    "    Contruct and retur an Expr object\n",
    "    \n",
    "    ** notes on implementation **\n",
    "    * this method should set the _sub_expr field of the constructed Expr\n",
    "    * as well as the _ele_func field.\n",
    "    \"\"\"\n",
    "    def expr(self, sub_expr):\n",
    "    \n",
    "    \"\"\"\n",
    "    Evaluate the elementary function of exp, using the evaluations of \n",
    "    sub-expressions.\n",
    "    \n",
    "    ** notes on implementation **\n",
    "    * this method should set the _sub_expr field of the constructed Expr\n",
    "    * as well as the _ele_func field.\n",
    "    \"\"\"\n",
    "    def eval_at(self, evals):  "
   ]
  }
 ],
 "metadata": {
  "kernelspec": {
   "display_name": "Python [default]",
   "language": "python",
   "name": "python3"
  },
  "language_info": {
   "codemirror_mode": {
    "name": "ipython",
    "version": 3
   },
   "file_extension": ".py",
   "mimetype": "text/x-python",
   "name": "python",
   "nbconvert_exporter": "python",
   "pygments_lexer": "ipython3",
   "version": "3.6.3"
  }
 },
 "nbformat": 4,
 "nbformat_minor": 2
}
