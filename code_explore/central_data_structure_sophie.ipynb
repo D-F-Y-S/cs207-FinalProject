{
 "cells": [
  {
   "cell_type": "code",
   "execution_count": 1,
   "metadata": {
    "collapsed": true
   },
   "outputs": [],
   "source": [
    "import numpy as np"
   ]
  },
  {
   "cell_type": "code",
   "execution_count": 86,
   "metadata": {},
   "outputs": [],
   "source": [
    "class Expression:\n",
    "    def __init__(self, ele_func, sub_expr1, sub_expr2=None):\n",
    "        self._ele_func  = ele_func\n",
    "        self._sub_expr1 = sub_expr1\n",
    "        self._sub_expr2 = sub_expr2\n",
    "    \n",
    "    def evaluation_at(self, val_dict):\n",
    "        \n",
    "        # self._sub_expr2 is None implies that self._ele_func is an unary operator\n",
    "        if self._sub_expr2 is None: \n",
    "            return self._ele_func.evaluation_at(\n",
    "                self._sub_expr1, val_dict)\n",
    "        \n",
    "        # self._sub_expr2 not None implies that self._ele_func is a binary operator\n",
    "        else:\n",
    "            return self._ele_func.evaluation_at(\n",
    "                self._sub_expr1, self._sub_expr2, val_dict)\n",
    "    \n",
    "    def derivative_at(self, var, val_dict):\n",
    "        \n",
    "        if var is self: return 1.0\n",
    "        \n",
    "        # sub_expr2 is None implies that _ele_func is an unary operator\n",
    "        if self._sub_expr2 is None:\n",
    "            return self._ele_func.derivative_at(\n",
    "                self._sub_expr1, var, val_dict)\n",
    "        \n",
    "        # sub_expr2 not None implies that _ele_func is a binary operator\n",
    "        else:\n",
    "            return self._ele_func.derivative_at(\n",
    "                self._sub_expr1, self._sub_expr2, var, val_dict)\n",
    "    \n",
    "    def __add__(self, another):\n",
    "        if isinstance(another, Expression):\n",
    "            return Expression(Add, self, another)\n",
    "        # if the other operand is not an Expression, then it must be a number\n",
    "        # the number then should be converted to a Constant\n",
    "        else:\n",
    "            return Expression(Add, self, Constant(another))\n",
    "    \n",
    "    def __radd__(self, another):\n",
    "        if isinstance(another, Expression):\n",
    "            return Expression(Add, another, self)\n",
    "        else:\n",
    "            return Expression(Add, Constant(another), self)\n",
    "    \n",
    "    def __sub__(self, another):\n",
    "        if isinstance(another, Expression):\n",
    "            return Expression(Sub, self, another)\n",
    "        else:\n",
    "            return Expression(Sub, self, Constant(another))\n",
    "    \n",
    "    def __rsub__(self, another):\n",
    "        if isinstance(another, Expression):\n",
    "            return Expression(Sub, another, self)\n",
    "        else:\n",
    "            return Expression(Sub, Constant(another), self)\n",
    "        \n",
    "\n",
    "    def __mul__(self, another):\n",
    "        if isinstance(another, Expression):\n",
    "            return Expression(Mul,self,another)\n",
    "        else:\n",
    "            return Expression(Mul, self, Constant(another))\n",
    "\n",
    "    def __rmul__(self, another):\n",
    "        if isinstance(another, Expression):\n",
    "            return Expression(Mul,another,self)\n",
    "        else:\n",
    "            return Expression(Mul, Constant(another),self)\n",
    "    \n",
    "    def __truediv__(self, another):\n",
    "        if isinstance(another, Expression):\n",
    "            return Expression(Div,self,another)\n",
    "        else:\n",
    "            return Expression(Div, self, Constant(another))\n",
    "\n",
    "    def __rtruediv__(self, another):\n",
    "        if isinstance(another, Expression):\n",
    "            return Expression(Div,another,self)\n",
    "        else:\n",
    "            return Expression(Div, Constant(another),self)\n",
    "    \n",
    "    def __pow__(self,another):\n",
    "        if isinstance(another, Expression):\n",
    "            return Expression(Pow,self,another)\n",
    "        else:\n",
    "            return Expression(Pow, self, Constant(another))\n",
    "    \n",
    "    def __rpow__(self,another):\n",
    "        if isinstance(another, Expression):\n",
    "            return Expression(Pow,another,self)\n",
    "        else:\n",
    "            return Expression(Pow, Constant(another),self)"
   ]
  },
  {
   "cell_type": "code",
   "execution_count": 87,
   "metadata": {
    "collapsed": true
   },
   "outputs": [],
   "source": [
    "class Variable(Expression):\n",
    "    def __init__(self):\n",
    "        return\n",
    "    \n",
    "    def evaluation_at(self, val_dict):\n",
    "        return val_dict[self]\n",
    "    \n",
    "    def derivative_at(self, var, val_dict):\n",
    "        return 1.0 if var is self else 0.0"
   ]
  },
  {
   "cell_type": "code",
   "execution_count": 88,
   "metadata": {
    "collapsed": true
   },
   "outputs": [],
   "source": [
    "class Constant(Expression):\n",
    "    def __init__(self, val):\n",
    "        self.val = val\n",
    "        \n",
    "    def evaluation_at(self, val_dict):\n",
    "        return self.val\n",
    "    \n",
    "    def derivative_at(self, var, val_dict):\n",
    "        return 0.0"
   ]
  },
  {
   "cell_type": "code",
   "execution_count": 89,
   "metadata": {
    "collapsed": true
   },
   "outputs": [],
   "source": [
    "class Add:\n",
    "    @staticmethod\n",
    "    def evaluation_at(sub_expr1, sub_expr2, val_dict):\n",
    "        return sub_expr1.evaluation_at(val_dict) + \\\n",
    "               sub_expr2.evaluation_at(val_dict)\n",
    "    @staticmethod\n",
    "    def derivative_at(sub_expr1, sub_expr2, var, val_dict):\n",
    "        return sub_expr1.derivative_at(var, val_dict) + \\\n",
    "               sub_expr2.derivative_at(var, val_dict)"
   ]
  },
  {
   "cell_type": "code",
   "execution_count": 90,
   "metadata": {
    "collapsed": true
   },
   "outputs": [],
   "source": [
    "class Pow:\n",
    "    \n",
    "    @staticmethod\n",
    "    def evaluation_at(sub_expr1, sub_expr2, val_dict):\n",
    "        return sub_expr1.evaluation_at(val_dict) **\\\n",
    "               sub_expr2.evaluation_at(val_dict)\n",
    "    @staticmethod\n",
    "    #f(x)^g(x) * g‘(x)  * ln( f(x) )+ f(x)^( g(x)-1 ) * g(x) * f’(x) \n",
    "    def derivative_at(sub_expr1, sub_expr2, var, val_dict):\n",
    "        return  sub_expr1.evaluation_at(val_dict)** \\\n",
    "                sub_expr2.evaluation_at(val_dict)* \\\n",
    "                sub_expr2.derivative_at(var, val_dict)*\\\n",
    "                np.log(sub_expr1.evaluation_at(val_dict))+ \\\n",
    "                sub_expr1.evaluation_at(val_dict) **\\\n",
    "                (sub_expr2.evaluation_at(val_dict)-1)*\\\n",
    "                sub_expr2.evaluation_at(val_dict)*\\\n",
    "                sub_expr1.derivative_at(var, val_dict)"
   ]
  },
  {
   "cell_type": "code",
   "execution_count": 91,
   "metadata": {
    "collapsed": true
   },
   "outputs": [],
   "source": [
    "class Sub:\n",
    "    @staticmethod\n",
    "    def evaluation_at(sub_expr1, sub_expr2, val_dict):\n",
    "        return sub_expr1.evaluation_at(val_dict) - \\\n",
    "               sub_expr2.evaluation_at(val_dict)\n",
    "    @staticmethod\n",
    "    def derivative_at(sub_expr1, sub_expr2, var, val_dict):\n",
    "        return sub_expr1.derivative_at(var, val_dict) - \\\n",
    "               sub_expr2.derivative_at(var, val_dict)"
   ]
  },
  {
   "cell_type": "code",
   "execution_count": 92,
   "metadata": {
    "collapsed": true
   },
   "outputs": [],
   "source": [
    "class Mul:\n",
    "    @staticmethod\n",
    "    def evaluation_at(sub_expr1, sub_expr2, val_dict):\n",
    "        return sub_expr1.evaluation_at(val_dict) *\\\n",
    "               sub_expr2.evaluation_at(val_dict)\n",
    "    @staticmethod\n",
    "    def derivative_at(sub_expr1, sub_expr2, var, val_dict):\n",
    "        return sub_expr1.derivative_at(var, val_dict) * \\\n",
    "               sub_expr2.evaluation_at(val_dict)+ \\\n",
    "               sub_expr1.evaluation_at(val_dict) *\\\n",
    "               sub_expr2.derivative_at(var, val_dict)"
   ]
  },
  {
   "cell_type": "code",
   "execution_count": 93,
   "metadata": {
    "collapsed": true
   },
   "outputs": [],
   "source": [
    "class Div:\n",
    "    @staticmethod\n",
    "    def evaluation_at(sub_expr1, sub_expr2, val_dict):\n",
    "        return sub_expr1.evaluation_at(val_dict) /\\\n",
    "               sub_expr2.evaluation_at(val_dict)\n",
    "    @staticmethod\n",
    "    def derivative_at(sub_expr1, sub_expr2, var, val_dict):\n",
    "        return  sub_expr1.derivative_at(var, val_dict) / \\\n",
    "                sub_expr2.evaluation_at(val_dict)+ \\\n",
    "                sub_expr1.evaluation_at(val_dict) *\\\n",
    "                sub_expr2.derivative_at(var, val_dict)/\\\n",
    "                sub_expr2.evaluation_at(val_dict)/\\\n",
    "                sub_expr2.evaluation_at(val_dict)"
   ]
  },
  {
   "cell_type": "code",
   "execution_count": 94,
   "metadata": {
    "collapsed": true
   },
   "outputs": [],
   "source": [
    "class Exp:\n",
    "    @staticmethod\n",
    "    def evaluation_at(sub_expr1, val_dict):\n",
    "        return np.exp(sub_expr1.evaluation_at(val_dict))\n",
    "    \n",
    "    @staticmethod\n",
    "    def derivative_at(sub_expr1, var, val_dict):\n",
    "        return sub_expr1.derivative_at(var, val_dict) * np.exp(sub_expr1.evaluation_at(val_dict))"
   ]
  },
  {
   "cell_type": "code",
   "execution_count": 95,
   "metadata": {
    "collapsed": true
   },
   "outputs": [],
   "source": [
    "def exp(expr):\n",
    "    return Expression(Exp, expr)"
   ]
  },
  {
   "cell_type": "code",
   "execution_count": 96,
   "metadata": {
    "collapsed": true
   },
   "outputs": [],
   "source": [
    "class Sin:\n",
    "    @staticmethod\n",
    "    def evaluation_at(sub_expr1,val_dict):\n",
    "        return np.sin(sub_expr1.evaluation_at(val_dict))\n",
    "    \n",
    "    @staticmethod\n",
    "    def derivative_at(sub_expr1,var,val_dict):\n",
    "        return sub_expr1.derivative_at(var, val_dict)*np.cos(sub_expr1.evaluation_at(val_dict)) "
   ]
  },
  {
   "cell_type": "code",
   "execution_count": 97,
   "metadata": {
    "collapsed": true
   },
   "outputs": [],
   "source": [
    "def sin(expr):\n",
    "    return Expression(Sin,expr)"
   ]
  },
  {
   "cell_type": "code",
   "execution_count": 98,
   "metadata": {
    "collapsed": true
   },
   "outputs": [],
   "source": [
    "a = Variable()\n",
    "b = Variable()\n",
    "c = a+b\n",
    "f1 = sin(a+c)"
   ]
  },
  {
   "cell_type": "code",
   "execution_count": 99,
   "metadata": {
    "collapsed": true
   },
   "outputs": [],
   "source": [
    "f2 = sin(a*b)"
   ]
  },
  {
   "cell_type": "code",
   "execution_count": 100,
   "metadata": {},
   "outputs": [
    {
     "data": {
      "text/plain": [
       "0.90929742682568171"
      ]
     },
     "execution_count": 100,
     "metadata": {},
     "output_type": "execute_result"
    }
   ],
   "source": [
    "f2.evaluation_at({a:1,b:2})"
   ]
  },
  {
   "cell_type": "code",
   "execution_count": 101,
   "metadata": {},
   "outputs": [
    {
     "data": {
      "text/plain": [
       "-1.3072872417272239"
      ]
     },
     "execution_count": 101,
     "metadata": {},
     "output_type": "execute_result"
    }
   ],
   "source": [
    "f2.derivative_at(a,{a:2,b:2})"
   ]
  },
  {
   "cell_type": "code",
   "execution_count": 17,
   "metadata": {},
   "outputs": [
    {
     "data": {
      "text/plain": [
       "-1.3072872417272239"
      ]
     },
     "execution_count": 17,
     "metadata": {},
     "output_type": "execute_result"
    }
   ],
   "source": [
    "#expected derivative\n",
    "np.cos(4)*2"
   ]
  },
  {
   "cell_type": "code",
   "execution_count": 18,
   "metadata": {},
   "outputs": [
    {
     "data": {
      "text/plain": [
       "-0.7568024953079282"
      ]
     },
     "execution_count": 18,
     "metadata": {},
     "output_type": "execute_result"
    }
   ],
   "source": [
    "# function output\n",
    "## may need to improve the interface.\n",
    "f1.evaluation_at({a:1, b: 2.0})"
   ]
  },
  {
   "cell_type": "code",
   "execution_count": 19,
   "metadata": {},
   "outputs": [
    {
     "data": {
      "text/plain": [
       "-0.7568024953079282"
      ]
     },
     "execution_count": 19,
     "metadata": {},
     "output_type": "execute_result"
    }
   ],
   "source": [
    "# expected value\n",
    "np.sin(1+2+1)"
   ]
  },
  {
   "cell_type": "code",
   "execution_count": 20,
   "metadata": {},
   "outputs": [
    {
     "data": {
      "text/plain": [
       "-0.98999249660044542"
      ]
     },
     "execution_count": 20,
     "metadata": {},
     "output_type": "execute_result"
    }
   ],
   "source": [
    "f1.derivative_at(c,{a: 1.0, b: 1.0})"
   ]
  },
  {
   "cell_type": "markdown",
   "metadata": {},
   "source": [
    "$$\\frac{df}{dc} = cos(a+c) = cos(3)$$"
   ]
  },
  {
   "cell_type": "code",
   "execution_count": 21,
   "metadata": {},
   "outputs": [
    {
     "data": {
      "text/plain": [
       "-0.98999249660044542"
      ]
     },
     "execution_count": 21,
     "metadata": {},
     "output_type": "execute_result"
    }
   ],
   "source": [
    "np.cos(3)"
   ]
  },
  {
   "cell_type": "markdown",
   "metadata": {},
   "source": [
    "Let $f(a, b, c) = e^{a-b+c}$, at $(a, b, c) = (1.0, 2.0, 3.0)$, that should be $e^{2} \\approx 7.389$."
   ]
  },
  {
   "cell_type": "code",
   "execution_count": 22,
   "metadata": {
    "collapsed": true
   },
   "outputs": [],
   "source": [
    "a = Variable()\n",
    "b = Variable()\n",
    "c = Variable()\n",
    "f = exp(a-b+c)"
   ]
  },
  {
   "cell_type": "code",
   "execution_count": 23,
   "metadata": {},
   "outputs": [
    {
     "data": {
      "text/plain": [
       "7.3890560989306504"
      ]
     },
     "execution_count": 23,
     "metadata": {},
     "output_type": "execute_result"
    }
   ],
   "source": [
    "f.evaluation_at({a: 1.0, b: 2.0, c: 3.0})"
   ]
  },
  {
   "cell_type": "code",
   "execution_count": 24,
   "metadata": {
    "collapsed": true
   },
   "outputs": [],
   "source": [
    "class Cos:\n",
    "    @staticmethod\n",
    "    def evaluation_at(sub_expr1,val_dict):\n",
    "        return np.cos(sub_expr1.evaluation_at(val_dict))\n",
    "    \n",
    "    @staticmethod\n",
    "    def derivative_at(sub_expr1,var,val_dict):\n",
    "        return -sub_expr1.derivative_at(var, val_dict)*np.sin(sub_expr1.evaluation_at(val_dict)) "
   ]
  },
  {
   "cell_type": "code",
   "execution_count": 25,
   "metadata": {
    "collapsed": true
   },
   "outputs": [],
   "source": [
    "def cos(expr):\n",
    "    return Expression(Cos,expr)"
   ]
  },
  {
   "cell_type": "code",
   "execution_count": 26,
   "metadata": {
    "collapsed": true
   },
   "outputs": [],
   "source": [
    "a = Variable()\n",
    "b = Variable()\n",
    "c = a+b\n",
    "f1 = cos(a+c)\n",
    "f2 = cos(a*b)"
   ]
  },
  {
   "cell_type": "code",
   "execution_count": 27,
   "metadata": {},
   "outputs": [
    {
     "name": "stdout",
     "output_type": "stream",
     "text": [
      "-0.653643620864\n",
      "-0.416146836547\n"
     ]
    }
   ],
   "source": [
    "print(f1.evaluation_at({a:1.0, b: 2.0}))\n",
    "print(f2.evaluation_at({a:1.0,b:2}))"
   ]
  },
  {
   "cell_type": "code",
   "execution_count": 28,
   "metadata": {},
   "outputs": [
    {
     "name": "stdout",
     "output_type": "stream",
     "text": [
      "-0.653643620864\n",
      "-0.416146836547\n"
     ]
    }
   ],
   "source": [
    "# expected\n",
    "print(np.cos(4))\n",
    "print(np.cos(2))"
   ]
  },
  {
   "cell_type": "code",
   "execution_count": 29,
   "metadata": {},
   "outputs": [
    {
     "data": {
      "text/plain": [
       "1.5136049906158564"
      ]
     },
     "execution_count": 29,
     "metadata": {},
     "output_type": "execute_result"
    }
   ],
   "source": [
    "f1.derivative_at(a,{a:1.0, b: 2.0})"
   ]
  },
  {
   "cell_type": "code",
   "execution_count": 30,
   "metadata": {},
   "outputs": [
    {
     "data": {
      "text/plain": [
       "1.5136049906158564"
      ]
     },
     "execution_count": 30,
     "metadata": {},
     "output_type": "execute_result"
    }
   ],
   "source": [
    "# expected\n",
    "-np.sin(1+3)*2"
   ]
  },
  {
   "cell_type": "code",
   "execution_count": 31,
   "metadata": {},
   "outputs": [
    {
     "data": {
      "text/plain": [
       "1.5136049906158564"
      ]
     },
     "execution_count": 31,
     "metadata": {},
     "output_type": "execute_result"
    }
   ],
   "source": [
    "f2.derivative_at(a,{a:2,b:2})"
   ]
  },
  {
   "cell_type": "code",
   "execution_count": 32,
   "metadata": {},
   "outputs": [
    {
     "name": "stdout",
     "output_type": "stream",
     "text": [
      "1.51360499062\n"
     ]
    }
   ],
   "source": [
    "#expected\n",
    "print(-np.sin(2*2)*2)"
   ]
  },
  {
   "cell_type": "code",
   "execution_count": 33,
   "metadata": {
    "collapsed": true
   },
   "outputs": [],
   "source": [
    "class Tan:\n",
    "    @staticmethod\n",
    "    def evaluation_at(sub_expr1,val_dict):\n",
    "        return np.tan(sub_expr1.evaluation_at(val_dict))\n",
    "    \n",
    "    @staticmethod\n",
    "    def derivative_at(sub_expr1,var,val_dict):\n",
    "        return sub_expr1.derivative_at(var, val_dict)*(1/np.cos(2*sub_expr1.evaluation_at(val_dict)))\n",
    "def tan(expr):\n",
    "    return Expression(Tan,expr)"
   ]
  },
  {
   "cell_type": "code",
   "execution_count": 34,
   "metadata": {
    "collapsed": true
   },
   "outputs": [],
   "source": [
    "a = Variable()\n",
    "b = Variable()\n",
    "c = a*b\n",
    "f = tan(c*b)"
   ]
  },
  {
   "cell_type": "code",
   "execution_count": 35,
   "metadata": {},
   "outputs": [
    {
     "data": {
      "text/plain": [
       "1.1578212823495775"
      ]
     },
     "execution_count": 35,
     "metadata": {},
     "output_type": "execute_result"
    }
   ],
   "source": [
    "f.evaluation_at({a:1,b:2})"
   ]
  },
  {
   "cell_type": "code",
   "execution_count": 36,
   "metadata": {},
   "outputs": [
    {
     "data": {
      "text/plain": [
       "1.1578212823495775"
      ]
     },
     "execution_count": 36,
     "metadata": {},
     "output_type": "execute_result"
    }
   ],
   "source": [
    "#expected\n",
    "np.tan(4)"
   ]
  },
  {
   "cell_type": "code",
   "execution_count": 37,
   "metadata": {},
   "outputs": [
    {
     "data": {
      "text/plain": [
       "-13.745701273380741"
      ]
     },
     "execution_count": 37,
     "metadata": {},
     "output_type": "execute_result"
    }
   ],
   "source": [
    "f.derivative_at(c,{a:1,b:2})"
   ]
  },
  {
   "cell_type": "code",
   "execution_count": 38,
   "metadata": {},
   "outputs": [
    {
     "data": {
      "text/plain": [
       "-13.745701273380741"
      ]
     },
     "execution_count": 38,
     "metadata": {},
     "output_type": "execute_result"
    }
   ],
   "source": [
    "# expected derivative\n",
    "2*(1/np.cos(4*2))"
   ]
  },
  {
   "cell_type": "code",
   "execution_count": 39,
   "metadata": {
    "collapsed": true
   },
   "outputs": [],
   "source": [
    "class Cotan:\n",
    "    @staticmethod\n",
    "    def evaluation_at(sub_expr1,val_dict):\n",
    "        return 1/np.tan(sub_expr1.evaluation_at(val_dict))\n",
    "    \n",
    "    @staticmethod\n",
    "    def derivative_at(sub_expr1,var,val_dict):\n",
    "    \n",
    "        return -sub_expr1.derivative_at(var, val_dict)*(1/np.sin(sub_expr1.evaluation_at(val_dict))**2)\n",
    "\n",
    "def cotan(expr):\n",
    "    return Expression(Cotan,expr)"
   ]
  },
  {
   "cell_type": "code",
   "execution_count": 40,
   "metadata": {
    "collapsed": true
   },
   "outputs": [],
   "source": [
    "a = Variable()\n",
    "b = Variable()\n",
    "c = a*b\n",
    "f = cotan(c*b)"
   ]
  },
  {
   "cell_type": "code",
   "execution_count": 41,
   "metadata": {},
   "outputs": [
    {
     "data": {
      "text/plain": [
       "0.86369115445061673"
      ]
     },
     "execution_count": 41,
     "metadata": {},
     "output_type": "execute_result"
    }
   ],
   "source": [
    "f.evaluation_at({a:1,b:2})"
   ]
  },
  {
   "cell_type": "code",
   "execution_count": 42,
   "metadata": {},
   "outputs": [
    {
     "data": {
      "text/plain": [
       "0.86369115445061673"
      ]
     },
     "execution_count": 42,
     "metadata": {},
     "output_type": "execute_result"
    }
   ],
   "source": [
    "1/np.tan(4)"
   ]
  },
  {
   "cell_type": "code",
   "execution_count": 43,
   "metadata": {},
   "outputs": [
    {
     "data": {
      "text/plain": [
       "-3.491924820552478"
      ]
     },
     "execution_count": 43,
     "metadata": {},
     "output_type": "execute_result"
    }
   ],
   "source": [
    "f.derivative_at(c,{a:1,b:2})"
   ]
  },
  {
   "cell_type": "code",
   "execution_count": 44,
   "metadata": {},
   "outputs": [
    {
     "data": {
      "text/plain": [
       "-3.491924820552478"
      ]
     },
     "execution_count": 44,
     "metadata": {},
     "output_type": "execute_result"
    }
   ],
   "source": [
    "-(1/(np.sin(4)**2))*2"
   ]
  },
  {
   "cell_type": "code",
   "execution_count": 45,
   "metadata": {
    "collapsed": true
   },
   "outputs": [],
   "source": [
    "class Sec:\n",
    "    @staticmethod\n",
    "    def evaluation_at(sub_expr1,val_dict):\n",
    "        return 1/np.cos(sub_expr1.evaluation_at(val_dict))\n",
    "    \n",
    "    @staticmethod\n",
    "    def derivative_at(sub_expr1,var,val_dict):\n",
    "        x=sub_expr1.evaluation_at(val_dict)\n",
    "        return sub_expr1.derivative_at(var, val_dict)*np.tan(x)*(1/np.cos(x))\n",
    "def sec(expr):\n",
    "    return Expression(Sec,expr) "
   ]
  },
  {
   "cell_type": "code",
   "execution_count": 46,
   "metadata": {
    "collapsed": true
   },
   "outputs": [],
   "source": [
    "a = Variable()\n",
    "b = Variable()\n",
    "c = a*b\n",
    "f = sec(c*b)"
   ]
  },
  {
   "cell_type": "code",
   "execution_count": 47,
   "metadata": {},
   "outputs": [
    {
     "name": "stdout",
     "output_type": "stream",
     "text": [
      "-1.52988565647\n",
      "-1.52988565647\n"
     ]
    }
   ],
   "source": [
    "print(f.evaluation_at({a:1,b:2}))\n",
    "print(1/np.cos(4))"
   ]
  },
  {
   "cell_type": "code",
   "execution_count": 48,
   "metadata": {},
   "outputs": [
    {
     "name": "stdout",
     "output_type": "stream",
     "text": [
      "-3.54266834524\n",
      "-3.54266834524\n"
     ]
    }
   ],
   "source": [
    "print(f.derivative_at(c,{a:1,b:2}))\n",
    "print(np.tan(4)*(1/np.cos(4))*2)"
   ]
  },
  {
   "cell_type": "code",
   "execution_count": 49,
   "metadata": {
    "collapsed": true
   },
   "outputs": [],
   "source": [
    "class Csc:\n",
    "    @staticmethod\n",
    "    def evaluation_at(sub_expr1,val_dict):\n",
    "        return 1/np.sin(sub_expr1.evaluation_at(val_dict))\n",
    "    \n",
    "    @staticmethod\n",
    "    def derivative_at(sub_expr1,var,val_dict):\n",
    "        x=sub_expr1.evaluation_at(val_dict)\n",
    "        return sub_expr1.derivative_at(var, val_dict)*(1/np.tan(x))*(1/np.sin(x))\n",
    "def csc(expr):\n",
    "    return Expression(Csc,expr) "
   ]
  },
  {
   "cell_type": "code",
   "execution_count": 50,
   "metadata": {
    "collapsed": true
   },
   "outputs": [],
   "source": [
    "a = Variable()\n",
    "b = Variable()\n",
    "c = a*b\n",
    "f = csc(c*b)"
   ]
  },
  {
   "cell_type": "code",
   "execution_count": 51,
   "metadata": {},
   "outputs": [
    {
     "name": "stdout",
     "output_type": "stream",
     "text": [
      "-1.32134870881\n",
      "-1.32134870881\n"
     ]
    }
   ],
   "source": [
    "print(f.evaluation_at({a:1,b:2}))\n",
    "print(1/np.sin(4))"
   ]
  },
  {
   "cell_type": "code",
   "execution_count": 52,
   "metadata": {},
   "outputs": [
    {
     "name": "stdout",
     "output_type": "stream",
     "text": [
      "-2.28247438349\n",
      "-2.28247438349\n"
     ]
    }
   ],
   "source": [
    "print(f.derivative_at(c,{a:1,b:2}))\n",
    "print((1/np.tan(4))*(1/np.sin(4))*2)"
   ]
  },
  {
   "cell_type": "code",
   "execution_count": 53,
   "metadata": {
    "collapsed": true
   },
   "outputs": [],
   "source": [
    "class Sinh:\n",
    "    @staticmethod\n",
    "    def evaluation_at(sub_expr1,val_dict):\n",
    "        return np.sinh(sub_expr1.evaluation_at(val_dict))\n",
    "    \n",
    "    @staticmethod\n",
    "    def derivative_at(sub_expr1,var,val_dict):\n",
    "        x=sub_expr1.evaluation_at(val_dict)\n",
    "        return sub_expr1.derivative_at(var, val_dict)*np.cosh(x)\n",
    "def sinh(expr):\n",
    "    return Expression(Sinh,expr) "
   ]
  },
  {
   "cell_type": "code",
   "execution_count": 54,
   "metadata": {
    "collapsed": true
   },
   "outputs": [],
   "source": [
    "a = Variable()\n",
    "b = Variable()\n",
    "c = a*b\n",
    "f = sinh(c*b)"
   ]
  },
  {
   "cell_type": "code",
   "execution_count": 55,
   "metadata": {
    "collapsed": true
   },
   "outputs": [],
   "source": [
    "assert(f.evaluation_at({a:1,b:2})==np.sinh(4))"
   ]
  },
  {
   "cell_type": "code",
   "execution_count": 56,
   "metadata": {
    "collapsed": true
   },
   "outputs": [],
   "source": [
    "assert(f.derivative_at(c,{a:1,b:2})==np.cosh(4)*2)"
   ]
  },
  {
   "cell_type": "code",
   "execution_count": 57,
   "metadata": {
    "collapsed": true
   },
   "outputs": [],
   "source": [
    "class Cosh:\n",
    "    @staticmethod\n",
    "    def evaluation_at(sub_expr1,val_dict):\n",
    "        return np.cosh(sub_expr1.evaluation_at(val_dict))\n",
    "    \n",
    "    @staticmethod\n",
    "    def derivative_at(sub_expr1,var,val_dict):\n",
    "        x=sub_expr1.evaluation_at(val_dict)\n",
    "        return sub_expr1.derivative_at(var, val_dict)*np.sinh(x)\n",
    "def cosh(expr):\n",
    "    return Expression(Cosh,expr) "
   ]
  },
  {
   "cell_type": "code",
   "execution_count": 58,
   "metadata": {
    "collapsed": true
   },
   "outputs": [],
   "source": [
    "a = Variable()\n",
    "b = Variable()\n",
    "c = a*b\n",
    "f = cosh(c*b)\n",
    "assert(f.evaluation_at({a:3,b:2})==np.cosh(12))\n",
    "assert(f.derivative_at(c,{a:3,b:2})==np.sinh(12)*2)"
   ]
  },
  {
   "cell_type": "code",
   "execution_count": 63,
   "metadata": {},
   "outputs": [],
   "source": [
    "class Tanh:\n",
    "    @staticmethod\n",
    "    def evaluation_at(sub_expr1,val_dict):\n",
    "        x = sub_expr1.evaluation_at(val_dict)\n",
    "        return np.sinh(x)/np.cosh(x)\n",
    "    \n",
    "    @staticmethod\n",
    "    def derivative_at(sub_expr1,var,val_dict):\n",
    "        x = sub_expr1.evaluation_at(val_dict)\n",
    "        return sub_expr1.derivative_at(var, val_dict)*(1/np.cosh(x)**2)\n",
    "    \n",
    "def tanh(expr):\n",
    "    return Expression(Tanh,expr) "
   ]
  },
  {
   "cell_type": "code",
   "execution_count": 64,
   "metadata": {
    "collapsed": true
   },
   "outputs": [],
   "source": [
    "a = Variable()\n",
    "b = Variable()\n",
    "c = a*b\n",
    "f = tan(c*b)\n",
    "assert(f.evaluation_at({a:3,b:2})==np.sin(12)/np.cos(12))\n",
    "assert(f.derivative_at(c,{a:3,b:2})==1/np.cos(24)*2)"
   ]
  },
  {
   "cell_type": "code",
   "execution_count": 65,
   "metadata": {
    "collapsed": true
   },
   "outputs": [],
   "source": [
    "class Csch:\n",
    "    @staticmethod\n",
    "    def evaluation_at(sub_expr1,val_dict):\n",
    "        x = sub_expr1.evaluation_at(val_dict)\n",
    "        return 1/np.sinh(x)\n",
    "    @staticmethod\n",
    "    def derivative_at(sub_expr1,var,val_dict):\n",
    "        x = sub_expr1.evaluation_at(val_dict)\n",
    "        # -csch(x)*cot(x)\n",
    "        d=-(1/np.sinh(x))*(np.cosh(x)/np.sinh(x))\n",
    "        return sub_expr1.derivative_at(var, val_dict)*d\n",
    "def csch(expr):\n",
    "    return Expression(Csch,expr) "
   ]
  },
  {
   "cell_type": "code",
   "execution_count": 66,
   "metadata": {},
   "outputs": [
    {
     "name": "stdout",
     "output_type": "stream",
     "text": [
      "1.22884247071e-05\n",
      "1.22884247071e-05\n",
      "-2.45768494161e-05\n",
      "-2.45768494161e-05\n"
     ]
    }
   ],
   "source": [
    "a = Variable()\n",
    "b = Variable()\n",
    "c = a*b\n",
    "f = csch(c*b)\n",
    "print(f.evaluation_at({a:3,b:2}))\n",
    "print(1/np.sinh(12))\n",
    "print(f.derivative_at(c,{a:3,b:2}))\n",
    "print(-(np.cosh(12)/np.sinh(12))*(1/np.sinh(12))*2)"
   ]
  },
  {
   "cell_type": "code",
   "execution_count": 67,
   "metadata": {
    "collapsed": true
   },
   "outputs": [],
   "source": [
    "class Sech:\n",
    "    def evaluation_at(sub_expr1,val_dict):\n",
    "        x = sub_expr1.evaluation_at(val_dict)\n",
    "        return 1/np.cosh(x)\n",
    "    \n",
    "    def derivative_at(sub_expr1,var,val_dict):\n",
    "        x = sub_expr1.evaluation_at(val_dict)\n",
    "        # -sech(x)tanh(x)\n",
    "        d=-(1/np.cosh(x))*(np.sinh(x)/np.cosh(x))\n",
    "        return sub_expr1.derivative_at(var, val_dict)*d\n",
    "def sech(expr):\n",
    "    return Expression(Sech,expr)     "
   ]
  },
  {
   "cell_type": "code",
   "execution_count": 68,
   "metadata": {},
   "outputs": [
    {
     "name": "stdout",
     "output_type": "stream",
     "text": [
      "0.265802228834\n",
      "0.265802228834\n",
      "-0.256240679442\n",
      "-0.256240679442\n"
     ]
    }
   ],
   "source": [
    "a = Variable()\n",
    "b = Variable()\n",
    "c = a*b\n",
    "f = sech(c*b)\n",
    "print(f.evaluation_at({a:2,b:1}))\n",
    "print(1/np.cosh(2))\n",
    "print(f.derivative_at(c,{a:2,b:1}))\n",
    "print(-(np.sinh(2)/np.cosh(2))*(1/np.cosh(2))*1)"
   ]
  },
  {
   "cell_type": "code",
   "execution_count": 69,
   "metadata": {
    "collapsed": true
   },
   "outputs": [],
   "source": [
    "class Coth:\n",
    "    @staticmethod\n",
    "    def evaluation_at(sub_expr1,val_dict):\n",
    "        x = sub_expr1.evaluation_at(val_dict)\n",
    "        return np.cosh(x)/np.sinh(x)\n",
    "    \n",
    "    @staticmethod\n",
    "    def derivative_at(sub_expr1,var,val_dict):\n",
    "        x = sub_expr1.evaluation_at(val_dict)\n",
    "        #-csch^2(x)\n",
    "        return -sub_expr1.derivative_at(var, val_dict)*(1/np.sinh(x)**2)\n",
    "\n",
    "def coth(expr):\n",
    "    return Expression(Coth,expr)    "
   ]
  },
  {
   "cell_type": "code",
   "execution_count": 70,
   "metadata": {},
   "outputs": [
    {
     "name": "stdout",
     "output_type": "stream",
     "text": [
      "1.00000000008\n",
      "1.00000000008\n",
      "-3.02010763565e-10\n",
      "-3.02010763565e-10\n"
     ]
    }
   ],
   "source": [
    "a = Variable()\n",
    "b = Variable()\n",
    "c = a*b\n",
    "f = coth(c*b)\n",
    "print(f.evaluation_at({a:3,b:2}))\n",
    "print(np.cosh(12)/np.sinh(12))\n",
    "print(f.derivative_at(c,{a:3,b:2}))\n",
    "print(-(1/np.sinh(12))**2*2)"
   ]
  },
  {
   "cell_type": "code",
   "execution_count": 71,
   "metadata": {
    "collapsed": true
   },
   "outputs": [],
   "source": [
    "class Arcsin:\n",
    "    @staticmethod\n",
    "    def evaluation_at(sub_expr1,val_dict):\n",
    "        x = sub_expr1.evaluation_at(val_dict)\n",
    "        return np.arcsin(x)\n",
    "    \n",
    "    @staticmethod\n",
    "    def derivative_at(sub_expr1,var,val_dict):\n",
    "        x = sub_expr1.evaluation_at(val_dict)\n",
    "        d = 1/np.sqrt(1-x**2)\n",
    "        #1/sqrt(1-x^2)\n",
    "        return sub_expr1.derivative_at(var, val_dict)*d\n",
    "\n",
    "def arcsin(expr):\n",
    "    return Expression(Arcsin,expr)"
   ]
  },
  {
   "cell_type": "code",
   "execution_count": 72,
   "metadata": {},
   "outputs": [
    {
     "name": "stdout",
     "output_type": "stream",
     "text": [
      "0.0500208568058\n",
      "0.0500208568058\n",
      "0.500626174322\n",
      "0.500626174322\n"
     ]
    }
   ],
   "source": [
    "a = Variable()\n",
    "b = Variable()\n",
    "c = a*b\n",
    "f = arcsin(c*b)\n",
    "print(f.evaluation_at({a:0.2,b:0.5}))\n",
    "print(np.arcsin(0.05))\n",
    "print(f.derivative_at(c,{a:0.2,b:0.5}))\n",
    "print((1/np.sqrt(1-(0.2*0.5*0.5)**2))*0.5)"
   ]
  },
  {
   "cell_type": "code",
   "execution_count": 73,
   "metadata": {
    "collapsed": true
   },
   "outputs": [],
   "source": [
    "class Arccos:\n",
    "    @staticmethod\n",
    "    def evaluation_at(sub_expr1,val_dict):\n",
    "        x = sub_expr1.evaluation_at(val_dict)\n",
    "        return np.arccos(x)\n",
    "    \n",
    "    @staticmethod\n",
    "    def derivative_at(sub_expr1,var,val_dict):\n",
    "        x = sub_expr1.evaluation_at(val_dict)\n",
    "        d = 1/np.sqrt(1-x**2)\n",
    "        #-1/sqrt(1-x^2)\n",
    "        return -sub_expr1.derivative_at(var, val_dict)*d\n",
    "\n",
    "def arccos(expr):\n",
    "    return Expression(Arccos,expr)"
   ]
  },
  {
   "cell_type": "code",
   "execution_count": 74,
   "metadata": {},
   "outputs": [
    {
     "name": "stdout",
     "output_type": "stream",
     "text": [
      "1.52077546999\n",
      "1.52077546999\n",
      "-0.500626174322\n",
      "-0.500626174322\n"
     ]
    }
   ],
   "source": [
    "a = Variable()\n",
    "b = Variable()\n",
    "c = a*b\n",
    "f = arccos(c*b)\n",
    "print(f.evaluation_at({a:0.2,b:0.5}))\n",
    "print(np.arccos(0.05))\n",
    "print(f.derivative_at(c,{a:0.2,b:0.5}))\n",
    "print((-1/np.sqrt(1-(0.2*0.5*0.5)**2))*0.5)"
   ]
  },
  {
   "cell_type": "code",
   "execution_count": 75,
   "metadata": {
    "collapsed": true
   },
   "outputs": [],
   "source": [
    "class Arctan:\n",
    "    @staticmethod\n",
    "    def evaluation_at(sub_expr1,val_dict):\n",
    "        x = sub_expr1.evaluation_at(val_dict)\n",
    "        return np.arctan(x)\n",
    "    \n",
    "    @staticmethod\n",
    "    def derivative_at(sub_expr1,var,val_dict):\n",
    "        x = sub_expr1.evaluation_at(val_dict)\n",
    "        d = 1/(1+x**2)\n",
    "        #1/1-x^2\n",
    "        return sub_expr1.derivative_at(var, val_dict)*d\n",
    "\n",
    "def arctan(expr):\n",
    "    return Expression(Arctan,expr)"
   ]
  },
  {
   "cell_type": "code",
   "execution_count": 76,
   "metadata": {},
   "outputs": [
    {
     "name": "stdout",
     "output_type": "stream",
     "text": [
      "1.51529782155\n",
      "1.51529782155\n",
      "0.00923076923076923\n",
      "0.00923076923076923\n"
     ]
    }
   ],
   "source": [
    "a = Variable()\n",
    "b = Variable()\n",
    "c = a*b\n",
    "f = arctan(c*b)\n",
    "print(f.evaluation_at({a:2,b:3}))\n",
    "print(np.arctan(18))\n",
    "print(f.derivative_at(c,{a:2,b:3}))\n",
    "print((1/(18**2+1))*3)"
   ]
  },
  {
   "cell_type": "markdown",
   "metadata": {},
   "source": [
    "$\\dfrac{\\partial f}{\\partial b} = -e^{a-b+c}$, at $(a, b, c) = (1.0, 2.0, 3.0)$, that should be $-e^{2} \\approx -7.389$."
   ]
  },
  {
   "cell_type": "code",
   "execution_count": 77,
   "metadata": {
    "scrolled": true
   },
   "outputs": [
    {
     "data": {
      "text/plain": [
       "0.23529411764705882"
      ]
     },
     "execution_count": 77,
     "metadata": {},
     "output_type": "execute_result"
    }
   ],
   "source": [
    "f.derivative_at(b, {a: 1.0, b: 2.0, c: 3.0})"
   ]
  },
  {
   "cell_type": "markdown",
   "metadata": {},
   "source": [
    "$\\dfrac{\\partial f}{\\partial a} = e^{a-b+c}$, at $(a, b) = (1.0, 2.0, 3.0)$, that should be $e^{2} \\approx 7.389$."
   ]
  },
  {
   "cell_type": "code",
   "execution_count": 74,
   "metadata": {},
   "outputs": [
    {
     "name": "stdout",
     "output_type": "stream",
     "text": [
      "-4.0\n",
      "-1.1455000338086134\n"
     ]
    },
    {
     "data": {
      "text/plain": [
       "13.893553038339718"
      ]
     },
     "execution_count": 74,
     "metadata": {},
     "output_type": "execute_result"
    }
   ],
   "source": [
    "f.derivative_at(a, {a: 1.0, b: 2.0, c: 3.0})"
   ]
  },
  {
   "cell_type": "markdown",
   "metadata": {},
   "source": [
    "Let $g(x, y) = x + e^{y-1}$, at $(x, y) = (1.0, 2.0)$, that should be $1+e \\approx 3.718$."
   ]
  },
  {
   "cell_type": "code",
   "execution_count": 75,
   "metadata": {
    "collapsed": true
   },
   "outputs": [],
   "source": [
    "x = Variable()\n",
    "y = Variable()\n",
    "g = x + exp(y-1)"
   ]
  },
  {
   "cell_type": "code",
   "execution_count": 76,
   "metadata": {},
   "outputs": [
    {
     "data": {
      "text/plain": [
       "3.718281828459045"
      ]
     },
     "execution_count": 76,
     "metadata": {},
     "output_type": "execute_result"
    }
   ],
   "source": [
    "g.evaluation_at({x: 1.0, y: 2.0})"
   ]
  },
  {
   "cell_type": "markdown",
   "metadata": {},
   "source": [
    "$\\dfrac{\\partial g}{\\partial x} = 1$"
   ]
  },
  {
   "cell_type": "code",
   "execution_count": 77,
   "metadata": {},
   "outputs": [
    {
     "data": {
      "text/plain": [
       "1.0"
      ]
     },
     "execution_count": 77,
     "metadata": {},
     "output_type": "execute_result"
    }
   ],
   "source": [
    "g.derivative_at(x, {x: 1.0, y: 2.0})"
   ]
  },
  {
   "cell_type": "markdown",
   "metadata": {},
   "source": [
    "$\\dfrac{\\partial g}{\\partial y} = e^{y-1}$, at $(x, y) = (1.0, 2.0)$, that should be $e^{1} \\approx 2.718$."
   ]
  },
  {
   "cell_type": "code",
   "execution_count": 78,
   "metadata": {},
   "outputs": [
    {
     "data": {
      "text/plain": [
       "2.718281828459045"
      ]
     },
     "execution_count": 78,
     "metadata": {},
     "output_type": "execute_result"
    }
   ],
   "source": [
    "g.derivative_at(y, {x: 1.0, y: 2.0})"
   ]
  },
  {
   "cell_type": "markdown",
   "metadata": {},
   "source": [
    "#### Test for Multiple"
   ]
  },
  {
   "cell_type": "code",
   "execution_count": 79,
   "metadata": {
    "collapsed": true
   },
   "outputs": [],
   "source": [
    "x = Variable()\n",
    "y = Variable()\n",
    "g = x*y\n",
    "f = x/y"
   ]
  },
  {
   "cell_type": "code",
   "execution_count": 80,
   "metadata": {},
   "outputs": [
    {
     "data": {
      "text/plain": [
       "4.0"
      ]
     },
     "execution_count": 80,
     "metadata": {},
     "output_type": "execute_result"
    }
   ],
   "source": [
    "g.evaluation_at({x: 2.0, y: 2.0})"
   ]
  },
  {
   "cell_type": "code",
   "execution_count": 81,
   "metadata": {},
   "outputs": [
    {
     "data": {
      "text/plain": [
       "2.0"
      ]
     },
     "execution_count": 81,
     "metadata": {},
     "output_type": "execute_result"
    }
   ],
   "source": [
    "g.derivative_at(x, {x: 1.0, y: 2.0})"
   ]
  },
  {
   "cell_type": "code",
   "execution_count": 82,
   "metadata": {},
   "outputs": [
    {
     "data": {
      "text/plain": [
       "1.5"
      ]
     },
     "execution_count": 82,
     "metadata": {},
     "output_type": "execute_result"
    }
   ],
   "source": [
    "f.evaluation_at({x: 3.0, y: 2.0})"
   ]
  },
  {
   "cell_type": "code",
   "execution_count": 53,
   "metadata": {},
   "outputs": [
    {
     "data": {
      "text/plain": [
       "1.0"
      ]
     },
     "execution_count": 53,
     "metadata": {},
     "output_type": "execute_result"
    }
   ],
   "source": [
    "f.derivative_at(y, {x: 4.0, y: 2.0})"
   ]
  },
  {
   "cell_type": "code",
   "execution_count": 54,
   "metadata": {
    "collapsed": true
   },
   "outputs": [],
   "source": [
    "a = 3.4"
   ]
  },
  {
   "cell_type": "code",
   "execution_count": 24,
   "metadata": {},
   "outputs": [
    {
     "data": {
      "text/plain": [
       "0.6666666666666666"
      ]
     },
     "execution_count": 24,
     "metadata": {},
     "output_type": "execute_result"
    }
   ],
   "source": [
    "2/3"
   ]
  },
  {
   "cell_type": "code",
   "execution_count": 107,
   "metadata": {},
   "outputs": [
    {
     "name": "stdout",
     "output_type": "stream",
     "text": [
      "nli        x           dx    \n"
     ]
    },
    {
     "name": "stderr",
     "output_type": "stream",
     "text": [
      "/Users/ting/anaconda3/lib/python3.6/site-packages/ipykernel/__main__.py:9: RuntimeWarning: invalid value encountered in log\n"
     ]
    },
    {
     "ename": "KeyError",
     "evalue": "<__main__.Variable object at 0x10f585908>",
     "output_type": "error",
     "traceback": [
      "\u001b[0;31m---------------------------------------------------------------------------\u001b[0m",
      "\u001b[0;31mKeyError\u001b[0m                                  Traceback (most recent call last)",
      "\u001b[0;32m<ipython-input-107-112a45eee719>\u001b[0m in \u001b[0;36m<module>\u001b[0;34m()\u001b[0m\n\u001b[1;32m     12\u001b[0m \u001b[0;32mwhile\u001b[0m \u001b[0;32mTrue\u001b[0m\u001b[0;34m:\u001b[0m\u001b[0;34m\u001b[0m\u001b[0m\n\u001b[1;32m     13\u001b[0m     \u001b[0mevalf\u001b[0m \u001b[0;34m=\u001b[0m \u001b[0mexp\u001b[0m\u001b[0;34m(\u001b[0m\u001b[0msin\u001b[0m\u001b[0;34m(\u001b[0m\u001b[0mx\u001b[0m\u001b[0;34m)\u001b[0m\u001b[0;34m)\u001b[0m \u001b[0;34m-\u001b[0m \u001b[0mcos\u001b[0m\u001b[0;34m(\u001b[0m\u001b[0mx\u001b[0m\u001b[0;34m**\u001b[0m\u001b[0;36m0.5\u001b[0m\u001b[0;34m)\u001b[0m \u001b[0;34m*\u001b[0m \u001b[0msin\u001b[0m\u001b[0;34m(\u001b[0m\u001b[0;34m(\u001b[0m\u001b[0mcos\u001b[0m\u001b[0;34m(\u001b[0m\u001b[0mx\u001b[0m\u001b[0;34m)\u001b[0m\u001b[0;34m**\u001b[0m\u001b[0;36m2.0\u001b[0m \u001b[0;34m+\u001b[0m \u001b[0mx\u001b[0m\u001b[0;34m**\u001b[0m\u001b[0;36m2.0\u001b[0m\u001b[0;34m)\u001b[0m\u001b[0;34m**\u001b[0m\u001b[0;36m0.5\u001b[0m\u001b[0;34m)\u001b[0m \u001b[0;31m# Get function value\u001b[0m\u001b[0;34m\u001b[0m\u001b[0m\n\u001b[0;32m---> 14\u001b[0;31m     \u001b[0mdx\u001b[0m \u001b[0;34m=\u001b[0m \u001b[0;34m-\u001b[0m\u001b[0mevalf\u001b[0m\u001b[0;34m.\u001b[0m\u001b[0mevaluation_at\u001b[0m\u001b[0;34m(\u001b[0m\u001b[0;34m{\u001b[0m\u001b[0mx\u001b[0m\u001b[0;34m:\u001b[0m\u001b[0;36m2\u001b[0m\u001b[0;34m}\u001b[0m\u001b[0;34m)\u001b[0m \u001b[0;34m/\u001b[0m \u001b[0mevalf\u001b[0m\u001b[0;34m.\u001b[0m\u001b[0mderivative_at\u001b[0m\u001b[0;34m(\u001b[0m\u001b[0mx\u001b[0m\u001b[0;34m,\u001b[0m\u001b[0;34m{\u001b[0m\u001b[0mx\u001b[0m\u001b[0;34m:\u001b[0m\u001b[0;36m2\u001b[0m\u001b[0;34m}\u001b[0m\u001b[0;34m)\u001b[0m \u001b[0;31m# Update step\u001b[0m\u001b[0;34m\u001b[0m\u001b[0m\n\u001b[0m\u001b[1;32m     15\u001b[0m     \u001b[0mx\u001b[0m \u001b[0;34m=\u001b[0m \u001b[0mx\u001b[0m \u001b[0;34m+\u001b[0m \u001b[0mdx\u001b[0m \u001b[0;31m# Update solution\u001b[0m\u001b[0;34m\u001b[0m\u001b[0m\n\u001b[1;32m     16\u001b[0m     \u001b[0;31m#print(\"{0}    {1:8.6f}     {2:8.6e}\".format(nli+1, x, dx))\u001b[0m\u001b[0;34m\u001b[0m\u001b[0;34m\u001b[0m\u001b[0m\n",
      "\u001b[0;32m<ipython-input-86-37e788d1137e>\u001b[0m in \u001b[0;36mevaluation_at\u001b[0;34m(self, val_dict)\u001b[0m\n\u001b[1;32m     15\u001b[0m         \u001b[0;32melse\u001b[0m\u001b[0;34m:\u001b[0m\u001b[0;34m\u001b[0m\u001b[0m\n\u001b[1;32m     16\u001b[0m             return self._ele_func.evaluation_at(\n\u001b[0;32m---> 17\u001b[0;31m                 self._sub_expr1, self._sub_expr2, val_dict)\n\u001b[0m\u001b[1;32m     18\u001b[0m \u001b[0;34m\u001b[0m\u001b[0m\n\u001b[1;32m     19\u001b[0m     \u001b[0;32mdef\u001b[0m \u001b[0mderivative_at\u001b[0m\u001b[0;34m(\u001b[0m\u001b[0mself\u001b[0m\u001b[0;34m,\u001b[0m \u001b[0mvar\u001b[0m\u001b[0;34m,\u001b[0m \u001b[0mval_dict\u001b[0m\u001b[0;34m)\u001b[0m\u001b[0;34m:\u001b[0m\u001b[0;34m\u001b[0m\u001b[0m\n",
      "\u001b[0;32m<ipython-input-91-ca28722c550c>\u001b[0m in \u001b[0;36mevaluation_at\u001b[0;34m(sub_expr1, sub_expr2, val_dict)\u001b[0m\n\u001b[1;32m      2\u001b[0m     \u001b[0;34m@\u001b[0m\u001b[0mstaticmethod\u001b[0m\u001b[0;34m\u001b[0m\u001b[0m\n\u001b[1;32m      3\u001b[0m     \u001b[0;32mdef\u001b[0m \u001b[0mevaluation_at\u001b[0m\u001b[0;34m(\u001b[0m\u001b[0msub_expr1\u001b[0m\u001b[0;34m,\u001b[0m \u001b[0msub_expr2\u001b[0m\u001b[0;34m,\u001b[0m \u001b[0mval_dict\u001b[0m\u001b[0;34m)\u001b[0m\u001b[0;34m:\u001b[0m\u001b[0;34m\u001b[0m\u001b[0m\n\u001b[0;32m----> 4\u001b[0;31m         \u001b[0;32mreturn\u001b[0m \u001b[0msub_expr1\u001b[0m\u001b[0;34m.\u001b[0m\u001b[0mevaluation_at\u001b[0m\u001b[0;34m(\u001b[0m\u001b[0mval_dict\u001b[0m\u001b[0;34m)\u001b[0m \u001b[0;34m-\u001b[0m                \u001b[0msub_expr2\u001b[0m\u001b[0;34m.\u001b[0m\u001b[0mevaluation_at\u001b[0m\u001b[0;34m(\u001b[0m\u001b[0mval_dict\u001b[0m\u001b[0;34m)\u001b[0m\u001b[0;34m\u001b[0m\u001b[0m\n\u001b[0m\u001b[1;32m      5\u001b[0m     \u001b[0;34m@\u001b[0m\u001b[0mstaticmethod\u001b[0m\u001b[0;34m\u001b[0m\u001b[0m\n\u001b[1;32m      6\u001b[0m     \u001b[0;32mdef\u001b[0m \u001b[0mderivative_at\u001b[0m\u001b[0;34m(\u001b[0m\u001b[0msub_expr1\u001b[0m\u001b[0;34m,\u001b[0m \u001b[0msub_expr2\u001b[0m\u001b[0;34m,\u001b[0m \u001b[0mvar\u001b[0m\u001b[0;34m,\u001b[0m \u001b[0mval_dict\u001b[0m\u001b[0;34m)\u001b[0m\u001b[0;34m:\u001b[0m\u001b[0;34m\u001b[0m\u001b[0m\n",
      "\u001b[0;32m<ipython-input-86-37e788d1137e>\u001b[0m in \u001b[0;36mevaluation_at\u001b[0;34m(self, val_dict)\u001b[0m\n\u001b[1;32m     10\u001b[0m         \u001b[0;32mif\u001b[0m \u001b[0mself\u001b[0m\u001b[0;34m.\u001b[0m\u001b[0m_sub_expr2\u001b[0m \u001b[0;32mis\u001b[0m \u001b[0;32mNone\u001b[0m\u001b[0;34m:\u001b[0m\u001b[0;34m\u001b[0m\u001b[0m\n\u001b[1;32m     11\u001b[0m             return self._ele_func.evaluation_at(\n\u001b[0;32m---> 12\u001b[0;31m                 self._sub_expr1, val_dict)\n\u001b[0m\u001b[1;32m     13\u001b[0m \u001b[0;34m\u001b[0m\u001b[0m\n\u001b[1;32m     14\u001b[0m         \u001b[0;31m# self._sub_expr2 not None implies that self._ele_func is a binary operator\u001b[0m\u001b[0;34m\u001b[0m\u001b[0;34m\u001b[0m\u001b[0m\n",
      "\u001b[0;32m<ipython-input-94-6e70353e66f9>\u001b[0m in \u001b[0;36mevaluation_at\u001b[0;34m(sub_expr1, val_dict)\u001b[0m\n\u001b[1;32m      2\u001b[0m     \u001b[0;34m@\u001b[0m\u001b[0mstaticmethod\u001b[0m\u001b[0;34m\u001b[0m\u001b[0m\n\u001b[1;32m      3\u001b[0m     \u001b[0;32mdef\u001b[0m \u001b[0mevaluation_at\u001b[0m\u001b[0;34m(\u001b[0m\u001b[0msub_expr1\u001b[0m\u001b[0;34m,\u001b[0m \u001b[0mval_dict\u001b[0m\u001b[0;34m)\u001b[0m\u001b[0;34m:\u001b[0m\u001b[0;34m\u001b[0m\u001b[0m\n\u001b[0;32m----> 4\u001b[0;31m         \u001b[0;32mreturn\u001b[0m \u001b[0mnp\u001b[0m\u001b[0;34m.\u001b[0m\u001b[0mexp\u001b[0m\u001b[0;34m(\u001b[0m\u001b[0msub_expr1\u001b[0m\u001b[0;34m.\u001b[0m\u001b[0mevaluation_at\u001b[0m\u001b[0;34m(\u001b[0m\u001b[0mval_dict\u001b[0m\u001b[0;34m)\u001b[0m\u001b[0;34m)\u001b[0m\u001b[0;34m\u001b[0m\u001b[0m\n\u001b[0m\u001b[1;32m      5\u001b[0m \u001b[0;34m\u001b[0m\u001b[0m\n\u001b[1;32m      6\u001b[0m     \u001b[0;34m@\u001b[0m\u001b[0mstaticmethod\u001b[0m\u001b[0;34m\u001b[0m\u001b[0m\n",
      "\u001b[0;32m<ipython-input-86-37e788d1137e>\u001b[0m in \u001b[0;36mevaluation_at\u001b[0;34m(self, val_dict)\u001b[0m\n\u001b[1;32m     10\u001b[0m         \u001b[0;32mif\u001b[0m \u001b[0mself\u001b[0m\u001b[0;34m.\u001b[0m\u001b[0m_sub_expr2\u001b[0m \u001b[0;32mis\u001b[0m \u001b[0;32mNone\u001b[0m\u001b[0;34m:\u001b[0m\u001b[0;34m\u001b[0m\u001b[0m\n\u001b[1;32m     11\u001b[0m             return self._ele_func.evaluation_at(\n\u001b[0;32m---> 12\u001b[0;31m                 self._sub_expr1, val_dict)\n\u001b[0m\u001b[1;32m     13\u001b[0m \u001b[0;34m\u001b[0m\u001b[0m\n\u001b[1;32m     14\u001b[0m         \u001b[0;31m# self._sub_expr2 not None implies that self._ele_func is a binary operator\u001b[0m\u001b[0;34m\u001b[0m\u001b[0;34m\u001b[0m\u001b[0m\n",
      "\u001b[0;32m<ipython-input-96-1029885759c2>\u001b[0m in \u001b[0;36mevaluation_at\u001b[0;34m(sub_expr1, val_dict)\u001b[0m\n\u001b[1;32m      2\u001b[0m     \u001b[0;34m@\u001b[0m\u001b[0mstaticmethod\u001b[0m\u001b[0;34m\u001b[0m\u001b[0m\n\u001b[1;32m      3\u001b[0m     \u001b[0;32mdef\u001b[0m \u001b[0mevaluation_at\u001b[0m\u001b[0;34m(\u001b[0m\u001b[0msub_expr1\u001b[0m\u001b[0;34m,\u001b[0m\u001b[0mval_dict\u001b[0m\u001b[0;34m)\u001b[0m\u001b[0;34m:\u001b[0m\u001b[0;34m\u001b[0m\u001b[0m\n\u001b[0;32m----> 4\u001b[0;31m         \u001b[0;32mreturn\u001b[0m \u001b[0mnp\u001b[0m\u001b[0;34m.\u001b[0m\u001b[0msin\u001b[0m\u001b[0;34m(\u001b[0m\u001b[0msub_expr1\u001b[0m\u001b[0;34m.\u001b[0m\u001b[0mevaluation_at\u001b[0m\u001b[0;34m(\u001b[0m\u001b[0mval_dict\u001b[0m\u001b[0;34m)\u001b[0m\u001b[0;34m)\u001b[0m\u001b[0;34m\u001b[0m\u001b[0m\n\u001b[0m\u001b[1;32m      5\u001b[0m \u001b[0;34m\u001b[0m\u001b[0m\n\u001b[1;32m      6\u001b[0m     \u001b[0;34m@\u001b[0m\u001b[0mstaticmethod\u001b[0m\u001b[0;34m\u001b[0m\u001b[0m\n",
      "\u001b[0;32m<ipython-input-86-37e788d1137e>\u001b[0m in \u001b[0;36mevaluation_at\u001b[0;34m(self, val_dict)\u001b[0m\n\u001b[1;32m     15\u001b[0m         \u001b[0;32melse\u001b[0m\u001b[0;34m:\u001b[0m\u001b[0;34m\u001b[0m\u001b[0m\n\u001b[1;32m     16\u001b[0m             return self._ele_func.evaluation_at(\n\u001b[0;32m---> 17\u001b[0;31m                 self._sub_expr1, self._sub_expr2, val_dict)\n\u001b[0m\u001b[1;32m     18\u001b[0m \u001b[0;34m\u001b[0m\u001b[0m\n\u001b[1;32m     19\u001b[0m     \u001b[0;32mdef\u001b[0m \u001b[0mderivative_at\u001b[0m\u001b[0;34m(\u001b[0m\u001b[0mself\u001b[0m\u001b[0;34m,\u001b[0m \u001b[0mvar\u001b[0m\u001b[0;34m,\u001b[0m \u001b[0mval_dict\u001b[0m\u001b[0;34m)\u001b[0m\u001b[0;34m:\u001b[0m\u001b[0;34m\u001b[0m\u001b[0m\n",
      "\u001b[0;32m<ipython-input-89-58c3bc73dd36>\u001b[0m in \u001b[0;36mevaluation_at\u001b[0;34m(sub_expr1, sub_expr2, val_dict)\u001b[0m\n\u001b[1;32m      2\u001b[0m     \u001b[0;34m@\u001b[0m\u001b[0mstaticmethod\u001b[0m\u001b[0;34m\u001b[0m\u001b[0m\n\u001b[1;32m      3\u001b[0m     \u001b[0;32mdef\u001b[0m \u001b[0mevaluation_at\u001b[0m\u001b[0;34m(\u001b[0m\u001b[0msub_expr1\u001b[0m\u001b[0;34m,\u001b[0m \u001b[0msub_expr2\u001b[0m\u001b[0;34m,\u001b[0m \u001b[0mval_dict\u001b[0m\u001b[0;34m)\u001b[0m\u001b[0;34m:\u001b[0m\u001b[0;34m\u001b[0m\u001b[0m\n\u001b[0;32m----> 4\u001b[0;31m         \u001b[0;32mreturn\u001b[0m \u001b[0msub_expr1\u001b[0m\u001b[0;34m.\u001b[0m\u001b[0mevaluation_at\u001b[0m\u001b[0;34m(\u001b[0m\u001b[0mval_dict\u001b[0m\u001b[0;34m)\u001b[0m \u001b[0;34m+\u001b[0m                \u001b[0msub_expr2\u001b[0m\u001b[0;34m.\u001b[0m\u001b[0mevaluation_at\u001b[0m\u001b[0;34m(\u001b[0m\u001b[0mval_dict\u001b[0m\u001b[0;34m)\u001b[0m\u001b[0;34m\u001b[0m\u001b[0m\n\u001b[0m\u001b[1;32m      5\u001b[0m     \u001b[0;34m@\u001b[0m\u001b[0mstaticmethod\u001b[0m\u001b[0;34m\u001b[0m\u001b[0m\n\u001b[1;32m      6\u001b[0m     \u001b[0;32mdef\u001b[0m \u001b[0mderivative_at\u001b[0m\u001b[0;34m(\u001b[0m\u001b[0msub_expr1\u001b[0m\u001b[0;34m,\u001b[0m \u001b[0msub_expr2\u001b[0m\u001b[0;34m,\u001b[0m \u001b[0mvar\u001b[0m\u001b[0;34m,\u001b[0m \u001b[0mval_dict\u001b[0m\u001b[0;34m)\u001b[0m\u001b[0;34m:\u001b[0m\u001b[0;34m\u001b[0m\u001b[0m\n",
      "\u001b[0;32m<ipython-input-87-e1a740693947>\u001b[0m in \u001b[0;36mevaluation_at\u001b[0;34m(self, val_dict)\u001b[0m\n\u001b[1;32m      4\u001b[0m \u001b[0;34m\u001b[0m\u001b[0m\n\u001b[1;32m      5\u001b[0m     \u001b[0;32mdef\u001b[0m \u001b[0mevaluation_at\u001b[0m\u001b[0;34m(\u001b[0m\u001b[0mself\u001b[0m\u001b[0;34m,\u001b[0m \u001b[0mval_dict\u001b[0m\u001b[0;34m)\u001b[0m\u001b[0;34m:\u001b[0m\u001b[0;34m\u001b[0m\u001b[0m\n\u001b[0;32m----> 6\u001b[0;31m         \u001b[0;32mreturn\u001b[0m \u001b[0mval_dict\u001b[0m\u001b[0;34m[\u001b[0m\u001b[0mself\u001b[0m\u001b[0;34m]\u001b[0m\u001b[0;34m\u001b[0m\u001b[0m\n\u001b[0m\u001b[1;32m      7\u001b[0m \u001b[0;34m\u001b[0m\u001b[0m\n\u001b[1;32m      8\u001b[0m     \u001b[0;32mdef\u001b[0m \u001b[0mderivative_at\u001b[0m\u001b[0;34m(\u001b[0m\u001b[0mself\u001b[0m\u001b[0;34m,\u001b[0m \u001b[0mvar\u001b[0m\u001b[0;34m,\u001b[0m \u001b[0mval_dict\u001b[0m\u001b[0;34m)\u001b[0m\u001b[0;34m:\u001b[0m\u001b[0;34m\u001b[0m\u001b[0m\n",
      "\u001b[0;31mKeyError\u001b[0m: <__main__.Variable object at 0x10f585908>"
     ]
    }
   ],
   "source": [
    "x=Variable()\n",
    "f=exp(sin(x)) - cos(x**0.5) * sin((cos(x)**2.0 + x**2.0)**0.5)\n",
    "\n",
    "### Prepare for nonlinear solver\n",
    "\n",
    "tol = 1.0e-06 # Solver tolerance\n",
    "nmax = 25 # Maximum number of nonlinear iterations\n",
    "\n",
    "nli = 0 # Nonlinear iteration counter\n",
    "\n",
    "print(\"nli        x           dx    \") # Print-out information\n",
    "while True:\n",
    "    evalf = exp(sin(x)) - cos(x**0.5) * sin((cos(x)**2.0 + x**2.0)**0.5) # Get function value\n",
    "    dx = -evalf.evaluation_at({x:2}) / evalf.derivative_at(x,{x:2}) # Update step\n",
    "    x = x + dx # Update solution\n",
    "    #print(\"{0}    {1:8.6f}     {2:8.6e}\".format(nli+1, x, dx))\n",
    "\n",
    "    # Check for convergence\n",
    "    if abs(dx) <= tol:\n",
    "        print(\"Found solution after {} iterations.\".format(nli+1))\n",
    "        print(\"There is a root at x = {0:6.4f}.\".format(x))\n",
    "        break\n",
    "\n",
    "    # Check iteration count\n",
    "    if nli > nmax:\n",
    "        print(\"Exceeded allowable max iterations without finding a root.\")\n",
    "        break\n",
    "\n",
    "    nli += 1 # Increment nonlinear iteration count"
   ]
  },
  {
   "cell_type": "code",
   "execution_count": null,
   "metadata": {
    "collapsed": true
   },
   "outputs": [],
   "source": []
  }
 ],
 "metadata": {
  "kernelspec": {
   "display_name": "Python [default]",
   "language": "python",
   "name": "python3"
  },
  "language_info": {
   "codemirror_mode": {
    "name": "ipython",
    "version": 3
   },
   "file_extension": ".py",
   "mimetype": "text/x-python",
   "name": "python",
   "nbconvert_exporter": "python",
   "pygments_lexer": "ipython3",
   "version": "3.6.3"
  }
 },
 "nbformat": 4,
 "nbformat_minor": 2
}
