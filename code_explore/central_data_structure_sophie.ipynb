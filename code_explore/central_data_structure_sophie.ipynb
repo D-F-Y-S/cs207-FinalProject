{
 "cells": [
  {
   "cell_type": "code",
   "execution_count": 4,
   "metadata": {},
   "outputs": [],
   "source": [
    "import numpy as np"
   ]
  },
  {
   "cell_type": "code",
   "execution_count": 5,
   "metadata": {},
   "outputs": [],
   "source": [
    "class Expression:\n",
    "    def __init__(self, ele_func, sub_expr1, sub_expr2=None):\n",
    "        self._ele_func  = ele_func\n",
    "        self._sub_expr1 = sub_expr1\n",
    "        self._sub_expr2 = sub_expr2\n",
    "    \n",
    "    def evaluation_at(self, val_dict):\n",
    "        \n",
    "        # self._sub_expr2 is None implies that self._ele_func is an unary operator\n",
    "        if self._sub_expr2 is None: \n",
    "            return self._ele_func.evaluation_at(\n",
    "                self._sub_expr1, val_dict)\n",
    "        \n",
    "        # self._sub_expr2 not None implies that self._ele_func is a binary operator\n",
    "        else:\n",
    "            return self._ele_func.evaluation_at(\n",
    "                self._sub_expr1, self._sub_expr2, val_dict)\n",
    "    \n",
    "    def derivative_at(self, var, val_dict):\n",
    "        \n",
    "        if var is self: return 1.0\n",
    "        \n",
    "        # sub_expr2 is None implies that _ele_func is an unary operator\n",
    "        if self._sub_expr2 is None:\n",
    "            return self._ele_func.derivative_at(\n",
    "                self._sub_expr1, var, val_dict)\n",
    "        \n",
    "        # sub_expr2 not None implies that _ele_func is a binary operator\n",
    "        else:\n",
    "            return self._ele_func.derivative_at(\n",
    "                self._sub_expr1, self._sub_expr2, var, val_dict)\n",
    "    \n",
    "    def __add__(self, another):\n",
    "        if isinstance(another, Expression):\n",
    "            return Expression(Add, self, another)\n",
    "        # if the other operand is not an Expression, then it must be a number\n",
    "        # the number then should be converted to a Constant\n",
    "        else:\n",
    "            return Expression(Add, self, Constant(another))\n",
    "    \n",
    "    def __radd__(self, another):\n",
    "        if isinstance(another, Expression):\n",
    "            return Expression(Add, another, self)\n",
    "        else:\n",
    "            return Expression(Add, Constant(another), self)\n",
    "    \n",
    "    def __sub__(self, another):\n",
    "        if isinstance(another, Expression):\n",
    "            return Expression(Sub, self, another)\n",
    "        else:\n",
    "            return Expression(Sub, self, Constant(another))\n",
    "    \n",
    "    def __rsub__(self, another):\n",
    "        if isinstance(another, Expression):\n",
    "            return Expression(Sub, another, self)\n",
    "        else:\n",
    "            return Expression(Sub, Constant(another), self)\n",
    "        \n",
    "\n",
    "    def __mul__(self, another):\n",
    "        if isinstance(another, Expression):\n",
    "            return Expression(Mul,self,another)\n",
    "        else:\n",
    "            return Expression(Mul, self, Constant(another))\n",
    "\n",
    "    def __rmul__(self, another):\n",
    "        if isinstance(another, Expression):\n",
    "            return Expression(Mul,another,self)\n",
    "        else:\n",
    "            return Expression(Mul, Constant(another),self)\n",
    "    \n",
    "    def __truediv__(self, another):\n",
    "        if isinstance(another, Expression):\n",
    "            return Expression(Div,self,another)\n",
    "        else:\n",
    "            return Expression(Div, self, Constant(another))\n",
    "\n",
    "    def __rtruediv__(self, another):\n",
    "        if isinstance(another, Expression):\n",
    "            return Expression(Div,another,self)\n",
    "        else:\n",
    "            return Expression(Div, Constant(another),self)"
   ]
  },
  {
   "cell_type": "code",
   "execution_count": 6,
   "metadata": {},
   "outputs": [],
   "source": [
    "class Variable(Expression):\n",
    "    def __init__(self):\n",
    "        return\n",
    "    \n",
    "    def evaluation_at(self, val_dict):\n",
    "        return val_dict[self]\n",
    "    \n",
    "    def derivative_at(self, var, val_dict):\n",
    "        return 1.0 if var is self else 0.0"
   ]
  },
  {
   "cell_type": "code",
   "execution_count": 7,
   "metadata": {},
   "outputs": [],
   "source": [
    "class Constant(Expression):\n",
    "    def __init__(self, val):\n",
    "        self.val = val\n",
    "        \n",
    "    def evaluation_at(self, val_dict):\n",
    "        return self.val\n",
    "    \n",
    "    def derivative_at(self, var, val_dict):\n",
    "        return 0.0"
   ]
  },
  {
   "cell_type": "code",
   "execution_count": 8,
   "metadata": {},
   "outputs": [],
   "source": [
    "class Add:\n",
    "    @staticmethod\n",
    "    def evaluation_at(sub_expr1, sub_expr2, val_dict):\n",
    "        return sub_expr1.evaluation_at(val_dict) + \\\n",
    "               sub_expr2.evaluation_at(val_dict)\n",
    "    @staticmethod\n",
    "    def derivative_at(sub_expr1, sub_expr2, var, val_dict):\n",
    "        return sub_expr1.derivative_at(var, val_dict) + \\\n",
    "               sub_expr2.derivative_at(var, val_dict)"
   ]
  },
  {
   "cell_type": "code",
   "execution_count": 9,
   "metadata": {},
   "outputs": [],
   "source": [
    "class Sub:\n",
    "    @staticmethod\n",
    "    def evaluation_at(sub_expr1, sub_expr2, val_dict):\n",
    "        return sub_expr1.evaluation_at(val_dict) - \\\n",
    "               sub_expr2.evaluation_at(val_dict)\n",
    "    @staticmethod\n",
    "    def derivative_at(sub_expr1, sub_expr2, var, val_dict):\n",
    "        return sub_expr1.derivative_at(var, val_dict) - \\\n",
    "               sub_expr2.derivative_at(var, val_dict)"
   ]
  },
  {
   "cell_type": "code",
   "execution_count": 10,
   "metadata": {},
   "outputs": [],
   "source": [
    "class Mul:\n",
    "    @staticmethod\n",
    "    def evaluation_at(sub_expr1, sub_expr2, val_dict):\n",
    "        return sub_expr1.evaluation_at(val_dict) *\\\n",
    "               sub_expr2.evaluation_at(val_dict)\n",
    "    @staticmethod\n",
    "    def derivative_at(sub_expr1, sub_expr2, var, val_dict):\n",
    "        return sub_expr1.derivative_at(var, val_dict) * \\\n",
    "               sub_expr2.evaluation_at(val_dict)+ \\\n",
    "               sub_expr1.evaluation_at(val_dict) *\\\n",
    "               sub_expr2.derivative_at(var, val_dict)"
   ]
  },
  {
   "cell_type": "code",
   "execution_count": 11,
   "metadata": {},
   "outputs": [],
   "source": [
    "class Div:\n",
    "    @staticmethod\n",
    "    def evaluation_at(sub_expr1, sub_expr2, val_dict):\n",
    "        return sub_expr1.evaluation_at(val_dict) /\\\n",
    "               sub_expr2.evaluation_at(val_dict)\n",
    "    @staticmethod\n",
    "    def derivative_at(sub_expr1, sub_expr2, var, val_dict):\n",
    "        return  sub_expr1.derivative_at(var, val_dict) / \\\n",
    "                sub_expr2.evaluation_at(val_dict)+ \\\n",
    "                sub_expr1.evaluation_at(val_dict) *\\\n",
    "                sub_expr2.derivative_at(var, val_dict)/\\\n",
    "                sub_expr2.evaluation_at(val_dict)/\\\n",
    "                sub_expr2.evaluation_at(val_dict)"
   ]
  },
  {
   "cell_type": "code",
   "execution_count": 12,
   "metadata": {},
   "outputs": [],
   "source": [
    "class Exp:\n",
    "    @staticmethod\n",
    "    def evaluation_at(sub_expr1, val_dict):\n",
    "        return np.exp(sub_expr1.evaluation_at(val_dict))\n",
    "    \n",
    "    @staticmethod\n",
    "    def derivative_at(sub_expr1, var, val_dict):\n",
    "        return sub_expr1.derivative_at(var, val_dict) * np.exp(sub_expr1.evaluation_at(val_dict))"
   ]
  },
  {
   "cell_type": "code",
   "execution_count": 13,
   "metadata": {},
   "outputs": [],
   "source": [
    "def exp(expr):\n",
    "    return Expression(Exp, expr)"
   ]
  },
  {
   "cell_type": "code",
   "execution_count": 14,
   "metadata": {},
   "outputs": [],
   "source": [
    "class Sin:\n",
    "    @staticmethod\n",
    "    def evaluation_at(sub_expr1,val_dict):\n",
    "        return np.sin(sub_expr1.evaluation_at(val_dict))\n",
    "    \n",
    "    @staticmethod\n",
    "    def derivative_at(sub_expr1,var,val_dict):\n",
    "        return sub_expr1.derivative_at(var, val_dict)*np.cos(sub_expr1.evaluation_at(val_dict)) "
   ]
  },
  {
   "cell_type": "code",
   "execution_count": 15,
   "metadata": {},
   "outputs": [],
   "source": [
    "def sin(expr):\n",
    "    return Expression(Sin,expr)"
   ]
  },
  {
   "cell_type": "code",
   "execution_count": 16,
   "metadata": {},
   "outputs": [],
   "source": [
    "a = Variable()\n",
    "b = Variable()\n",
    "c = a+b\n",
    "f1 = sin(a+c)"
   ]
  },
  {
   "cell_type": "code",
   "execution_count": 17,
   "metadata": {},
   "outputs": [],
   "source": [
    "f2 = sin(a*b)"
   ]
  },
  {
   "cell_type": "code",
   "execution_count": 18,
   "metadata": {},
   "outputs": [
    {
     "data": {
      "text/plain": [
       "0.9092974268256817"
      ]
     },
     "execution_count": 18,
     "metadata": {},
     "output_type": "execute_result"
    }
   ],
   "source": [
    "f2.evaluation_at({a:1,b:2})"
   ]
  },
  {
   "cell_type": "code",
   "execution_count": 19,
   "metadata": {},
   "outputs": [
    {
     "data": {
      "text/plain": [
       "-1.3072872417272239"
      ]
     },
     "execution_count": 19,
     "metadata": {},
     "output_type": "execute_result"
    }
   ],
   "source": [
    "f2.derivative_at(a,{a:2,b:2})"
   ]
  },
  {
   "cell_type": "code",
   "execution_count": 20,
   "metadata": {},
   "outputs": [
    {
     "data": {
      "text/plain": [
       "-1.3072872417272239"
      ]
     },
     "execution_count": 20,
     "metadata": {},
     "output_type": "execute_result"
    }
   ],
   "source": [
    "#expected derivative\n",
    "np.cos(4)*2"
   ]
  },
  {
   "cell_type": "code",
   "execution_count": 21,
   "metadata": {},
   "outputs": [
    {
     "data": {
      "text/plain": [
       "-0.7568024953079282"
      ]
     },
     "execution_count": 21,
     "metadata": {},
     "output_type": "execute_result"
    }
   ],
   "source": [
    "# function output\n",
    "## may need to improve the interface.\n",
    "f1.evaluation_at({a:1, b: 2.0})"
   ]
  },
  {
   "cell_type": "code",
   "execution_count": 22,
   "metadata": {},
   "outputs": [
    {
     "data": {
      "text/plain": [
       "-0.7568024953079282"
      ]
     },
     "execution_count": 22,
     "metadata": {},
     "output_type": "execute_result"
    }
   ],
   "source": [
    "# expected value\n",
    "np.sin(1+2+1)"
   ]
  },
  {
   "cell_type": "code",
   "execution_count": 23,
   "metadata": {},
   "outputs": [
    {
     "data": {
      "text/plain": [
       "-0.9899924966004454"
      ]
     },
     "execution_count": 23,
     "metadata": {},
     "output_type": "execute_result"
    }
   ],
   "source": [
    "f1.derivative_at(c,{a: 1.0, b: 1.0})"
   ]
  },
  {
   "cell_type": "markdown",
   "metadata": {},
   "source": [
    "$$\\frac{df}{dc} = cos(a+c) = cos(3)$$"
   ]
  },
  {
   "cell_type": "code",
   "execution_count": 24,
   "metadata": {},
   "outputs": [
    {
     "data": {
      "text/plain": [
       "-0.9899924966004454"
      ]
     },
     "execution_count": 24,
     "metadata": {},
     "output_type": "execute_result"
    }
   ],
   "source": [
    "np.cos(3)"
   ]
  },
  {
   "cell_type": "markdown",
   "metadata": {},
   "source": [
    "Let $f(a, b, c) = e^{a-b+c}$, at $(a, b, c) = (1.0, 2.0, 3.0)$, that should be $e^{2} \\approx 7.389$."
   ]
  },
  {
   "cell_type": "code",
   "execution_count": 25,
   "metadata": {},
   "outputs": [],
   "source": [
    "a = Variable()\n",
    "b = Variable()\n",
    "c = Variable()\n",
    "f = exp(a-b+c)"
   ]
  },
  {
   "cell_type": "code",
   "execution_count": 26,
   "metadata": {},
   "outputs": [
    {
     "data": {
      "text/plain": [
       "7.38905609893065"
      ]
     },
     "execution_count": 26,
     "metadata": {},
     "output_type": "execute_result"
    }
   ],
   "source": [
    "f.evaluation_at({a: 1.0, b: 2.0, c: 3.0})"
   ]
  },
  {
   "cell_type": "code",
   "execution_count": 27,
   "metadata": {},
   "outputs": [],
   "source": [
    "class Cos:\n",
    "    @staticmethod\n",
    "    def evaluation_at(sub_expr1,val_dict):\n",
    "        return np.cos(sub_expr1.evaluation_at(val_dict))\n",
    "    \n",
    "    @staticmethod\n",
    "    def derivative_at(sub_expr1,var,val_dict):\n",
    "        return -sub_expr1.derivative_at(var, val_dict)*np.sin(sub_expr1.evaluation_at(val_dict)) "
   ]
  },
  {
   "cell_type": "code",
   "execution_count": 28,
   "metadata": {},
   "outputs": [],
   "source": [
    "def cos(expr):\n",
    "    return Expression(Cos,expr)"
   ]
  },
  {
   "cell_type": "code",
   "execution_count": 29,
   "metadata": {},
   "outputs": [],
   "source": [
    "a = Variable()\n",
    "b = Variable()\n",
    "c = a+b\n",
    "f1 = cos(a+c)\n",
    "f2 = cos(a*b)"
   ]
  },
  {
   "cell_type": "code",
   "execution_count": 30,
   "metadata": {},
   "outputs": [
    {
     "name": "stdout",
     "output_type": "stream",
     "text": [
      "-0.6536436208636119\n",
      "-0.4161468365471424\n"
     ]
    }
   ],
   "source": [
    "print(f1.evaluation_at({a:1.0, b: 2.0}))\n",
    "print(f2.evaluation_at({a:1.0,b:2}))"
   ]
  },
  {
   "cell_type": "code",
   "execution_count": 31,
   "metadata": {},
   "outputs": [
    {
     "name": "stdout",
     "output_type": "stream",
     "text": [
      "-0.6536436208636119\n",
      "-0.4161468365471424\n"
     ]
    }
   ],
   "source": [
    "# expected\n",
    "print(np.cos(4))\n",
    "print(np.cos(2))"
   ]
  },
  {
   "cell_type": "code",
   "execution_count": 32,
   "metadata": {},
   "outputs": [
    {
     "data": {
      "text/plain": [
       "1.5136049906158564"
      ]
     },
     "execution_count": 32,
     "metadata": {},
     "output_type": "execute_result"
    }
   ],
   "source": [
    "f1.derivative_at(a,{a:1.0, b: 2.0})"
   ]
  },
  {
   "cell_type": "code",
   "execution_count": 33,
   "metadata": {},
   "outputs": [
    {
     "data": {
      "text/plain": [
       "1.5136049906158564"
      ]
     },
     "execution_count": 33,
     "metadata": {},
     "output_type": "execute_result"
    }
   ],
   "source": [
    "# expected\n",
    "-np.sin(1+3)*2"
   ]
  },
  {
   "cell_type": "code",
   "execution_count": 34,
   "metadata": {},
   "outputs": [
    {
     "data": {
      "text/plain": [
       "1.5136049906158564"
      ]
     },
     "execution_count": 34,
     "metadata": {},
     "output_type": "execute_result"
    }
   ],
   "source": [
    "f2.derivative_at(a,{a:2,b:2})"
   ]
  },
  {
   "cell_type": "code",
   "execution_count": 35,
   "metadata": {},
   "outputs": [
    {
     "name": "stdout",
     "output_type": "stream",
     "text": [
      "1.5136049906158564\n"
     ]
    }
   ],
   "source": [
    "#expected\n",
    "print(-np.sin(2*2)*2)"
   ]
  },
  {
   "cell_type": "code",
   "execution_count": 36,
   "metadata": {},
   "outputs": [],
   "source": [
    "class Tan:\n",
    "    @staticmethod\n",
    "    def evaluation_at(sub_expr1,val_dict):\n",
    "        return np.tan(sub_expr1.evaluation_at(val_dict))\n",
    "    \n",
    "    @staticmethod\n",
    "    def derivative_at(sub_expr1,var,val_dict):\n",
    "        return sub_expr1.derivative_at(var, val_dict)*(1/np.cos(2*sub_expr1.evaluation_at(val_dict)))\n",
    "def tan(expr):\n",
    "    return Expression(Tan,expr)"
   ]
  },
  {
   "cell_type": "code",
   "execution_count": 37,
   "metadata": {},
   "outputs": [],
   "source": [
    "a = Variable()\n",
    "b = Variable()\n",
    "c = a*b\n",
    "f = tan(c*b)"
   ]
  },
  {
   "cell_type": "code",
   "execution_count": 38,
   "metadata": {},
   "outputs": [
    {
     "data": {
      "text/plain": [
       "1.1578212823495775"
      ]
     },
     "execution_count": 38,
     "metadata": {},
     "output_type": "execute_result"
    }
   ],
   "source": [
    "f.evaluation_at({a:1,b:2})"
   ]
  },
  {
   "cell_type": "code",
   "execution_count": 39,
   "metadata": {},
   "outputs": [
    {
     "data": {
      "text/plain": [
       "1.1578212823495775"
      ]
     },
     "execution_count": 39,
     "metadata": {},
     "output_type": "execute_result"
    }
   ],
   "source": [
    "#expected\n",
    "np.tan(4)"
   ]
  },
  {
   "cell_type": "code",
   "execution_count": 40,
   "metadata": {},
   "outputs": [
    {
     "data": {
      "text/plain": [
       "-13.74570127338074"
      ]
     },
     "execution_count": 40,
     "metadata": {},
     "output_type": "execute_result"
    }
   ],
   "source": [
    "f.derivative_at(c,{a:1,b:2})"
   ]
  },
  {
   "cell_type": "code",
   "execution_count": 41,
   "metadata": {},
   "outputs": [
    {
     "data": {
      "text/plain": [
       "-13.74570127338074"
      ]
     },
     "execution_count": 41,
     "metadata": {},
     "output_type": "execute_result"
    }
   ],
   "source": [
    "# expected derivative\n",
    "2*(1/np.cos(4*2))"
   ]
  },
  {
   "cell_type": "code",
   "execution_count": 42,
   "metadata": {},
   "outputs": [],
   "source": [
    "class Cotan:\n",
    "    @staticmethod\n",
    "    def evaluation_at(sub_expr1,val_dict):\n",
    "        return 1/np.tan(sub_expr1.evaluation_at(val_dict))\n",
    "    \n",
    "    @staticmethod\n",
    "    def derivative_at(sub_expr1,var,val_dict):\n",
    "    \n",
    "        return -sub_expr1.derivative_at(var, val_dict)*(1/np.sin(sub_expr1.evaluation_at(val_dict))**2)\n",
    "\n",
    "def cotan(expr):\n",
    "    return Expression(Cotan,expr)"
   ]
  },
  {
   "cell_type": "code",
   "execution_count": 43,
   "metadata": {},
   "outputs": [],
   "source": [
    "a = Variable()\n",
    "b = Variable()\n",
    "c = a*b\n",
    "f = cotan(c*b)"
   ]
  },
  {
   "cell_type": "code",
   "execution_count": 44,
   "metadata": {},
   "outputs": [
    {
     "data": {
      "text/plain": [
       "0.8636911544506167"
      ]
     },
     "execution_count": 44,
     "metadata": {},
     "output_type": "execute_result"
    }
   ],
   "source": [
    "f.evaluation_at({a:1,b:2})"
   ]
  },
  {
   "cell_type": "code",
   "execution_count": 45,
   "metadata": {},
   "outputs": [
    {
     "data": {
      "text/plain": [
       "0.8636911544506167"
      ]
     },
     "execution_count": 45,
     "metadata": {},
     "output_type": "execute_result"
    }
   ],
   "source": [
    "1/np.tan(4)"
   ]
  },
  {
   "cell_type": "code",
   "execution_count": 46,
   "metadata": {},
   "outputs": [
    {
     "data": {
      "text/plain": [
       "-3.491924820552478"
      ]
     },
     "execution_count": 46,
     "metadata": {},
     "output_type": "execute_result"
    }
   ],
   "source": [
    "f.derivative_at(c,{a:1,b:2})"
   ]
  },
  {
   "cell_type": "code",
   "execution_count": 47,
   "metadata": {},
   "outputs": [
    {
     "data": {
      "text/plain": [
       "-3.491924820552478"
      ]
     },
     "execution_count": 47,
     "metadata": {},
     "output_type": "execute_result"
    }
   ],
   "source": [
    "-(1/(np.sin(4)**2))*2"
   ]
  },
  {
   "cell_type": "code",
   "execution_count": 48,
   "metadata": {},
   "outputs": [],
   "source": [
    "class Sec:\n",
    "    @staticmethod\n",
    "    def evaluation_at(sub_expr1,val_dict):\n",
    "        return 1/np.cos(sub_expr1.evaluation_at(val_dict))\n",
    "    \n",
    "    @staticmethod\n",
    "    def derivative_at(sub_expr1,var,val_dict):\n",
    "        x=sub_expr1.evaluation_at(val_dict)\n",
    "        return sub_expr1.derivative_at(var, val_dict)*np.tan(x)*(1/np.cos(x))\n",
    "def sec(expr):\n",
    "    return Expression(Sec,expr) "
   ]
  },
  {
   "cell_type": "code",
   "execution_count": 49,
   "metadata": {},
   "outputs": [],
   "source": [
    "a = Variable()\n",
    "b = Variable()\n",
    "c = a*b\n",
    "f = sec(c*b)"
   ]
  },
  {
   "cell_type": "code",
   "execution_count": 50,
   "metadata": {},
   "outputs": [
    {
     "name": "stdout",
     "output_type": "stream",
     "text": [
      "-1.5298856564663974\n",
      "-1.5298856564663974\n"
     ]
    }
   ],
   "source": [
    "print(f.evaluation_at({a:1,b:2}))\n",
    "print(1/np.cos(4))"
   ]
  },
  {
   "cell_type": "code",
   "execution_count": 51,
   "metadata": {},
   "outputs": [
    {
     "name": "stdout",
     "output_type": "stream",
     "text": [
      "-3.542668345236299\n",
      "-3.542668345236299\n"
     ]
    }
   ],
   "source": [
    "print(f.derivative_at(c,{a:1,b:2}))\n",
    "print(np.tan(4)*(1/np.cos(4))*2)"
   ]
  },
  {
   "cell_type": "code",
   "execution_count": 52,
   "metadata": {},
   "outputs": [],
   "source": [
    "class Csc:\n",
    "    @staticmethod\n",
    "    def evaluation_at(sub_expr1,val_dict):\n",
    "        return 1/np.sin(sub_expr1.evaluation_at(val_dict))\n",
    "    \n",
    "    @staticmethod\n",
    "    def derivative_at(sub_expr1,var,val_dict):\n",
    "        x=sub_expr1.evaluation_at(val_dict)\n",
    "        return sub_expr1.derivative_at(var, val_dict)*(1/np.tan(x))*(1/np.sin(x))\n",
    "def csc(expr):\n",
    "    return Expression(Csc,expr) "
   ]
  },
  {
   "cell_type": "code",
   "execution_count": 53,
   "metadata": {},
   "outputs": [],
   "source": [
    "a = Variable()\n",
    "b = Variable()\n",
    "c = a*b\n",
    "f = csc(c*b)"
   ]
  },
  {
   "cell_type": "code",
   "execution_count": 54,
   "metadata": {},
   "outputs": [
    {
     "name": "stdout",
     "output_type": "stream",
     "text": [
      "-1.3213487088109024\n",
      "-1.3213487088109024\n"
     ]
    }
   ],
   "source": [
    "print(f.evaluation_at({a:1,b:2}))\n",
    "print(1/np.sin(4))"
   ]
  },
  {
   "cell_type": "code",
   "execution_count": 55,
   "metadata": {},
   "outputs": [
    {
     "name": "stdout",
     "output_type": "stream",
     "text": [
      "-2.2824743834894403\n",
      "-2.2824743834894403\n"
     ]
    }
   ],
   "source": [
    "print(f.derivative_at(c,{a:1,b:2}))\n",
    "print((1/np.tan(4))*(1/np.sin(4))*2)"
   ]
  },
  {
   "cell_type": "code",
   "execution_count": 56,
   "metadata": {},
   "outputs": [],
   "source": [
    "class Sinh:\n",
    "    @staticmethod\n",
    "    def evaluation_at(sub_expr1,val_dict):\n",
    "        return np.sinh(sub_expr1.evaluation_at(val_dict))\n",
    "    \n",
    "    @staticmethod\n",
    "    def derivative_at(sub_expr1,var,val_dict):\n",
    "        x=sub_expr1.evaluation_at(val_dict)\n",
    "        return sub_expr1.derivative_at(var, val_dict)*np.cosh(x)\n",
    "def sinh(expr):\n",
    "    return Expression(Sinh,expr) "
   ]
  },
  {
   "cell_type": "code",
   "execution_count": 57,
   "metadata": {},
   "outputs": [],
   "source": [
    "a = Variable()\n",
    "b = Variable()\n",
    "c = a*b\n",
    "f = sinh(c*b)"
   ]
  },
  {
   "cell_type": "code",
   "execution_count": 64,
   "metadata": {},
   "outputs": [],
   "source": [
    "assert(f.evaluation_at({a:1,b:2})==np.sinh(4))"
   ]
  },
  {
   "cell_type": "code",
   "execution_count": 63,
   "metadata": {},
   "outputs": [],
   "source": [
    "assert(f.derivative_at(c,{a:1,b:2})==np.cosh(4)*2)"
   ]
  },
  {
   "cell_type": "code",
   "execution_count": 66,
   "metadata": {},
   "outputs": [],
   "source": [
    "class Cosh:\n",
    "    @staticmethod\n",
    "    def evaluation_at(sub_expr1,val_dict):\n",
    "        return np.cosh(sub_expr1.evaluation_at(val_dict))\n",
    "    \n",
    "    @staticmethod\n",
    "    def derivative_at(sub_expr1,var,val_dict):\n",
    "        x=sub_expr1.evaluation_at(val_dict)\n",
    "        return sub_expr1.derivative_at(var, val_dict)*np.sinh(x)\n",
    "def cosh(expr):\n",
    "    return Expression(Cosh,expr) "
   ]
  },
  {
   "cell_type": "code",
   "execution_count": 67,
   "metadata": {},
   "outputs": [],
   "source": [
    "a = Variable()\n",
    "b = Variable()\n",
    "c = a*b\n",
    "f = cosh(c*b)\n",
    "assert(f.evaluation_at({a:3,b:2})==np.cosh(12))\n",
    "assert(f.derivative_at(c,{a:3,b:2})==np.sinh(12)*2)"
   ]
  },
  {
   "cell_type": "code",
   "execution_count": null,
   "metadata": {},
   "outputs": [],
   "source": [
    "class Tanh\n",
    "    @staticmethod\n",
    "    def evaluation_at(sub_expr1,val_dict):\n",
    "        x = sub_expr1.evaluation_at(val_dict)\n",
    "        return np.sinh(x)/np.cosh(x)\n",
    "    \n",
    "    @staticmethod\n",
    "    def derivative_at(sub_expr1,var,val_dict):\n",
    "        x = sub_expr1.evaluation_at(val_dict)\n",
    "        return sub_expr1.derivative_at(var, val_dict)*(1/np.cosh(x)**2)\n",
    "def tanh(expr):\n",
    "    return Expression(Tanh,expr) "
   ]
  },
  {
   "cell_type": "code",
   "execution_count": 68,
   "metadata": {},
   "outputs": [],
   "source": [
    "a = Variable()\n",
    "b = Variable()\n",
    "c = a*b\n",
    "f = tan(c*b)\n",
    "assert(f.evaluation_at({a:3,b:2})==np.sin(12)/np.cos(12))\n",
    "assert(f.derivative_at(c,{a:3,b:2})==1/np.cos(24)*2)"
   ]
  },
  {
   "cell_type": "code",
   "execution_count": 65,
   "metadata": {},
   "outputs": [],
   "source": [
    "class Csch:\n",
    "    @staticmethod\n",
    "    def evaluation_at(sub_expr1,val_dict):\n",
    "        x = sub_expr1.evaluation_at(val_dict)\n",
    "        return 1/np.sinh(x)\n",
    "    @staticmethod\n",
    "    def derivative_at(sub_expr1,var,val_dict):\n",
    "        x = sub_expr1.evaluation_at(val_dict)\n",
    "        # -csch(x)*cot(x)\n",
    "        d=-(1/np.sinh(x))*(np.cosh(x)/np.sinh(x))\n",
    "        return sub_expr1.derivative_at(var, val_dict)*d\n",
    "def csch(expr):\n",
    "    return Expression(Csch,expr) "
   ]
  },
  {
   "cell_type": "code",
   "execution_count": 72,
   "metadata": {},
   "outputs": [
    {
     "name": "stdout",
     "output_type": "stream",
     "text": [
      "1.2288424707120323e-05\n",
      "1.2288424707120323e-05\n",
      "-2.4576849416096264e-05\n",
      "-2.4576849416096264e-05\n"
     ]
    }
   ],
   "source": [
    "a = Variable()\n",
    "b = Variable()\n",
    "c = a*b\n",
    "f = csch(c*b)\n",
    "print(f.evaluation_at({a:3,b:2}))\n",
    "print(1/np.sinh(12))\n",
    "print(f.derivative_at(c,{a:3,b:2}))\n",
    "print(-(np.cosh(12)/np.sinh(12))*(1/np.sinh(12))*2)"
   ]
  },
  {
   "cell_type": "code",
   "execution_count": 75,
   "metadata": {},
   "outputs": [],
   "source": [
    "class Sech:\n",
    "    def evaluation_at(sub_expr1,val_dict):\n",
    "        x = sub_expr1.evaluation_at(val_dict)\n",
    "        return 1/np.cosh(x)\n",
    "    \n",
    "    def derivative_at(sub_expr1,var,val_dict):\n",
    "        x = sub_expr1.evaluation_at(val_dict)\n",
    "        # -sech(x)tanh(x)\n",
    "        d=-(1/np.cosh(x))*(np.sinh(x)/np.cosh(x))\n",
    "        return sub_expr1.derivative_at(var, val_dict)*d\n",
    "def sech(expr):\n",
    "    return Expression(Sech,expr)     "
   ]
  },
  {
   "cell_type": "code",
   "execution_count": 79,
   "metadata": {},
   "outputs": [
    {
     "name": "stdout",
     "output_type": "stream",
     "text": [
      "0.2658022288340797\n",
      "0.2658022288340797\n",
      "-0.2562406794416764\n",
      "-0.2562406794416764\n"
     ]
    }
   ],
   "source": [
    "a = Variable()\n",
    "b = Variable()\n",
    "c = a*b\n",
    "f = sech(c*b)\n",
    "print(f.evaluation_at({a:2,b:1}))\n",
    "print(1/np.cosh(2))\n",
    "print(f.derivative_at(c,{a:2,b:1}))\n",
    "print(-(np.sinh(2)/np.cosh(2))*(1/np.cosh(2))*1)"
   ]
  },
  {
   "cell_type": "code",
   "execution_count": 81,
   "metadata": {},
   "outputs": [],
   "source": [
    "class Coth:\n",
    "    @staticmethod\n",
    "    def evaluation_at(sub_expr1,val_dict):\n",
    "        x = sub_expr1.evaluation_at(val_dict)\n",
    "        return np.cosh(x)/np.sinh(x)\n",
    "    \n",
    "    @staticmethod\n",
    "    def derivative_at(sub_expr1,var,val_dict):\n",
    "        x = sub_expr1.evaluation_at(val_dict)\n",
    "        #-csch^2(x)\n",
    "        return -sub_expr1.derivative_at(var, val_dict)*(1/np.sinh(x)**2)\n",
    "\n",
    "def coth(expr):\n",
    "    return Expression(Coth,expr)    "
   ]
  },
  {
   "cell_type": "code",
   "execution_count": 84,
   "metadata": {},
   "outputs": [
    {
     "name": "stdout",
     "output_type": "stream",
     "text": [
      "1.0000000000755027\n",
      "1.0000000000755027\n",
      "-3.020107635651304e-10\n",
      "-3.020107635651304e-10\n"
     ]
    }
   ],
   "source": [
    "a = Variable()\n",
    "b = Variable()\n",
    "c = a*b\n",
    "f = coth(c*b)\n",
    "print(f.evaluation_at({a:3,b:2}))\n",
    "print(np.cosh(12)/np.sinh(12))\n",
    "print(f.derivative_at(c,{a:3,b:2}))\n",
    "print(-(1/np.sinh(12))**2*2)"
   ]
  },
  {
   "cell_type": "code",
   "execution_count": 97,
   "metadata": {},
   "outputs": [],
   "source": [
    "class Arcsin:\n",
    "    @staticmethod\n",
    "    def evaluation_at(sub_expr1,val_dict):\n",
    "        x = sub_expr1.evaluation_at(val_dict)\n",
    "        return np.arcsin(x)\n",
    "    \n",
    "    @staticmethod\n",
    "    def derivative_at(sub_expr1,var,val_dict):\n",
    "        x = sub_expr1.evaluation_at(val_dict)\n",
    "        d = 1/np.sqrt(1-x**2)\n",
    "        #1/sqrt(1-x^2)\n",
    "        return sub_expr1.derivative_at(var, val_dict)*d\n",
    "\n",
    "def arcsin(expr):\n",
    "    return Expression(Arcsin,expr)"
   ]
  },
  {
   "cell_type": "code",
   "execution_count": 99,
   "metadata": {},
   "outputs": [
    {
     "name": "stdout",
     "output_type": "stream",
     "text": [
      "0.050020856805770016\n",
      "0.050020856805770016\n",
      "0.5006261743217588\n",
      "0.5006261743217588\n"
     ]
    }
   ],
   "source": [
    "a = Variable()\n",
    "b = Variable()\n",
    "c = a*b\n",
    "f = arcsin(c*b)\n",
    "print(f.evaluation_at({a:0.2,b:0.5}))\n",
    "print(np.arcsin(0.05))\n",
    "print(f.derivative_at(c,{a:0.2,b:0.5}))\n",
    "print((1/np.sqrt(1-(0.2*0.5*0.5)**2))*0.5)"
   ]
  },
  {
   "cell_type": "code",
   "execution_count": 102,
   "metadata": {},
   "outputs": [],
   "source": [
    "class Arccos:\n",
    "    @staticmethod\n",
    "    def evaluation_at(sub_expr1,val_dict):\n",
    "        x = sub_expr1.evaluation_at(val_dict)\n",
    "        return np.arccos(x)\n",
    "    \n",
    "    @staticmethod\n",
    "    def derivative_at(sub_expr1,var,val_dict):\n",
    "        x = sub_expr1.evaluation_at(val_dict)\n",
    "        d = 1/np.sqrt(1-x**2)\n",
    "        #-1/sqrt(1-x^2)\n",
    "        return -sub_expr1.derivative_at(var, val_dict)*d\n",
    "\n",
    "def arccos(expr):\n",
    "    return Expression(Arccos,expr)"
   ]
  },
  {
   "cell_type": "code",
   "execution_count": 103,
   "metadata": {},
   "outputs": [
    {
     "name": "stdout",
     "output_type": "stream",
     "text": [
      "1.5207754699891265\n",
      "1.5207754699891265\n",
      "-0.5006261743217588\n",
      "-0.5006261743217588\n"
     ]
    }
   ],
   "source": [
    "a = Variable()\n",
    "b = Variable()\n",
    "c = a*b\n",
    "f = arccos(c*b)\n",
    "print(f.evaluation_at({a:0.2,b:0.5}))\n",
    "print(np.arccos(0.05))\n",
    "print(f.derivative_at(c,{a:0.2,b:0.5}))\n",
    "print((-1/np.sqrt(1-(0.2*0.5*0.5)**2))*0.5)"
   ]
  },
  {
   "cell_type": "code",
   "execution_count": 111,
   "metadata": {},
   "outputs": [],
   "source": [
    "class Arctan:\n",
    "    @staticmethod\n",
    "    def evaluation_at(sub_expr1,val_dict):\n",
    "        x = sub_expr1.evaluation_at(val_dict)\n",
    "        return np.arctan(x)\n",
    "    \n",
    "    @staticmethod\n",
    "    def derivative_at(sub_expr1,var,val_dict):\n",
    "        x = sub_expr1.evaluation_at(val_dict)\n",
    "        d = 1/(1+x**2)\n",
    "        #1/1-x^2\n",
    "        return sub_expr1.derivative_at(var, val_dict)*d\n",
    "\n",
    "def arctan(expr):\n",
    "    return Expression(Arctan,expr)"
   ]
  },
  {
   "cell_type": "code",
   "execution_count": 112,
   "metadata": {},
   "outputs": [
    {
     "name": "stdout",
     "output_type": "stream",
     "text": [
      "1.5152978215491797\n",
      "1.5152978215491797\n",
      "0.00923076923076923\n",
      "0.00923076923076923\n"
     ]
    }
   ],
   "source": [
    "a = Variable()\n",
    "b = Variable()\n",
    "c = a*b\n",
    "f = arctan(c*b)\n",
    "print(f.evaluation_at({a:2,b:3}))\n",
    "print(np.arctan(18))\n",
    "print(f.derivative_at(c,{a:2,b:3}))\n",
    "print((1/(18**2+1))*3)"
   ]
  },
  {
   "cell_type": "markdown",
   "metadata": {},
   "source": [
    "$\\dfrac{\\partial f}{\\partial b} = -e^{a-b+c}$, at $(a, b, c) = (1.0, 2.0, 3.0)$, that should be $-e^{2} \\approx -7.389$."
   ]
  },
  {
   "cell_type": "code",
   "execution_count": 73,
   "metadata": {
    "scrolled": true
   },
   "outputs": [
    {
     "name": "stdout",
     "output_type": "stream",
     "text": [
      "-4.0\n",
      "-1.1455000338086134\n"
     ]
    },
    {
     "data": {
      "text/plain": [
       "13.893553038339718"
      ]
     },
     "execution_count": 73,
     "metadata": {},
     "output_type": "execute_result"
    }
   ],
   "source": [
    "f.derivative_at(b, {a: 1.0, b: 2.0, c: 3.0})"
   ]
  },
  {
   "cell_type": "markdown",
   "metadata": {},
   "source": [
    "$\\dfrac{\\partial f}{\\partial a} = e^{a-b+c}$, at $(a, b) = (1.0, 2.0, 3.0)$, that should be $e^{2} \\approx 7.389$."
   ]
  },
  {
   "cell_type": "code",
   "execution_count": 74,
   "metadata": {},
   "outputs": [
    {
     "name": "stdout",
     "output_type": "stream",
     "text": [
      "-4.0\n",
      "-1.1455000338086134\n"
     ]
    },
    {
     "data": {
      "text/plain": [
       "13.893553038339718"
      ]
     },
     "execution_count": 74,
     "metadata": {},
     "output_type": "execute_result"
    }
   ],
   "source": [
    "f.derivative_at(a, {a: 1.0, b: 2.0, c: 3.0})"
   ]
  },
  {
   "cell_type": "markdown",
   "metadata": {},
   "source": [
    "Let $g(x, y) = x + e^{y-1}$, at $(x, y) = (1.0, 2.0)$, that should be $1+e \\approx 3.718$."
   ]
  },
  {
   "cell_type": "code",
   "execution_count": 75,
   "metadata": {},
   "outputs": [],
   "source": [
    "x = Variable()\n",
    "y = Variable()\n",
    "g = x + exp(y-1)"
   ]
  },
  {
   "cell_type": "code",
   "execution_count": 76,
   "metadata": {},
   "outputs": [
    {
     "data": {
      "text/plain": [
       "3.718281828459045"
      ]
     },
     "execution_count": 76,
     "metadata": {},
     "output_type": "execute_result"
    }
   ],
   "source": [
    "g.evaluation_at({x: 1.0, y: 2.0})"
   ]
  },
  {
   "cell_type": "markdown",
   "metadata": {},
   "source": [
    "$\\dfrac{\\partial g}{\\partial x} = 1$"
   ]
  },
  {
   "cell_type": "code",
   "execution_count": 77,
   "metadata": {},
   "outputs": [
    {
     "data": {
      "text/plain": [
       "1.0"
      ]
     },
     "execution_count": 77,
     "metadata": {},
     "output_type": "execute_result"
    }
   ],
   "source": [
    "g.derivative_at(x, {x: 1.0, y: 2.0})"
   ]
  },
  {
   "cell_type": "markdown",
   "metadata": {},
   "source": [
    "$\\dfrac{\\partial g}{\\partial y} = e^{y-1}$, at $(x, y) = (1.0, 2.0)$, that should be $e^{1} \\approx 2.718$."
   ]
  },
  {
   "cell_type": "code",
   "execution_count": 78,
   "metadata": {},
   "outputs": [
    {
     "data": {
      "text/plain": [
       "2.718281828459045"
      ]
     },
     "execution_count": 78,
     "metadata": {},
     "output_type": "execute_result"
    }
   ],
   "source": [
    "g.derivative_at(y, {x: 1.0, y: 2.0})"
   ]
  },
  {
   "cell_type": "markdown",
   "metadata": {},
   "source": [
    "#### Test for Multiple"
   ]
  },
  {
   "cell_type": "code",
   "execution_count": 79,
   "metadata": {},
   "outputs": [],
   "source": [
    "x = Variable()\n",
    "y = Variable()\n",
    "g = x*y\n",
    "f = x/y"
   ]
  },
  {
   "cell_type": "code",
   "execution_count": 80,
   "metadata": {},
   "outputs": [
    {
     "data": {
      "text/plain": [
       "4.0"
      ]
     },
     "execution_count": 80,
     "metadata": {},
     "output_type": "execute_result"
    }
   ],
   "source": [
    "g.evaluation_at({x: 2.0, y: 2.0})"
   ]
  },
  {
   "cell_type": "code",
   "execution_count": 81,
   "metadata": {},
   "outputs": [
    {
     "data": {
      "text/plain": [
       "2.0"
      ]
     },
     "execution_count": 81,
     "metadata": {},
     "output_type": "execute_result"
    }
   ],
   "source": [
    "g.derivative_at(x, {x: 1.0, y: 2.0})"
   ]
  },
  {
   "cell_type": "code",
   "execution_count": 82,
   "metadata": {},
   "outputs": [
    {
     "data": {
      "text/plain": [
       "1.5"
      ]
     },
     "execution_count": 82,
     "metadata": {},
     "output_type": "execute_result"
    }
   ],
   "source": [
    "f.evaluation_at({x: 3.0, y: 2.0})"
   ]
  },
  {
   "cell_type": "code",
   "execution_count": 53,
   "metadata": {},
   "outputs": [
    {
     "data": {
      "text/plain": [
       "1.0"
      ]
     },
     "execution_count": 53,
     "metadata": {},
     "output_type": "execute_result"
    }
   ],
   "source": [
    "f.derivative_at(y, {x: 4.0, y: 2.0})"
   ]
  },
  {
   "cell_type": "code",
   "execution_count": 54,
   "metadata": {
    "collapsed": true
   },
   "outputs": [],
   "source": [
    "a = 3.4"
   ]
  },
  {
   "cell_type": "code",
   "execution_count": 24,
   "metadata": {},
   "outputs": [
    {
     "data": {
      "text/plain": [
       "0.6666666666666666"
      ]
     },
     "execution_count": 24,
     "metadata": {},
     "output_type": "execute_result"
    }
   ],
   "source": [
    "2/3"
   ]
  },
  {
   "cell_type": "code",
   "execution_count": null,
   "metadata": {
    "collapsed": true
   },
   "outputs": [],
   "source": []
  }
 ],
 "metadata": {
  "kernelspec": {
   "display_name": "Python 3",
   "language": "python",
   "name": "python3"
  },
  "language_info": {
   "codemirror_mode": {
    "name": "ipython",
    "version": 3
   },
   "file_extension": ".py",
   "mimetype": "text/x-python",
   "name": "python",
   "nbconvert_exporter": "python",
   "pygments_lexer": "ipython3",
   "version": "3.6.4"
  }
 },
 "nbformat": 4,
 "nbformat_minor": 2
}
