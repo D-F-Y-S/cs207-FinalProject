{
 "cells": [
  {
   "cell_type": "code",
   "execution_count": 1,
   "metadata": {},
   "outputs": [],
   "source": [
    "import numpy as np\n",
    "import autodiff.forward as fw\n",
    "import autodiff.backprop as bp"
   ]
  },
  {
   "cell_type": "code",
   "execution_count": 2,
   "metadata": {},
   "outputs": [],
   "source": [
    "def equals(a, b, tol=1e-10):\n",
    "    \"\"\"\n",
    "    Function comparing equal with accomodation to precision difference\n",
    "    \"\"\"\n",
    "    return np.abs(a-b) <= tol"
   ]
  },
  {
   "cell_type": "code",
   "execution_count": null,
   "metadata": {},
   "outputs": [],
   "source": [
    "a = fw.Variable()\n",
    "val_dict = {b:2}\n",
    "c = fw.exp(b)\n",
    "bp.back_propagation(c,val_dict)\n",
    "b."
   ]
  },
  {
   "cell_type": "code",
   "execution_count": 12,
   "metadata": {},
   "outputs": [
    {
     "name": "stdout",
     "output_type": "stream",
     "text": [
      "2.35212222801502e-08\n",
      "2.35212222801502e-08\n",
      "\n",
      "\n",
      "1.9601018566791832e-09\n",
      "5.328109258939859e-09\n",
      "\n",
      "\n",
      "1.9601018566791832e-09\n",
      "1.9601018566791832e-09\n",
      "\n",
      "\n",
      "1.9601018566791832e-09\n",
      "1.9601018566791832e-09\n",
      "\n",
      "\n",
      "1.9601018566791832e-09\n",
      "1.9601018566791832e-09\n",
      "\n",
      "\n",
      "-0.9999999990199491\n",
      "-0.9999999990199491\n",
      "\n",
      "\n",
      "-1\n",
      "-1.0\n",
      "\n",
      "\n",
      "1\n",
      "1.0\n",
      "\n",
      "\n",
      "Passed\n"
     ]
    }
   ],
   "source": [
    "a = fw.Variable()\n",
    "b = fw.Variable()\n",
    "c = fw.power(a,3)\n",
    "d = fw.exp(b)\n",
    "e = c+d\n",
    "f = fw.coth(e)\n",
    "g = fw.log(f)\n",
    "h = -g\n",
    "val_dict = {b:1,a:2}\n",
    "bp.back_propagation(h,val_dict)\n",
    "var_list = [a,b,c,d,e,f,g,h]\n",
    "for i in var_list:\n",
    "    print(i.bder)\n",
    "    print(h.derivative_at(i,val_dict))\n",
    "    print(\"\\n\")\n",
    "    #assert(equals(i.bder, h.derivative_at(i,val_dict)))\n",
    "print('Passed')"
   ]
  },
  {
   "cell_type": "code",
   "execution_count": 11,
   "metadata": {},
   "outputs": [
    {
     "data": {
      "text/plain": [
       "-9.800509288198415e-10"
      ]
     },
     "execution_count": 11,
     "metadata": {},
     "output_type": "execute_result"
    }
   ],
   "source": [
    "h.val"
   ]
  },
  {
   "cell_type": "code",
   "execution_count": null,
   "metadata": {},
   "outputs": [],
   "source": []
  }
 ],
 "metadata": {
  "kernelspec": {
   "display_name": "Python 3",
   "language": "python",
   "name": "python3"
  }
 },
 "nbformat": 4,
 "nbformat_minor": 2
}
