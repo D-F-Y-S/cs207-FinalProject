{
 "cells": [
  {
   "cell_type": "code",
   "execution_count": 1,
   "metadata": {},
   "outputs": [],
   "source": [
    "import numpy as np\n",
    "import autodiff.forward as fw\n",
    "import autodiff.backprop as bp"
   ]
  },
  {
   "cell_type": "code",
   "execution_count": 2,
   "metadata": {},
   "outputs": [],
   "source": [
    "def equals(a, b, tol=1e-10):\n",
    "    \"\"\"\n",
    "    Function comparing equal with accomodation to precision difference\n",
    "    \"\"\"\n",
    "    return np.abs(a-b) <= tol"
   ]
  },
  {
   "cell_type": "code",
   "execution_count": 4,
   "metadata": {},
   "outputs": [
    {
     "name": "stdout",
     "output_type": "stream",
     "text": [
      "Passed\n"
     ]
    }
   ],
   "source": [
    "a = fw.Variable()\n",
    "b = fw.Variable()\n",
    "c = a/b\n",
    "val_dict = {b:1,a:2}\n",
    "bp.back_propagation(c,val_dict)\n",
    "var_list = [a,b,c]\n",
    "for i in var_list:\n",
    "    assert(equals(i.bder, c.derivative_at(i,val_dict)))\n",
    "print('Passed')"
   ]
  }
 ],
 "metadata": {
  "kernelspec": {
   "display_name": "Python 3",
   "language": "python",
   "name": "python3"
  },
  "language_info": {
   "codemirror_mode": {
    "name": "ipython",
    "version": 3
   },
   "file_extension": ".py",
   "mimetype": "text/x-python",
   "name": "python",
   "nbconvert_exporter": "python",
   "pygments_lexer": "ipython3",
   "version": "3.6.4"
  }
 },
 "nbformat": 4,
 "nbformat_minor": 2
}
