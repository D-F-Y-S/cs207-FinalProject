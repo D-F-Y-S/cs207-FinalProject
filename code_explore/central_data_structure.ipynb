{
 "cells": [
  {
   "cell_type": "code",
   "execution_count": 17,
   "metadata": {
    "collapsed": true
   },
   "outputs": [],
   "source": [
    "import numpy as np"
   ]
  },
  {
   "cell_type": "code",
   "execution_count": 18,
   "metadata": {
    "collapsed": true
   },
   "outputs": [],
   "source": [
    "class Expression:\n",
    "    def __init__(self, ele_func, sub_expr1, sub_expr2=None):\n",
    "        self._ele_func  = ele_func\n",
    "        self._sub_expr1 = sub_expr1\n",
    "        self._sub_expr2 = sub_expr2\n",
    "    \n",
    "    def evaluation_at(self, val_dict):\n",
    "        \n",
    "        # self._sub_expr2 is None implies that self._ele_func is an unary operator\n",
    "        if self._sub_expr2 is None: \n",
    "            return self._ele_func.evaluation_at(\n",
    "                self._sub_expr1, val_dict)\n",
    "        \n",
    "        # self._sub_expr2 not None implies that self._ele_func is a binary operator\n",
    "        else:\n",
    "            return self._ele_func.evaluation_at(\n",
    "                self._sub_expr1, self._sub_expr2, val_dict)\n",
    "    \n",
    "    def derivative_at(self, var, val_dict):\n",
    "        \n",
    "        if var is self: return 1.0\n",
    "        \n",
    "        # sub_expr2 is None implies that _ele_func is an unary operator\n",
    "        if self._sub_expr2 is None:\n",
    "            return self._ele_func.derivative_at(\n",
    "                self._sub_expr1, var, val_dict)\n",
    "        \n",
    "        # sub_expr2 not None implies that _ele_func is a binary operator\n",
    "        else:\n",
    "            return self._ele_func.derivative_at(\n",
    "                self._sub_expr1, self._sub_expr2, var, val_dict)\n",
    "    \n",
    "    def __neg__(self):\n",
    "        return Expression(Neg, self)\n",
    "\n",
    "                \n",
    "    def __add__(self, another):\n",
    "        if isinstance(another, Expression):\n",
    "            return Expression(Add, self, another)\n",
    "        # if the other operand is not an Expression, then it must be a number\n",
    "        # the number then should be converted to a Constant\n",
    "        else:\n",
    "            return Expression(Add, self, Constant(another))\n",
    "    \n",
    "    \n",
    "    def __radd__(self, another):\n",
    "        if isinstance(another, Expression):\n",
    "            return Expression(Add, another, self)\n",
    "        else:\n",
    "            return Expression(Add, Constant(another), self)\n",
    "    \n",
    "    def __sub__(self, another):\n",
    "        if isinstance(another, Expression):\n",
    "            return Expression(Sub, self, another)\n",
    "        else:\n",
    "            return Expression(Sub, self, Constant(another))\n",
    "    \n",
    "    def __rsub__(self, another):\n",
    "        if isinstance(another, Expression):\n",
    "            return Expression(Sub, another, self)\n",
    "        else:\n",
    "            return Expression(Sub, Constant(another), self)\n",
    "        \n",
    "\n",
    "    def __mul__(self, another):\n",
    "        if isinstance(another, Expression):\n",
    "            return Expression(Mul,self,another)\n",
    "        else:\n",
    "            return Expression(Mul, self, Constant(another))\n",
    "\n",
    "    def __rmul__(self, another):\n",
    "        if isinstance(another, Expression):\n",
    "            return Expression(Mul,another,self)\n",
    "        else:\n",
    "            return Expression(Mul, Constant(another),self)\n",
    "    \n",
    "    def __truediv__(self, another):\n",
    "        if isinstance(another, Expression):\n",
    "            return Expression(Div,self,another)\n",
    "        else:\n",
    "            return Expression(Div, self, Constant(another))\n",
    "\n",
    "    def __rtruediv__(self, another):\n",
    "        if isinstance(another, Expression):\n",
    "            return Expression(Div,another,self)\n",
    "        else:\n",
    "            return Expression(Div, Constant(another),self)\n",
    "    \n",
    "    def __pow__(self,another):\n",
    "        if isinstance(another, Expression):\n",
    "            return Expression(Pow,self,another)\n",
    "        else:\n",
    "            return Expression(Pow, self, Constant(another))\n",
    "    \n",
    "    def __rpow__(self,another):\n",
    "        if isinstance(another, Expression):\n",
    "            return Expression(Pow,another,self)\n",
    "        else:\n",
    "            return Expression(Pow, Constant(another),self)"
   ]
  },
  {
   "cell_type": "code",
   "execution_count": 19,
   "metadata": {
    "collapsed": true
   },
   "outputs": [],
   "source": [
    "class Variable(Expression):\n",
    "    def __init__(self):\n",
    "        return\n",
    "    \n",
    "    def evaluation_at(self, val_dict):\n",
    "        return val_dict[self]\n",
    "    \n",
    "    def derivative_at(self, var, val_dict):\n",
    "        return 1.0 if var is self else 0.0"
   ]
  },
  {
   "cell_type": "code",
   "execution_count": 20,
   "metadata": {
    "collapsed": true
   },
   "outputs": [],
   "source": [
    "class Constant(Expression):\n",
    "    def __init__(self, val):\n",
    "        self.val = val\n",
    "        \n",
    "    def evaluation_at(self, val_dict):\n",
    "        return self.val\n",
    "    \n",
    "    def derivative_at(self, var, val_dict):\n",
    "        return 0.0"
   ]
  },
  {
   "cell_type": "code",
   "execution_count": 21,
   "metadata": {
    "collapsed": true
   },
   "outputs": [],
   "source": [
    "class Neg:\n",
    "    @staticmethod\n",
    "    def evaluation_at(sub_expr1, val_dict):\n",
    "        return -sub_expr1.evaluation_at(val_dict)\n",
    "    \n",
    "    @staticmethod\n",
    "    def derivative_at(sub_expr1, var, val_dict):\n",
    "        return -sub_expr1.derivative_at(var, val_dict)\n",
    "             "
   ]
  },
  {
   "cell_type": "code",
   "execution_count": 22,
   "metadata": {
    "collapsed": true
   },
   "outputs": [],
   "source": [
    "class Add:\n",
    "    @staticmethod\n",
    "    def evaluation_at(sub_expr1, sub_expr2, val_dict):\n",
    "        return sub_expr1.evaluation_at(val_dict) + \\\n",
    "               sub_expr2.evaluation_at(val_dict)\n",
    "    @staticmethod\n",
    "    def derivative_at(sub_expr1, sub_expr2, var, val_dict):\n",
    "        return sub_expr1.derivative_at(var, val_dict) + \\\n",
    "               sub_expr2.derivative_at(var, val_dict)"
   ]
  },
  {
   "cell_type": "code",
   "execution_count": 23,
   "metadata": {
    "collapsed": true
   },
   "outputs": [],
   "source": [
    "class Sub:\n",
    "    @staticmethod\n",
    "    def evaluation_at(sub_expr1, sub_expr2, val_dict):\n",
    "        return sub_expr1.evaluation_at(val_dict) - \\\n",
    "               sub_expr2.evaluation_at(val_dict)\n",
    "    @staticmethod\n",
    "    def derivative_at(sub_expr1, sub_expr2, var, val_dict):\n",
    "        return sub_expr1.derivative_at(var, val_dict) - \\\n",
    "               sub_expr2.derivative_at(var, val_dict)"
   ]
  },
  {
   "cell_type": "code",
   "execution_count": 24,
   "metadata": {
    "collapsed": true
   },
   "outputs": [],
   "source": [
    "class Mul:\n",
    "    @staticmethod\n",
    "    def evaluation_at(sub_expr1, sub_expr2, val_dict):\n",
    "        return sub_expr1.evaluation_at(val_dict) *\\\n",
    "               sub_expr2.evaluation_at(val_dict)\n",
    "    @staticmethod\n",
    "    def derivative_at(sub_expr1, sub_expr2, var, val_dict):\n",
    "        return sub_expr1.derivative_at(var, val_dict) * \\\n",
    "               sub_expr2.evaluation_at(val_dict)+ \\\n",
    "               sub_expr1.evaluation_at(val_dict) *\\\n",
    "               sub_expr2.derivative_at(var, val_dict)"
   ]
  },
  {
   "cell_type": "code",
   "execution_count": 25,
   "metadata": {
    "collapsed": true
   },
   "outputs": [],
   "source": [
    "class Div:\n",
    "    @staticmethod\n",
    "    def evaluation_at(sub_expr1, sub_expr2, val_dict):\n",
    "        return sub_expr1.evaluation_at(val_dict) /\\\n",
    "               sub_expr2.evaluation_at(val_dict)\n",
    "    @staticmethod\n",
    "    def derivative_at(sub_expr1, sub_expr2, var, val_dict):\n",
    "        return  sub_expr1.derivative_at(var, val_dict) / \\\n",
    "                sub_expr2.evaluation_at(val_dict)+ \\\n",
    "                sub_expr1.evaluation_at(val_dict) *\\\n",
    "                sub_expr2.derivative_at(var, val_dict)/\\\n",
    "                sub_expr2.evaluation_at(val_dict)/\\\n",
    "                sub_expr2.evaluation_at(val_dict)"
   ]
  },
  {
   "cell_type": "code",
   "execution_count": 26,
   "metadata": {
    "collapsed": true
   },
   "outputs": [],
   "source": [
    "class Pow:\n",
    "    \n",
    "    @staticmethod\n",
    "    def evaluation_at(sub_expr1, sub_expr2, val_dict):\n",
    "        return sub_expr1.evaluation_at(val_dict) **\\\n",
    "               sub_expr2.evaluation_at(val_dict)\n",
    "    @staticmethod\n",
    "    #f(x)^g(x) * g‘(x)  * ln( f(x) )+ f(x)^( g(x)-1 ) * g(x) * f’(x) \n",
    "    def derivative_at(sub_expr1, sub_expr2, var, val_dict):\n",
    "        return  sub_expr1.evaluation_at(val_dict)** \\\n",
    "                sub_expr2.evaluation_at(val_dict)* \\\n",
    "                sub_expr2.derivative_at(var, val_dict)*\\\n",
    "                np.log(sub_expr1.evaluation_at(val_dict))+ \\\n",
    "                sub_expr1.evaluation_at(val_dict) **\\\n",
    "                (sub_expr2.evaluation_at(val_dict)-1)*\\\n",
    "                sub_expr2.evaluation_at(val_dict)*\\\n",
    "                sub_expr1.derivative_at(var, val_dict)"
   ]
  },
  {
   "cell_type": "code",
   "execution_count": 27,
   "metadata": {
    "collapsed": true
   },
   "outputs": [],
   "source": [
    "class Exp:\n",
    "    @staticmethod\n",
    "    def evaluation_at(sub_expr1, val_dict):\n",
    "        return np.exp(sub_expr1.evaluation_at(val_dict))\n",
    "    \n",
    "    @staticmethod\n",
    "    def derivative_at(sub_expr1, var, val_dict):\n",
    "        return sub_expr1.derivative_at(var, val_dict) * np.exp(sub_expr1.evaluation_at(val_dict))"
   ]
  },
  {
   "cell_type": "code",
   "execution_count": 28,
   "metadata": {
    "collapsed": true
   },
   "outputs": [],
   "source": [
    "def exp(expr):\n",
    "    return Expression(Exp, expr)"
   ]
  },
  {
   "cell_type": "markdown",
   "metadata": {},
   "source": [
    "Let $f(a, b, c) = e^{a-b+c}$, at $(a, b, c) = (1.0, 2.0, 3.0)$, that should be $e^{2} \\approx 7.389$."
   ]
  },
  {
   "cell_type": "code",
   "execution_count": 29,
   "metadata": {
    "collapsed": true
   },
   "outputs": [],
   "source": [
    "a = Variable()\n",
    "b = Variable()\n",
    "c = Variable()\n",
    "f = exp(a-b+c)"
   ]
  },
  {
   "cell_type": "code",
   "execution_count": 30,
   "metadata": {},
   "outputs": [
    {
     "data": {
      "text/plain": [
       "7.3890560989306504"
      ]
     },
     "execution_count": 30,
     "metadata": {},
     "output_type": "execute_result"
    }
   ],
   "source": [
    "f.evaluation_at({a: 1.0, b: 2.0, c: 3.0})"
   ]
  },
  {
   "cell_type": "markdown",
   "metadata": {},
   "source": [
    "$\\dfrac{\\partial f}{\\partial b} = -e^{a-b+c}$, at $(a, b, c) = (1.0, 2.0, 3.0)$, that should be $-e^{2} \\approx -7.389$."
   ]
  },
  {
   "cell_type": "code",
   "execution_count": 31,
   "metadata": {
    "scrolled": true
   },
   "outputs": [
    {
     "data": {
      "text/plain": [
       "-7.3890560989306504"
      ]
     },
     "execution_count": 31,
     "metadata": {},
     "output_type": "execute_result"
    }
   ],
   "source": [
    "f.derivative_at(b, {a: 1.0, b: 2.0, c: 3.0})"
   ]
  },
  {
   "cell_type": "markdown",
   "metadata": {},
   "source": [
    "$\\dfrac{\\partial f}{\\partial a} = e^{a-b+c}$, at $(a, b) = (1.0, 2.0, 3.0)$, that should be $e^{2} \\approx 7.389$."
   ]
  },
  {
   "cell_type": "code",
   "execution_count": 32,
   "metadata": {},
   "outputs": [
    {
     "data": {
      "text/plain": [
       "7.3890560989306504"
      ]
     },
     "execution_count": 32,
     "metadata": {},
     "output_type": "execute_result"
    }
   ],
   "source": [
    "f.derivative_at(a, {a: 1.0, b: 2.0, c: 3.0})"
   ]
  },
  {
   "cell_type": "markdown",
   "metadata": {},
   "source": [
    "Let $g(x, y) = x + e^{y-1}$, at $(x, y) = (1.0, 2.0)$, that should be $1+e \\approx 3.718$."
   ]
  },
  {
   "cell_type": "code",
   "execution_count": 33,
   "metadata": {
    "collapsed": true
   },
   "outputs": [],
   "source": [
    "x = Variable()\n",
    "y = Variable()\n",
    "g = x + exp(y-1)"
   ]
  },
  {
   "cell_type": "code",
   "execution_count": 34,
   "metadata": {},
   "outputs": [
    {
     "data": {
      "text/plain": [
       "3.7182818284590451"
      ]
     },
     "execution_count": 34,
     "metadata": {},
     "output_type": "execute_result"
    }
   ],
   "source": [
    "g.evaluation_at({x: 1.0, y: 2.0})"
   ]
  },
  {
   "cell_type": "markdown",
   "metadata": {},
   "source": [
    "$\\dfrac{\\partial g}{\\partial x} = 1$"
   ]
  },
  {
   "cell_type": "code",
   "execution_count": 35,
   "metadata": {},
   "outputs": [
    {
     "data": {
      "text/plain": [
       "1.0"
      ]
     },
     "execution_count": 35,
     "metadata": {},
     "output_type": "execute_result"
    }
   ],
   "source": [
    "g.derivative_at(x, {x: 1.0, y: 2.0})"
   ]
  },
  {
   "cell_type": "markdown",
   "metadata": {},
   "source": [
    "$\\dfrac{\\partial g}{\\partial y} = e^{y-1}$, at $(x, y) = (1.0, 2.0)$, that should be $e^{1} \\approx 2.718$."
   ]
  },
  {
   "cell_type": "code",
   "execution_count": 36,
   "metadata": {},
   "outputs": [
    {
     "data": {
      "text/plain": [
       "2.7182818284590451"
      ]
     },
     "execution_count": 36,
     "metadata": {},
     "output_type": "execute_result"
    }
   ],
   "source": [
    "g.derivative_at(y, {x: 1.0, y: 2.0})"
   ]
  },
  {
   "cell_type": "markdown",
   "metadata": {},
   "source": [
    "#### Test for Multiple"
   ]
  },
  {
   "cell_type": "code",
   "execution_count": 37,
   "metadata": {
    "collapsed": true
   },
   "outputs": [],
   "source": [
    "x = Variable()\n",
    "y = Variable()\n",
    "g = x*y\n",
    "f = x/y"
   ]
  },
  {
   "cell_type": "code",
   "execution_count": 38,
   "metadata": {},
   "outputs": [
    {
     "data": {
      "text/plain": [
       "4.0"
      ]
     },
     "execution_count": 38,
     "metadata": {},
     "output_type": "execute_result"
    }
   ],
   "source": [
    "g.evaluation_at({x: 2.0, y: 2.0})"
   ]
  },
  {
   "cell_type": "code",
   "execution_count": 39,
   "metadata": {},
   "outputs": [
    {
     "data": {
      "text/plain": [
       "2.0"
      ]
     },
     "execution_count": 39,
     "metadata": {},
     "output_type": "execute_result"
    }
   ],
   "source": [
    "g.derivative_at(x, {x: 1.0, y: 2.0})"
   ]
  },
  {
   "cell_type": "code",
   "execution_count": 40,
   "metadata": {},
   "outputs": [
    {
     "data": {
      "text/plain": [
       "1.5"
      ]
     },
     "execution_count": 40,
     "metadata": {},
     "output_type": "execute_result"
    }
   ],
   "source": [
    "f.evaluation_at({x: 3.0, y: 2.0})"
   ]
  },
  {
   "cell_type": "code",
   "execution_count": 41,
   "metadata": {},
   "outputs": [
    {
     "data": {
      "text/plain": [
       "1.0"
      ]
     },
     "execution_count": 41,
     "metadata": {},
     "output_type": "execute_result"
    }
   ],
   "source": [
    "f.derivative_at(y, {x: 4.0, y: 2.0})"
   ]
  },
  {
   "cell_type": "code",
   "execution_count": 42,
   "metadata": {
    "collapsed": true
   },
   "outputs": [],
   "source": [
    "a = 3.4"
   ]
  },
  {
   "cell_type": "code",
   "execution_count": 43,
   "metadata": {},
   "outputs": [
    {
     "data": {
      "text/plain": [
       "0.6666666666666666"
      ]
     },
     "execution_count": 43,
     "metadata": {},
     "output_type": "execute_result"
    }
   ],
   "source": [
    "2/3"
   ]
  },
  {
   "cell_type": "markdown",
   "metadata": {
    "collapsed": true
   },
   "source": [
    "### Test for Power"
   ]
  },
  {
   "cell_type": "code",
   "execution_count": 44,
   "metadata": {
    "collapsed": true
   },
   "outputs": [],
   "source": [
    "x = Variable()\n",
    "y = Variable()\n",
    "g = x**y\n"
   ]
  },
  {
   "cell_type": "code",
   "execution_count": 45,
   "metadata": {},
   "outputs": [
    {
     "data": {
      "text/plain": [
       "9.0"
      ]
     },
     "execution_count": 45,
     "metadata": {},
     "output_type": "execute_result"
    }
   ],
   "source": [
    "g.evaluation_at({x: 3.0, y: 2.0})"
   ]
  },
  {
   "cell_type": "code",
   "execution_count": 46,
   "metadata": {},
   "outputs": [
    {
     "data": {
      "text/plain": [
       "6.0"
      ]
     },
     "execution_count": 46,
     "metadata": {},
     "output_type": "execute_result"
    }
   ],
   "source": [
    "g.derivative_at(x, {x: 3.0, y: 2.0})"
   ]
  },
  {
   "cell_type": "markdown",
   "metadata": {},
   "source": [
    "### Test for unary"
   ]
  },
  {
   "cell_type": "code",
   "execution_count": 47,
   "metadata": {},
   "outputs": [],
   "source": [
    "x=Variable()\n",
    "f= -x"
   ]
  },
  {
   "cell_type": "code",
   "execution_count": 48,
   "metadata": {},
   "outputs": [
    {
     "data": {
      "text/plain": [
       "-2"
      ]
     },
     "execution_count": 48,
     "metadata": {},
     "output_type": "execute_result"
    }
   ],
   "source": [
    "f.evaluation_at({x:2,y:3})"
   ]
  },
  {
   "cell_type": "code",
   "execution_count": 49,
   "metadata": {},
   "outputs": [
    {
     "data": {
      "text/plain": [
       "-1.0"
      ]
     },
     "execution_count": 49,
     "metadata": {},
     "output_type": "execute_result"
    }
   ],
   "source": [
    "f.derivative_at(x,{x:2,y:3})"
   ]
  },
  {
   "cell_type": "code",
   "execution_count": null,
   "metadata": {
    "collapsed": true
   },
   "outputs": [],
   "source": []
  }
 ],
 "metadata": {
  "kernelspec": {
   "display_name": "Python [default]",
   "language": "python",
   "name": "python3"
  },
  "language_info": {
   "codemirror_mode": {
    "name": "ipython",
    "version": 3
   },
   "file_extension": ".py",
   "mimetype": "text/x-python",
   "name": "python",
   "nbconvert_exporter": "python",
   "pygments_lexer": "ipython3",
   "version": "3.6.3"
  }
 },
 "nbformat": 4,
 "nbformat_minor": 2
}
