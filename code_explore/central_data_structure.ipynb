{
 "cells": [
  {
   "cell_type": "code",
   "execution_count": 3,
   "metadata": {
    "collapsed": true
   },
   "outputs": [],
   "source": [
    "import numpy as np"
   ]
  },
  {
   "cell_type": "code",
   "execution_count": 4,
   "metadata": {
    "collapsed": true
   },
   "outputs": [],
   "source": [
    "class Expression:\n",
    "    def __init__(self, ele_func, sub_expr1, sub_expr2=None):\n",
    "        self._ele_func  = ele_func\n",
    "        self._sub_expr1 = sub_expr1\n",
    "        self._sub_expr2 = sub_expr2\n",
    "    \n",
    "    def evaluation_at(self, val_dict):\n",
    "        \n",
    "        # self._sub_expr2 is None implies that self._ele_func is an unary operator\n",
    "        if self._sub_expr2 is None: \n",
    "            return self._ele_func.evaluation_at(\n",
    "                self._sub_expr1, val_dict)\n",
    "        \n",
    "        # self._sub_expr2 not None implies that self._ele_func is a binary operator\n",
    "        else:\n",
    "            return self._ele_func.evaluation_at(\n",
    "                self._sub_expr1, self._sub_expr2, val_dict)\n",
    "    \n",
    "    def derivative_at(self, var, val_dict):\n",
    "        \n",
    "        # sub_expr2 is None implies that _ele_func is an unary operator\n",
    "        if self._sub_expr2 is None:\n",
    "            return self._ele_func.derivative_at(\n",
    "                self._sub_expr1, var, val_dict)\n",
    "        \n",
    "        # sub_expr2 not None implies that _ele_func is a binary operator\n",
    "        else:\n",
    "            return self._ele_func.derivative_at(\n",
    "                self._sub_expr1, self._sub_expr2, var, val_dict)\n",
    "    \n",
    "    def __add__(self, another):\n",
    "        if isinstance(another, Expression):\n",
    "            return Expression(Add, self, another)\n",
    "        # if the other operand is not an Expression, then it must be a number\n",
    "        # the number then should be converted to a Constant\n",
    "        else:\n",
    "            return Expression(Add, self, Constant(another))\n",
    "    \n",
    "    def __radd__(self, another):\n",
    "        if isinstance(another, Expression):\n",
    "            return Expression(Add, another, self)\n",
    "        else:\n",
    "            return Expression(Add, Constant(another), self)\n",
    "    \n",
    "    def __sub__(self, another):\n",
    "        if isinstance(another, Expression):\n",
    "            return Expression(Sub, self, another)\n",
    "        else:\n",
    "            return Expression(Sub, self, Constant(another))\n",
    "    \n",
    "    def __rsub__(self, another):\n",
    "        if isinstance(another, Expression):\n",
    "            return Expression(Sub, another, self)\n",
    "        else:\n",
    "            return Expression(Sub, Constant(another), self)\n",
    "        \n",
    "\n",
    "    def __mul__(self, another):\n",
    "        if isinstance(another, Expression):\n",
    "            return Expression(Mul,self,another)\n",
    "        else:\n",
    "            return Expression(Mul, self, Constant(another))\n",
    "\n",
    "    def __rmul__(self, another):\n",
    "        if isinstance(another, Expression):\n",
    "            return Expression(Mul,another,self)\n",
    "        else:\n",
    "            return Expression(Mul, Constant(another),self)\n",
    "    \n",
    "    def __truediv__(self, another):\n",
    "        if isinstance(another, Expression):\n",
    "            return Expression(Div,self,another)\n",
    "        else:\n",
    "            return Expression(Div, self, Constant(another))\n",
    "\n",
    "    def __rtruediv__(self, another):\n",
    "        if isinstance(another, Expression):\n",
    "            return Expression(Div,another,self)\n",
    "        else:\n",
    "            return Expression(Div, Constant(another),self)\n",
    "    \n",
    "    def __pow__(self,another):\n",
    "        if isinstance(another, Expression):\n",
    "            return Expression(Pow,self,another)\n",
    "        else:\n",
    "            return Expression(Pow, self, Constant(another))\n",
    "    \n",
    "    def __rpow__(self,another):\n",
    "        if isinstance(another, Expression):\n",
    "            return Expression(Pow,another,self)\n",
    "        else:\n",
    "            return Expression(Pow, Constant(another),self)"
   ]
  },
  {
   "cell_type": "code",
   "execution_count": 5,
   "metadata": {
    "collapsed": true
   },
   "outputs": [],
   "source": [
    "class Variable(Expression):\n",
    "    def __init__(self):\n",
    "        return\n",
    "    \n",
    "    def evaluation_at(self, val_dict):\n",
    "        return val_dict[self]\n",
    "    \n",
    "    def derivative_at(self, var, val_dict):\n",
    "        return 1.0 if var is self else 0.0"
   ]
  },
  {
   "cell_type": "code",
   "execution_count": 6,
   "metadata": {
    "collapsed": true
   },
   "outputs": [],
   "source": [
    "class Constant(Expression):\n",
    "    def __init__(self, val):\n",
    "        self.val = val\n",
    "        \n",
    "    def evaluation_at(self, val_dict):\n",
    "        return self.val\n",
    "    \n",
    "    def derivative_at(self, var, val_dict):\n",
    "        return 0.0"
   ]
  },
  {
   "cell_type": "code",
   "execution_count": 7,
   "metadata": {
    "collapsed": true
   },
   "outputs": [],
   "source": [
    "class Add:\n",
    "    @staticmethod\n",
    "    def evaluation_at(sub_expr1, sub_expr2, val_dict):\n",
    "        return sub_expr1.evaluation_at(val_dict) + \\\n",
    "               sub_expr2.evaluation_at(val_dict)\n",
    "    @staticmethod\n",
    "    def derivative_at(sub_expr1, sub_expr2, var, val_dict):\n",
    "        return sub_expr1.derivative_at(var, val_dict) + \\\n",
    "               sub_expr2.derivative_at(var, val_dict)"
   ]
  },
  {
   "cell_type": "code",
   "execution_count": 8,
   "metadata": {
    "collapsed": true
   },
   "outputs": [],
   "source": [
    "class Sub:\n",
    "    @staticmethod\n",
    "    def evaluation_at(sub_expr1, sub_expr2, val_dict):\n",
    "        return sub_expr1.evaluation_at(val_dict) - \\\n",
    "               sub_expr2.evaluation_at(val_dict)\n",
    "    @staticmethod\n",
    "    def derivative_at(sub_expr1, sub_expr2, var, val_dict):\n",
    "        return sub_expr1.derivative_at(var, val_dict) - \\\n",
    "               sub_expr2.derivative_at(var, val_dict)"
   ]
  },
  {
   "cell_type": "code",
   "execution_count": 9,
   "metadata": {
    "collapsed": true
   },
   "outputs": [],
   "source": [
    "class Mul:\n",
    "    @staticmethod\n",
    "    def evaluation_at(sub_expr1, sub_expr2, val_dict):\n",
    "        return sub_expr1.evaluation_at(val_dict) *\\\n",
    "               sub_expr2.evaluation_at(val_dict)\n",
    "    @staticmethod\n",
    "    def derivative_at(sub_expr1, sub_expr2, var, val_dict):\n",
    "        return sub_expr1.derivative_at(var, val_dict) * \\\n",
    "               sub_expr2.evaluation_at(val_dict)+ \\\n",
    "               sub_expr1.evaluation_at(val_dict) *\\\n",
    "               sub_expr2.derivative_at(var, val_dict)"
   ]
  },
  {
   "cell_type": "code",
   "execution_count": 10,
   "metadata": {
    "collapsed": true
   },
   "outputs": [],
   "source": [
    "class Div:\n",
    "    @staticmethod\n",
    "    def evaluation_at(sub_expr1, sub_expr2, val_dict):\n",
    "        return sub_expr1.evaluation_at(val_dict) /\\\n",
    "               sub_expr2.evaluation_at(val_dict)\n",
    "    @staticmethod\n",
    "    def derivative_at(sub_expr1, sub_expr2, var, val_dict):\n",
    "        return  sub_expr1.derivative_at(var, val_dict) / \\\n",
    "                sub_expr2.evaluation_at(val_dict)+ \\\n",
    "                sub_expr1.evaluation_at(val_dict) *\\\n",
    "                sub_expr2.derivative_at(var, val_dict)/\\\n",
    "                sub_expr2.evaluation_at(val_dict)/\\\n",
    "                sub_expr2.evaluation_at(val_dict)"
   ]
  },
  {
   "cell_type": "code",
   "execution_count": 45,
   "metadata": {
    "collapsed": true
   },
   "outputs": [],
   "source": [
    "class Pow:\n",
    "    \n",
    "    @staticmethod\n",
    "    def evaluation_at(sub_expr1, sub_expr2, val_dict):\n",
    "        return sub_expr1.evaluation_at(val_dict) **\\\n",
    "               sub_expr2.evaluation_at(val_dict)\n",
    "    @staticmethod\n",
    "    #f(x)^g(x) * g‘(x)  * ln( f(x) )+ f(x)^( g(x)-1 ) * g(x) * f’(x) \n",
    "    def derivative_at(sub_expr1, sub_expr2, var, val_dict):\n",
    "        return  sub_expr1.evaluation_at(val_dict)** \\\n",
    "                sub_expr2.evaluation_at(val_dict)* \\\n",
    "                sub_expr2.derivative_at(var, val_dict)*\\\n",
    "                np.log(sub_expr1.evaluation_at(val_dict))+ \\\n",
    "                sub_expr1.evaluation_at(val_dict) **\\\n",
    "                (sub_expr2.evaluation_at(val_dict)-1)*\\\n",
    "                sub_expr2.evaluation_at(val_dict)*\\\n",
    "                sub_expr1.derivative_at(var, val_dict)"
   ]
  },
  {
   "cell_type": "code",
   "execution_count": 46,
   "metadata": {
    "collapsed": true
   },
   "outputs": [],
   "source": [
    "class Exp:\n",
    "    @staticmethod\n",
    "    def evaluation_at(sub_expr1, val_dict):\n",
    "        return np.exp(sub_expr1.evaluation_at(val_dict))\n",
    "    \n",
    "    @staticmethod\n",
    "    def derivative_at(sub_expr1, var, val_dict):\n",
    "        return sub_expr1.derivative_at(var, val_dict) * np.exp(sub_expr1.evaluation_at(val_dict))"
   ]
  },
  {
   "cell_type": "code",
   "execution_count": 47,
   "metadata": {
    "collapsed": true
   },
   "outputs": [],
   "source": [
    "def exp(expr):\n",
    "    return Expression(Exp, expr)"
   ]
  },
  {
   "cell_type": "markdown",
   "metadata": {},
   "source": [
    "Let $f(a, b, c) = e^{a-b+c}$, at $(a, b, c) = (1.0, 2.0, 3.0)$, that should be $e^{2} \\approx 7.389$."
   ]
  },
  {
   "cell_type": "code",
   "execution_count": 48,
   "metadata": {
    "collapsed": true
   },
   "outputs": [],
   "source": [
    "a = Variable()\n",
    "b = Variable()\n",
    "c = Variable()\n",
    "f = exp(a-b+c)"
   ]
  },
  {
   "cell_type": "code",
   "execution_count": 49,
   "metadata": {},
   "outputs": [
    {
     "data": {
      "text/plain": [
       "7.3890560989306504"
      ]
     },
     "execution_count": 49,
     "metadata": {},
     "output_type": "execute_result"
    }
   ],
   "source": [
    "f.evaluation_at({a: 1.0, b: 2.0, c: 3.0})"
   ]
  },
  {
   "cell_type": "markdown",
   "metadata": {},
   "source": [
    "$\\dfrac{\\partial f}{\\partial b} = -e^{a-b+c}$, at $(a, b, c) = (1.0, 2.0, 3.0)$, that should be $-e^{2} \\approx -7.389$."
   ]
  },
  {
   "cell_type": "code",
   "execution_count": 50,
   "metadata": {
    "scrolled": true
   },
   "outputs": [
    {
     "data": {
      "text/plain": [
       "-7.3890560989306504"
      ]
     },
     "execution_count": 50,
     "metadata": {},
     "output_type": "execute_result"
    }
   ],
   "source": [
    "f.derivative_at(b, {a: 1.0, b: 2.0, c: 3.0})"
   ]
  },
  {
   "cell_type": "markdown",
   "metadata": {},
   "source": [
    "$\\dfrac{\\partial f}{\\partial a} = e^{a-b+c}$, at $(a, b) = (1.0, 2.0, 3.0)$, that should be $e^{2} \\approx 7.389$."
   ]
  },
  {
   "cell_type": "code",
   "execution_count": 51,
   "metadata": {},
   "outputs": [
    {
     "data": {
      "text/plain": [
       "7.3890560989306504"
      ]
     },
     "execution_count": 51,
     "metadata": {},
     "output_type": "execute_result"
    }
   ],
   "source": [
    "f.derivative_at(a, {a: 1.0, b: 2.0, c: 3.0})"
   ]
  },
  {
   "cell_type": "markdown",
   "metadata": {},
   "source": [
    "Let $g(x, y) = x + e^{y-1}$, at $(x, y) = (1.0, 2.0)$, that should be $1+e \\approx 3.718$."
   ]
  },
  {
   "cell_type": "code",
   "execution_count": 52,
   "metadata": {
    "collapsed": true
   },
   "outputs": [],
   "source": [
    "x = Variable()\n",
    "y = Variable()\n",
    "g = x + exp(y-1)"
   ]
  },
  {
   "cell_type": "code",
   "execution_count": 53,
   "metadata": {},
   "outputs": [
    {
     "data": {
      "text/plain": [
       "3.7182818284590451"
      ]
     },
     "execution_count": 53,
     "metadata": {},
     "output_type": "execute_result"
    }
   ],
   "source": [
    "g.evaluation_at({x: 1.0, y: 2.0})"
   ]
  },
  {
   "cell_type": "markdown",
   "metadata": {},
   "source": [
    "$\\dfrac{\\partial g}{\\partial x} = 1$"
   ]
  },
  {
   "cell_type": "code",
   "execution_count": 54,
   "metadata": {},
   "outputs": [
    {
     "data": {
      "text/plain": [
       "1.0"
      ]
     },
     "execution_count": 54,
     "metadata": {},
     "output_type": "execute_result"
    }
   ],
   "source": [
    "g.derivative_at(x, {x: 1.0, y: 2.0})"
   ]
  },
  {
   "cell_type": "markdown",
   "metadata": {},
   "source": [
    "$\\dfrac{\\partial g}{\\partial y} = e^{y-1}$, at $(x, y) = (1.0, 2.0)$, that should be $e^{1} \\approx 2.718$."
   ]
  },
  {
   "cell_type": "code",
   "execution_count": 55,
   "metadata": {},
   "outputs": [
    {
     "data": {
      "text/plain": [
       "2.7182818284590451"
      ]
     },
     "execution_count": 55,
     "metadata": {},
     "output_type": "execute_result"
    }
   ],
   "source": [
    "g.derivative_at(y, {x: 1.0, y: 2.0})"
   ]
  },
  {
   "cell_type": "markdown",
   "metadata": {},
   "source": [
    "#### Test for Multiple"
   ]
  },
  {
   "cell_type": "code",
   "execution_count": 56,
   "metadata": {
    "collapsed": true
   },
   "outputs": [],
   "source": [
    "x = Variable()\n",
    "y = Variable()\n",
    "g = x*y\n",
    "f = x/y"
   ]
  },
  {
   "cell_type": "code",
   "execution_count": 57,
   "metadata": {},
   "outputs": [
    {
     "data": {
      "text/plain": [
       "4.0"
      ]
     },
     "execution_count": 57,
     "metadata": {},
     "output_type": "execute_result"
    }
   ],
   "source": [
    "g.evaluation_at({x: 2.0, y: 2.0})"
   ]
  },
  {
   "cell_type": "code",
   "execution_count": 58,
   "metadata": {},
   "outputs": [
    {
     "data": {
      "text/plain": [
       "2.0"
      ]
     },
     "execution_count": 58,
     "metadata": {},
     "output_type": "execute_result"
    }
   ],
   "source": [
    "g.derivative_at(x, {x: 1.0, y: 2.0})"
   ]
  },
  {
   "cell_type": "code",
   "execution_count": 59,
   "metadata": {},
   "outputs": [
    {
     "data": {
      "text/plain": [
       "1.5"
      ]
     },
     "execution_count": 59,
     "metadata": {},
     "output_type": "execute_result"
    }
   ],
   "source": [
    "f.evaluation_at({x: 3.0, y: 2.0})"
   ]
  },
  {
   "cell_type": "code",
   "execution_count": 60,
   "metadata": {},
   "outputs": [
    {
     "data": {
      "text/plain": [
       "1.0"
      ]
     },
     "execution_count": 60,
     "metadata": {},
     "output_type": "execute_result"
    }
   ],
   "source": [
    "f.derivative_at(y, {x: 4.0, y: 2.0})"
   ]
  },
  {
   "cell_type": "code",
   "execution_count": 61,
   "metadata": {
    "collapsed": true
   },
   "outputs": [],
   "source": [
    "a = 3.4"
   ]
  },
  {
   "cell_type": "code",
   "execution_count": 62,
   "metadata": {},
   "outputs": [
    {
     "data": {
      "text/plain": [
       "0.6666666666666666"
      ]
     },
     "execution_count": 62,
     "metadata": {},
     "output_type": "execute_result"
    }
   ],
   "source": [
    "2/3"
   ]
  },
  {
   "cell_type": "markdown",
   "metadata": {
    "collapsed": true
   },
   "source": [
    "### Test for Power"
   ]
  },
  {
   "cell_type": "code",
   "execution_count": 63,
   "metadata": {
    "collapsed": true
   },
   "outputs": [],
   "source": [
    "x = Variable()\n",
    "y = Variable()\n",
    "g = x**y\n"
   ]
  },
  {
   "cell_type": "code",
   "execution_count": 66,
   "metadata": {},
   "outputs": [
    {
     "data": {
      "text/plain": [
       "9.0"
      ]
     },
     "execution_count": 66,
     "metadata": {},
     "output_type": "execute_result"
    }
   ],
   "source": [
    "g.evaluation_at({x: 3.0, y: 2.0})"
   ]
  },
  {
   "cell_type": "code",
   "execution_count": 71,
   "metadata": {},
   "outputs": [
    {
     "data": {
      "text/plain": [
       "6.0"
      ]
     },
     "execution_count": 71,
     "metadata": {},
     "output_type": "execute_result"
    }
   ],
   "source": [
    "g.derivative_at(x, {x: 3.0, y: 2.0})"
   ]
  },
  {
   "cell_type": "code",
   "execution_count": 82,
   "metadata": {},
   "outputs": [
    {
     "name": "stdout",
     "output_type": "stream",
     "text": [
      "/Users/ting/Dropbox (MIT)/Fall 2018/CS207/cs207-FinalProject\n"
     ]
    }
   ],
   "source": [
    "%%bash\n",
    "cd /Users/ting/Dropbox\\ \\(MIT\\)/Fall\\ 2018/CS207/cs207-FinalProject/\n"
   ]
  },
  {
   "cell_type": "code",
   "execution_count": 81,
   "metadata": {},
   "outputs": [
    {
     "data": {
      "text/plain": [
       "'/Users/ting/Dropbox (MIT)/Fall 2018/CS207/cs207-FinalProject/code_explore'"
      ]
     },
     "execution_count": 81,
     "metadata": {},
     "output_type": "execute_result"
    }
   ],
   "source": []
  },
  {
   "cell_type": "code",
   "execution_count": 79,
   "metadata": {},
   "outputs": [
    {
     "name": "stderr",
     "output_type": "stream",
     "text": [
      "bash: line 2: import: command not found\n",
      "bash: line 3: import: command not found\n",
      "bash: line 4: import: command not found\n",
      "bash: line 7: syntax error near unexpected token `('\n",
      "bash: line 7: `def test_multiple_constant():'\n"
     ]
    }
   ],
   "source": [
    "\n",
    "import pytest\n",
    "import numpy as np\n",
    "import autodiff.forward as fwd\n",
    "\n",
    "\n",
    "def test_multiple_constant():\n",
    "    x = fwd.Variable()\n",
    "    assert (2.0*x).derivative_at(x,{x:3.0}) == 2.0\n",
    "    assert (x*2.0).derivative_at(x,{x:3.0}) == 2.0\n",
    "\n",
    "def test_divide_constant():\n",
    "    x = fwd.Variable()\n",
    "    assert (x/2.0).derivative_at(x,{x:3.0}) == 0.5\n",
    "    assert (2.0/x).derivative_at(x,{x:3.0}) == -2/9.0\n",
    "\n",
    "def test_multiple():\n",
    "    x = fwd.Variable()\n",
    "    y = fwd.Variable()\n",
    "    f = x*y\n",
    "    assert f.evaluation_at({x: 3.0, y: 2.0}) == 6.0\n",
    "    assert f.derivative_at(x, {x: 3.0, y: 2.0}) == 2.0\n",
    "    assert f.derivative_at(y, {x: 3.0, y: 2.0}) == 3.0\n",
    "\n",
    "def test_divide():\n",
    "    x = fwd.Variable()\n",
    "    y = fwd.Variable()\n",
    "    f = x/y\n",
    "    assert f.evaluation_at({x: 3.0, y: 2.0}) == 1.5\n",
    "    assert f.derivative_at(x, {x: 3.0, y: 2.0}) == 1/2.0\n",
    "    assert f.derivative_at(y, {x: 3.0, y: 2.0}) == -0.75\n",
    "\n",
    "def test_power():\n",
    "    x = fwd.Variable()\n",
    "    y = fwd.Variable()\n",
    "    f = x**y\n",
    "    assert f.evaluation_at({x: 3.0, y: 2.0}) == 9.0\n",
    "    assert f.derivative_at(x, {x: 3.0, y: 2.0}) == 6.0\n",
    "    assert f.derivative_at(y, {x: 3.0, y: 2.0}) == np.log(3.)*3**2\n"
   ]
  },
  {
   "cell_type": "code",
   "execution_count": 74,
   "metadata": {},
   "outputs": [
    {
     "ename": "NameError",
     "evalue": "name 'fwd' is not defined",
     "output_type": "error",
     "traceback": [
      "\u001b[0;31m---------------------------------------------------------------------------\u001b[0m",
      "\u001b[0;31mNameError\u001b[0m                                 Traceback (most recent call last)",
      "\u001b[0;32m<ipython-input-74-156ddc468454>\u001b[0m in \u001b[0;36m<module>\u001b[0;34m()\u001b[0m\n\u001b[0;32m----> 1\u001b[0;31m \u001b[0mtest_power\u001b[0m\u001b[0;34m(\u001b[0m\u001b[0;34m)\u001b[0m\u001b[0;34m\u001b[0m\u001b[0m\n\u001b[0m",
      "\u001b[0;32m<ipython-input-73-b2607bf9d6a0>\u001b[0m in \u001b[0;36mtest_power\u001b[0;34m()\u001b[0m\n\u001b[1;32m     26\u001b[0m \u001b[0;34m\u001b[0m\u001b[0m\n\u001b[1;32m     27\u001b[0m \u001b[0;32mdef\u001b[0m \u001b[0mtest_power\u001b[0m\u001b[0;34m(\u001b[0m\u001b[0;34m)\u001b[0m\u001b[0;34m:\u001b[0m\u001b[0;34m\u001b[0m\u001b[0m\n\u001b[0;32m---> 28\u001b[0;31m     \u001b[0mx\u001b[0m \u001b[0;34m=\u001b[0m \u001b[0mfwd\u001b[0m\u001b[0;34m.\u001b[0m\u001b[0mVariable\u001b[0m\u001b[0;34m(\u001b[0m\u001b[0;34m)\u001b[0m\u001b[0;34m\u001b[0m\u001b[0m\n\u001b[0m\u001b[1;32m     29\u001b[0m     \u001b[0my\u001b[0m \u001b[0;34m=\u001b[0m \u001b[0mfwd\u001b[0m\u001b[0;34m.\u001b[0m\u001b[0mVariable\u001b[0m\u001b[0;34m(\u001b[0m\u001b[0;34m)\u001b[0m\u001b[0;34m\u001b[0m\u001b[0m\n\u001b[1;32m     30\u001b[0m     \u001b[0mf\u001b[0m \u001b[0;34m=\u001b[0m \u001b[0mx\u001b[0m\u001b[0;34m**\u001b[0m\u001b[0my\u001b[0m\u001b[0;34m\u001b[0m\u001b[0m\n",
      "\u001b[0;31mNameError\u001b[0m: name 'fwd' is not defined"
     ]
    }
   ],
   "source": [
    "test_power()"
   ]
  },
  {
   "cell_type": "code",
   "execution_count": null,
   "metadata": {
    "collapsed": true
   },
   "outputs": [],
   "source": []
  }
 ],
 "metadata": {
  "kernelspec": {
   "display_name": "Python [default]",
   "language": "python",
   "name": "python3"
  },
  "language_info": {
   "codemirror_mode": {
    "name": "ipython",
    "version": 3
   },
   "file_extension": ".py",
   "mimetype": "text/x-python",
   "name": "python",
   "nbconvert_exporter": "python",
   "pygments_lexer": "ipython3",
   "version": "3.6.3"
  }
 },
 "nbformat": 4,
 "nbformat_minor": 2
}
