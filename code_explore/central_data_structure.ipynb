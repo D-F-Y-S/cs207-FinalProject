{
 "cells": [
  {
   "cell_type": "code",
   "execution_count": 22,
   "metadata": {
    "collapsed": true
   },
   "outputs": [],
   "source": [
    "import numpy as np"
   ]
  },
  {
   "cell_type": "code",
   "execution_count": 45,
   "metadata": {
    "collapsed": true
   },
   "outputs": [],
   "source": [
    "\"\"\"\n",
    "This file contains the central data structure and functions related to the\n",
    "forward mode auto differentiation. We may want to separate the code into \n",
    "multiple files later.\n",
    "\"\"\"\n",
    "\n",
    "import numpy as np\n",
    "\n",
    "class Expression:\n",
    "    def __init__(self, ele_func, sub_expr1, sub_expr2=None):\n",
    "        self._ele_func  = ele_func\n",
    "        self._sub_expr1 = sub_expr1\n",
    "        self._sub_expr2 = sub_expr2\n",
    "    \n",
    "    def evaluation_at(self, val_dict):\n",
    "        \n",
    "        # self._sub_expr2 is None implies that self._ele_func is an unary operator\n",
    "        if self._sub_expr2 is None: \n",
    "            return self._ele_func.evaluation_at(\n",
    "                self._sub_expr1, val_dict)\n",
    "        \n",
    "        # self._sub_expr2 not None implies that self._ele_func is a binary operator\n",
    "        else:\n",
    "            return self._ele_func.evaluation_at(\n",
    "                self._sub_expr1, self._sub_expr2, val_dict)\n",
    "    \n",
    "    def derivative_at(self, var, val_dict, order=1):\n",
    "        \n",
    "        # var being a tuple implies multivariate higher derivatives\n",
    "#        if type(var) is tuple:\n",
    "#            if len(var) != 2:\n",
    "#                raise NotImplementedError('only 2nd order derivatives implemented for multivariate derivatives')\n",
    "#            var1, var2 = var\n",
    "#            # sub_expr2 being None implies that _ele_func is an unary operator\n",
    "#            if self._sub_expr2 is None:\n",
    "#                return self._ele_func.derivative_at(\n",
    "#                    self._sub_expr1, var, val_dict, order) \n",
    "#            # sub_expr2 not None implies that _ele_func is a binary operator\n",
    "#            else:\n",
    "#                return self._ele_func.derivative_at(\n",
    "#                    self._sub_expr1, self._sub_expr2, var, val_dict, order)\n",
    "\n",
    "        if var is self: \n",
    "            if   order == 1: return 1.0\n",
    "            else: return 0.0\n",
    "        \n",
    "        # sub_expr2 being None implies that _ele_func is an unary operator\n",
    "        if self._sub_expr2 is None:\n",
    "            return self._ele_func.derivative_at(\n",
    "                self._sub_expr1, var, val_dict, order)\n",
    "        \n",
    "        # sub_expr2 not None implies that _ele_func is a binary operator\n",
    "        else:\n",
    "            return self._ele_func.derivative_at(\n",
    "                self._sub_expr1, self._sub_expr2, var, val_dict, order)\n",
    "    \n",
    "    def gradient_at(self, val_dict, returns_dict=False):\n",
    "        if returns_dict:\n",
    "            return {v: self.derivative_at(v, val_dict) for v in val_dict.keys()}\n",
    "        return np.array([self.derivative_at(var, val_dict, order=1) \n",
    "                         for var in val_dict.keys()])\n",
    "    \n",
    "    def hessian_at(self, val_dict):\n",
    "        return np.array( [ \\\n",
    "                          [self.derivative_at((var1, var2), val_dict, order=2)\n",
    "                           for var1 in val_dict.keys()]\n",
    "                          for var2 in val_dict.keys() \\\n",
    "                          ] )\n",
    "    \n",
    "    def __neg__(self):\n",
    "        return Expression(Neg, self)\n",
    "\n",
    "                \n",
    "    def __add__(self, another):\n",
    "        if isinstance(another, Expression):\n",
    "            return Expression(Add, self, another)\n",
    "        # if the other operand is not an Expression, then it must be a number\n",
    "        # the number then should be converted to a Constant\n",
    "        else:\n",
    "            return Expression(Add, self, Constant(another))\n",
    "    \n",
    "    \n",
    "    def __radd__(self, another):\n",
    "        if isinstance(another, Expression):\n",
    "            return Expression(Add, another, self)\n",
    "        else:\n",
    "            return Expression(Add, Constant(another), self)\n",
    "    \n",
    "    def __sub__(self, another):\n",
    "        if isinstance(another, Expression):\n",
    "            return Expression(Sub, self, another)\n",
    "        else:\n",
    "            return Expression(Sub, self, Constant(another))\n",
    "    \n",
    "    def __rsub__(self, another):\n",
    "        if isinstance(another, Expression):\n",
    "            return Expression(Sub, another, self)\n",
    "        else:\n",
    "            return Expression(Sub, Constant(another), self)\n",
    "        \n",
    "\n",
    "    def __mul__(self, another):\n",
    "        if isinstance(another, Expression):\n",
    "            return Expression(Mul,self,another)\n",
    "        else:\n",
    "            return Expression(Mul, self, Constant(another))\n",
    "\n",
    "    def __rmul__(self, another):\n",
    "        if isinstance(another, Expression):\n",
    "            return Expression(Mul,another,self)\n",
    "        else:\n",
    "            return Expression(Mul, Constant(another),self)\n",
    "    \n",
    "    def __truediv__(self, another):\n",
    "        if isinstance(another, Expression):\n",
    "            return Expression(Div,self,another)\n",
    "        else:\n",
    "            return Expression(Div, self, Constant(another))\n",
    "\n",
    "    def __rtruediv__(self, another):\n",
    "        if isinstance(another, Expression):\n",
    "            return Expression(Div,another,self)\n",
    "        else:\n",
    "            return Expression(Div, Constant(another),self)\n",
    "    \n",
    "    def __pow__(self,another):\n",
    "        if isinstance(another, Expression):\n",
    "            return Expression(Pow,self,another)\n",
    "        else:\n",
    "            return Expression(Pow, self, Constant(another))\n",
    "    \n",
    "    def __rpow__(self,another):\n",
    "        if isinstance(another, Expression):\n",
    "            return Expression(Pow,another,self)\n",
    "        else:\n",
    "            return Expression(Pow, Constant(another),self)\n",
    "\n",
    "\n",
    "class Variable(Expression):\n",
    "    def __init__(self):\n",
    "        return\n",
    "    \n",
    "    def evaluation_at(self, val_dict):\n",
    "        return val_dict[self]\n",
    "    \n",
    "    def derivative_at(self, var, val_dict, order=1):\n",
    "        if order == 1:\n",
    "            return 1.0 if var is self else 0.0\n",
    "        else:\n",
    "            return 0.0\n",
    "\n",
    "\n",
    "class Constant(Expression):\n",
    "    def __init__(self, val):\n",
    "        self.val = val\n",
    "        \n",
    "    def evaluation_at(self, val_dict):\n",
    "        return self.val\n",
    "    \n",
    "    def derivative_at(self, var, val_dict, order=1):\n",
    "        return 0.0\n",
    "\n",
    "\n",
    "class VectorFunction:\n",
    "    \n",
    "    def __init__(self, exprlist):\n",
    "        self._exprlist = exprlist.copy()\n",
    "    \n",
    "    def evaluation_at(self, val_dict):\n",
    "        return np.array([expr.evaluation_at(val_dict) \n",
    "                        for expr in self._exprlist])\n",
    "    \n",
    "    def gradient_at(self, var, val_dict):\n",
    "        return np.array([f.derivative_at(var, val_dict) for f in self._exprlist])\n",
    "    \n",
    "    def jacobian_at(self, val_dict):\n",
    "        return np.array([self.gradient_at(var, val_dict)\n",
    "                         for var in val_dict.keys()]).transpose()\n",
    "\n",
    "\n",
    "class Add:\n",
    "    @staticmethod\n",
    "    def evaluation_at(sub_expr1, sub_expr2, val_dict):\n",
    "        return sub_expr1.evaluation_at(val_dict) + \\\n",
    "               sub_expr2.evaluation_at(val_dict)\n",
    "    @staticmethod\n",
    "    def derivative_at(sub_expr1, sub_expr2, var, val_dict, order=1):\n",
    "        return sub_expr1.derivative_at(var, val_dict, order) + \\\n",
    "               sub_expr2.derivative_at(var, val_dict, order)\n",
    "\n",
    "class Sub:\n",
    "    @staticmethod\n",
    "    def evaluation_at(sub_expr1, sub_expr2, val_dict):\n",
    "        return sub_expr1.evaluation_at(val_dict) - \\\n",
    "               sub_expr2.evaluation_at(val_dict)\n",
    "    @staticmethod\n",
    "    def derivative_at(sub_expr1, sub_expr2, var, val_dict, order=1):\n",
    "        return sub_expr1.derivative_at(var, val_dict, order) - \\\n",
    "               sub_expr2.derivative_at(var, val_dict, order)\n",
    "\n",
    "class Mul:\n",
    "    @staticmethod\n",
    "    def evaluation_at(sub_expr1, sub_expr2, val_dict):\n",
    "        return sub_expr1.evaluation_at(val_dict) *\\\n",
    "               sub_expr2.evaluation_at(val_dict)\n",
    "    @staticmethod\n",
    "    def derivative_at(sub_expr1, sub_expr2, var, val_dict,order=1):\n",
    "        if   order == 1:\n",
    "            return sub_expr1.derivative_at(var, val_dict) * \\\n",
    "                   sub_expr2.evaluation_at(val_dict)+ \\\n",
    "                   sub_expr1.evaluation_at(val_dict) *\\\n",
    "                   sub_expr2.derivative_at(var, val_dict)\n",
    "        elif order == 2:\n",
    "            if type(var) is tuple:\n",
    "                var1, var2 = var\n",
    "                term1 = sub_expr1.derivative_at(var, val_dict, order=2) \\\n",
    "                        * sub_expr2.evaluation_at(val_dict)\n",
    "                term2 = sub_expr2.derivative_at(var, val_dict, order=2) \\\n",
    "                        * sub_expr1.evaluation_at(val_dict)\n",
    "                term3 = sub_expr1.derivative_at(var1, val_dict, order=1) \\\n",
    "                        * sub_expr2.derivative_at(var2, val_dict, order=1)\n",
    "                term4 = sub_expr2.derivative_at(var1, val_dict, order=1) \\\n",
    "                        * sub_expr1.derivative_at(var2, val_dict, order=1)\n",
    "                return term1 + term2 + term3 + term4\n",
    "            else:\n",
    "                return Mul.derivative_at(sub_expr1, sub_expr2, (var, var), val_dict, order=2)\n",
    "#            return sub_expr1.derivative_at(var, val_dict,2)*sub_expr2.evaluation_at(val_dict)+\\\n",
    "#                   sub_expr1.derivative_at(var, val_dict,1)*sub_expr2.derivative_at(var, val_dict,1)+\\\n",
    "#                   sub_expr1.derivative_at(var, val_dict,1)*sub_expr2.derivative_at(var, val_dict,1)+\\\n",
    "#                   sub_expr1.evaluation_at(val_dict)*sub_expr2.derivative_at(var, val_dict,2)\n",
    "        else: raise NotImplementedError('3rd order or higher derivatives are not implemented.')\n",
    "               \n",
    "class Div:\n",
    "    @staticmethod\n",
    "    def evaluation_at(sub_expr1, sub_expr2, val_dict):\n",
    "        return sub_expr1.evaluation_at(val_dict) /\\\n",
    "               sub_expr2.evaluation_at(val_dict)\n",
    "    @staticmethod\n",
    "    def derivative_at(sub_expr1, sub_expr2, var, val_dict,order=1):\n",
    "        if   order == 1:\n",
    "            return  sub_expr1.derivative_at(var, val_dict) / \\\n",
    "                    sub_expr2.evaluation_at(val_dict)- \\\n",
    "                    sub_expr1.evaluation_at(val_dict) *\\\n",
    "                    sub_expr2.derivative_at(var, val_dict)/\\\n",
    "                    sub_expr2.evaluation_at(val_dict)**2\n",
    "        elif order == 2:\n",
    "            if type(var) is tuple:\n",
    "                var1, var2 = var\n",
    "                f = sub_expr1.evaluation_at(val_dict)\n",
    "                g = sub_expr2.evaluation_at(val_dict)\n",
    "                term1 =  1/g    * sub_expr2.derivative_at(var, val_dict, order=2)\n",
    "                term2 = -f/g**2 * sub_expr1.derivative_at(var, val_dict, order=2)\n",
    "                term3 = -1/g**2 * sub_expr1.derivative_at(var1, val_dict, order=1) \\\n",
    "                                * sub_expr2.derivative_at(var2, val_dict, order=1)\n",
    "                term4 = -1/g**2 * sub_expr1.derivative_at(var2, val_dict, order=1) \\\n",
    "                                * sub_expr2.derivative_at(var1, val_dict, order=1)\n",
    "                term5 = 2*f/g**3 * sub_expr2.derivative_at(var1, val_dict, order=1) \\\n",
    "                                 * sub_expr2.derivative_at(var2, val_dict, order=1)\n",
    "                return term1 + term2 + term3 + term4 + term5  \n",
    "            else:\n",
    "                return Div.derivative_at(sub_expr1, sub_expr2, (var, var), val_dict, order=2)\n",
    "#            return ((sub_expr1.derivative_at(var, val_dict,2)*\\\n",
    "#                    sub_expr2.evaluation_at(val_dict)-\\\n",
    "#                    sub_expr1.evaluation_at(val_dict)*\\\n",
    "#                    sub_expr2.derivative_at(var, val_dict,2))*sub_expr2.evaluation_at(val_dict)**2 -\\\n",
    "#                    2*(sub_expr1.derivative_at(var, val_dict,1)*\\\n",
    "#                    sub_expr2.evaluation_at(val_dict) -\\\n",
    "#                    sub_expr1.evaluation_at(val_dict)*\\\n",
    "#                    sub_expr2.derivative_at(var, val_dict,1))*\\\n",
    "#                    sub_expr2.evaluation_at(val_dict)*\\\n",
    "#                    sub_expr2.derivative_at(var, val_dict,1))/\\\n",
    "#                    sub_expr2.evaluation_at(val_dict)**4\n",
    "        else: raise NotImplementedError('3rd order or higher derivatives are not implemented.')\n",
    "\n",
    "#class Pow:\n",
    "#    \n",
    "#    @staticmethod\n",
    "#    def evaluation_at(sub_expr1, sub_expr2, val_dict):\n",
    "#        return sub_expr1.evaluation_at(val_dict) **\\\n",
    "#               sub_expr2.evaluation_at(val_dict)\n",
    "#    @staticmethod\n",
    "#    #f(x)^g(x) * g‘(x)  * ln( f(x) )+ f(x)^( g(x)-1 ) * g(x) * f’(x) \n",
    "#    def derivative_at(sub_expr1, sub_expr2, var, val_dict):\n",
    "#        return  sub_expr1.evaluation_at(val_dict)** \\\n",
    "#                sub_expr2.evaluation_at(val_dict)* \\\n",
    "#                sub_expr2.derivative_at(var, val_dict)*\\\n",
    "#                np.log(sub_expr1.evaluation_at(val_dict))+ \\\n",
    "#                sub_expr1.evaluation_at(val_dict) **\\\n",
    "#                (sub_expr2.evaluation_at(val_dict)-1)*\\\n",
    "#                sub_expr2.evaluation_at(val_dict)*\\\n",
    "#                sub_expr1.derivative_at(var, val_dict)\n",
    "\n",
    "# a simplified version: assuming sub_expr2 is a constant\n",
    "class Pow:\n",
    "\n",
    "    @staticmethod\n",
    "    def evaluation_at(sub_expr1, sub_expr2, val_dict):\n",
    "        return np.power(sub_expr1.evaluation_at(val_dict), \n",
    "                        sub_expr2.evaluation_at(val_dict))\n",
    "    \n",
    "    @staticmethod\n",
    "    def derivative_at(sub_expr1, sub_expr2, var, val_dict,order=1):\n",
    "        p = sub_expr2.evaluation_at(val_dict)\n",
    "        if   order == 1:\n",
    "            return p*np.power(sub_expr1.evaluation_at(val_dict), p-1.0) \\\n",
    "                   * sub_expr1.derivative_at(var, val_dict)\n",
    "        elif order == 2:\n",
    "            if type(var) is tuple:\n",
    "                var1, var2 = var\n",
    "                term1 = p*np.power(sub_expr1.evaluation_at(val_dict), p-1.0) \\\n",
    "                        * sub_expr1.derivative_at((var1, var2), val_dict, order=2)\n",
    "                term2 = p*(p-1.0)*np.power(sub_expr1.evaluation_at(val_dict), p-2.0) \\\n",
    "                        * sub_expr1.derivative_at(var1, val_dict, order=1) \\\n",
    "                        * sub_expr1.derivative_at(var2, val_dict, order=1)\n",
    "                return term1 + term2\n",
    "            else:\n",
    "                return Pow.derivative_at(sub_expr1, sub_expr2, (var, var), val_dict, order=2)\n",
    "#            return p*(p-1)*np.power(sub_expr1.evaluation_at(val_dict),p-2.0)*sub_expr1.derivative_at(var, val_dict)**2\\\n",
    "#                    + p*np.power(sub_expr1.evaluation_at(val_dict), p-1.0)*sub_expr1.derivative_at(var, val_dict,2)\n",
    "        else: raise NotImplementedError('3rd order or higher derivatives are not implemented.')\n",
    "\n",
    "#def pow(expr1, expr2):\n",
    "#    return Expression(Pow, expr1, expr2)\n",
    "\n",
    "class Exp:\n",
    "    @staticmethod\n",
    "    def evaluation_at(sub_expr1, val_dict):\n",
    "        return np.exp(sub_expr1.evaluation_at(val_dict))\n",
    "    \n",
    "    @staticmethod\n",
    "    def derivative_at(sub_expr1, var, val_dict, order=1):\n",
    "        if   order == 1:\n",
    "            return sub_expr1.derivative_at(var, val_dict) * \\\n",
    "                   np.exp(sub_expr1.evaluation_at(val_dict))\n",
    "        elif order == 2:\n",
    "            if type(var) is tuple:\n",
    "                var1, var2 = var\n",
    "                f = sub_expr1.evaluation_at(val_dict)\n",
    "                term1 = np.exp(f) * sub_expr1.derivative_at(var,  val_dict, order=2)\n",
    "                term2 = np.exp(f) * sub_expr1.derivative_at(var1, val_dict, order=1) \\\n",
    "                                  * sub_expr1.derivative_at(var2, val_dict, order=1)\n",
    "                return term1 + term2\n",
    "            else:\n",
    "                return Exp.derivative_at(sub_expr1, (var,var), val_dict, order=2)\n",
    "#            return np.exp(sub_expr1.evaluation_at(val_dict)) * (sub_expr1.derivative_at(var, val_dict, order=1))**2 \\\n",
    "#                 + np.exp(sub_expr1.evaluation_at(val_dict)) *  sub_expr1.derivative_at(var, val_dict, order=2)\n",
    "        else: raise NotImplementedError('3rd order or higher derivatives are not implemented.')\n",
    "\n",
    "class Neg:\n",
    "    @staticmethod\n",
    "    def evaluation_at(sub_expr1, val_dict):\n",
    "        return -sub_expr1.evaluation_at(val_dict)\n",
    "    \n",
    "    @staticmethod\n",
    "    def derivative_at(sub_expr1, var, val_dict, order=1):\n",
    "        return -sub_expr1.derivative_at(var, val_dict, order)\n",
    "\n",
    "def exp(expr):\n",
    "    return Expression(Exp, expr)\n",
    "\n",
    "\n",
    "class Sin:\n",
    "    @staticmethod\n",
    "    def evaluation_at(sub_expr1, val_dict):\n",
    "        return np.sin(sub_expr1.evaluation_at(val_dict))\n",
    "    \n",
    "    @staticmethod\n",
    "    def derivative_at(sub_expr1, var, val_dict, order=1):\n",
    "        if   order == 1:\n",
    "            return sub_expr1.derivative_at(var, val_dict, order) * \\\n",
    "            np.cos(sub_expr1.evaluation_at(val_dict))\n",
    "        elif order == 2:\n",
    "            if type(var) is tuple:\n",
    "                var1, var2 = var\n",
    "                f = sub_expr1.evaluation_at(val_dict)\n",
    "                term1 =  np.cos(f) * sub_expr1.derivative_at(var,  val_dict, order=2)\n",
    "                term2 = -np.sin(f) * sub_expr1.derivative_at(var1, val_dict, order=1) \\\n",
    "                                   * sub_expr1.derivative_at(var2, val_dict, order=1)\n",
    "                return term1 + term2\n",
    "            else:\n",
    "                return Sin.derivative_at(sub_expr1, (var,var), val_dict, order=2)\n",
    "#            return -np.sin(sub_expr1.evaluation_at(val_dict)) * \\\n",
    "#                   sub_expr1.derivative_at(var, val_dict, order=1)**2 + \\\n",
    "#                   np.cos(sub_expr1.evaluation_at(val_dict)) * \\\n",
    "#                   sub_expr1.derivative_at(var, val_dict, order=2)\n",
    "        else: raise NotImplementedError('3rd order or higher derivatives are not implemented.')\n",
    "\n",
    "def sin(expr):\n",
    "    return Expression(Sin, expr)\n",
    "\n",
    "class Cos:\n",
    "    @staticmethod\n",
    "    def evaluation_at(sub_expr1,val_dict):\n",
    "        return np.cos(sub_expr1.evaluation_at(val_dict))\n",
    "    \n",
    "    @staticmethod\n",
    "    def derivative_at(sub_expr1,var,val_dict, order=1):\n",
    "        if   order == 1:\n",
    "            return -sub_expr1.derivative_at(var, val_dict, order) * \\\n",
    "                   np.sin(sub_expr1.evaluation_at(val_dict)) \n",
    "        elif order == 2:\n",
    "            if type(var) is tuple:\n",
    "                var1, var2 = var\n",
    "                f = sub_expr1.evaluation_at(val_dict)\n",
    "                term1 = -np.sin(f) * sub_expr1.derivative_at(var,  val_dict, order=2)\n",
    "                term2 = -np.cos(f) * sub_expr1.derivative_at(var1, val_dict, order=1) \\\n",
    "                                   * sub_expr1.derivative_at(var2, val_dict, order=1)\n",
    "                return term1 + term2\n",
    "            else:\n",
    "                return Cos.derivative_at(sub_expr1, (var,var), val_dict, order=2)\n",
    "#            return -np.cos(sub_expr1.evaluation_at(val_dict)) * \\\n",
    "#                   sub_expr1.derivative_at(var, val_dict, order=1)**2 + \\\n",
    "#                   -np.sin(sub_expr1.evaluation_at(val_dict)) * \\\n",
    "#                   sub_expr1.derivative_at(var, val_dict, order=2)\n",
    "        else: raise NotImplementedError('3rd order or higher derivatives are not implemented.')\n",
    "\n",
    "def cos(expr):\n",
    "    return Expression(Cos, expr)\n",
    "    \n",
    "class Tan:\n",
    "    @staticmethod\n",
    "    def evaluation_at(sub_expr1,val_dict):\n",
    "        return np.tan(sub_expr1.evaluation_at(val_dict))\n",
    "    \n",
    "    @staticmethod\n",
    "    def derivative_at(sub_expr1,var,val_dict, order=1):\n",
    "        if   order == 1:\n",
    "            return sub_expr1.derivative_at(var, val_dict) * \\\n",
    "                   (1/np.cos(2*sub_expr1.evaluation_at(val_dict)))\n",
    "        elif order == 2:\n",
    "            if type(var) is tuple:\n",
    "                var1, var2 = var\n",
    "                f = sub_expr1.evaluation_at(val_dict)\n",
    "                term1 = 1/(np.cos(f)**2) * sub_expr1.derivative_at(var,  val_dict, order=2)\n",
    "                term2 = 2*np.tan(f)/(np.cos(f)**2) \\\n",
    "                        * sub_expr1.derivative_at(var1, val_dict, order=1) \\\n",
    "                        * sub_expr1.derivative_at(var2, val_dict, order=1)\n",
    "                return term1 + term2\n",
    "            else:\n",
    "                return Tan.derivative_at(sub_expr1, (var,var), val_dict, order=2)\n",
    "#            u = sub_expr1.evaluation_at(val_dict)\n",
    "#            return 2*np.tan(u)/(np.cos(u)**2) * (sub_expr1.derivative_at(var, val_dict))**2 \\\n",
    "#                           + 1/(np.cos(u)**2) *  sub_expr1.derivative_at(var, val_dict, order=2)\n",
    "        else: raise NotImplementedError('3rd order or higher derivatives are not implemented.')\n",
    "\n",
    "def tan(expr):\n",
    "    return Expression(Tan, expr)\n",
    "    \n",
    "class Cotan:\n",
    "    @staticmethod\n",
    "    def evaluation_at(sub_expr1,val_dict):\n",
    "        return 1/np.tan(sub_expr1.evaluation_at(val_dict))\n",
    "    \n",
    "    @staticmethod\n",
    "    def derivative_at(sub_expr1,var,val_dict, order=1): \n",
    "        if order == 1:\n",
    "            return -sub_expr1.derivative_at(var, val_dict) * \\\n",
    "                   (1/np.sin(sub_expr1.evaluation_at(val_dict))**2)\n",
    "        else: raise NotImplementedError('higher order derivatives not implemented for cotan.')\n",
    "            \n",
    "\n",
    "def cotan(expr):\n",
    "    return Expression(Cotan, expr)\n",
    "    \n",
    "class Sec:\n",
    "    @staticmethod\n",
    "    def evaluation_at(sub_expr1,val_dict):\n",
    "        return 1/np.cos(sub_expr1.evaluation_at(val_dict))\n",
    "    \n",
    "    @staticmethod\n",
    "    def derivative_at(sub_expr1,var,val_dict, order=1):\n",
    "        x = sub_expr1.evaluation_at(val_dict)\n",
    "        if order == 1:\n",
    "            return sub_expr1.derivative_at(var, val_dict) * \\\n",
    "                   np.tan(x) * (1/np.cos(x))\n",
    "        else: raise NotImplementedError('higher order derivatives not implemented for sec.')\n",
    "        \n",
    "def sec(expr):\n",
    "    return Expression(Sec, expr) \n",
    "\n",
    "class Csc:\n",
    "    @staticmethod\n",
    "    def evaluation_at(sub_expr1,val_dict):\n",
    "        return 1/np.sin(sub_expr1.evaluation_at(val_dict))\n",
    "    \n",
    "    @staticmethod\n",
    "    def derivative_at(sub_expr1,var,val_dict, order=1):\n",
    "        x = sub_expr1.evaluation_at(val_dict)\n",
    "        if order == 1:\n",
    "            return sub_expr1.derivative_at(var, val_dict) * \\\n",
    "                   (1/np.tan(x)) * (1/np.sin(x))\n",
    "        else: raise NotImplementedError('higher order derivatives not implemented for csc.')\n",
    "\n",
    "def csc(expr):\n",
    "    return Expression(Csc, expr) \n",
    "\n",
    "class Sinh:\n",
    "    @staticmethod\n",
    "    def evaluation_at(sub_expr1,val_dict):\n",
    "        return np.sinh(sub_expr1.evaluation_at(val_dict))\n",
    "    \n",
    "    @staticmethod\n",
    "    def derivative_at(sub_expr1,var,val_dict, order=1):\n",
    "        x = sub_expr1.evaluation_at(val_dict)\n",
    "        if order == 1:\n",
    "            return sub_expr1.derivative_at(var, val_dict) * np.cosh(x)\n",
    "        else: raise NotImplementedError('higher order derivatives not implemented for sinh.')\n",
    "\n",
    "def sinh(expr):\n",
    "    return Expression(Sinh, expr) \n",
    "\n",
    "class Cosh:\n",
    "    @staticmethod\n",
    "    def evaluation_at(sub_expr1,val_dict):\n",
    "        return np.cosh(sub_expr1.evaluation_at(val_dict))\n",
    "    \n",
    "    @staticmethod\n",
    "    def derivative_at(sub_expr1,var,val_dict, order=1):\n",
    "        x = sub_expr1.evaluation_at(val_dict)\n",
    "        if order == 1:\n",
    "            return sub_expr1.derivative_at(var, val_dict) * np.sinh(x)\n",
    "        else: raise NotImplementedError('higher order derivatives not implemented for cosh.')\n",
    "\n",
    "def cosh(expr):\n",
    "    return Expression(Cosh, expr) \n",
    "    \n",
    "class Tanh:\n",
    "    @staticmethod\n",
    "    def evaluation_at(sub_expr1,val_dict):\n",
    "        x = sub_expr1.evaluation_at(val_dict)\n",
    "        return np.sinh(x)/np.cosh(x)\n",
    "    \n",
    "    @staticmethod\n",
    "    def derivative_at(sub_expr1,var,val_dict, order=1):\n",
    "        x = sub_expr1.evaluation_at(val_dict)\n",
    "        if order == 1:\n",
    "            return sub_expr1.derivative_at(var, val_dict) * (x/np.cosh(x)**2)\n",
    "        else: raise NotImplementedError('higher order derivatives not implemented for tanh.')\n",
    "\n",
    "def tanh(expr):\n",
    "    return Expression(Tanh,expr) \n",
    "\n",
    "class Csch:\n",
    "    @staticmethod\n",
    "    def evaluation_at(sub_expr1,val_dict):\n",
    "        x = sub_expr1.evaluation_at(val_dict)\n",
    "        return 1/np.sinh(x)\n",
    "    @staticmethod\n",
    "    def derivative_at(sub_expr1,var,val_dict, order=1):\n",
    "        x = sub_expr1.evaluation_at(val_dict)\n",
    "        # d = -csch(x)*cot(x)\n",
    "        d = -(1/np.sinh(x)) * (np.cosh(x)/np.sinh(x))\n",
    "        if order == 1:\n",
    "            return sub_expr1.derivative_at(var, val_dict) * d\n",
    "        else: raise NotImplementedError('higher order derivatives not implemented for csch.')\n",
    "\n",
    "def csch(expr):\n",
    "    return Expression(Csch, expr) \n",
    "\n",
    "class Sech:\n",
    "    def evaluation_at(sub_expr1,val_dict):\n",
    "        x = sub_expr1.evaluation_at(val_dict)\n",
    "        return 1/np.cosh(x)\n",
    "    \n",
    "    def derivative_at(sub_expr1,var,val_dict, order=1):\n",
    "        x = sub_expr1.evaluation_at(val_dict)\n",
    "        # d = -sech(x)tanh(x)\n",
    "        d = -(1/np.cosh(x)) * (np.sinh(x)/np.cosh(x))\n",
    "        if order == 1:\n",
    "            return sub_expr1.derivative_at(var, val_dict)*d\n",
    "        else: raise NotImplementedError('higher order derivatives not implemented for sech.')\n",
    "\n",
    "def sech(expr):\n",
    "    return Expression(Sech, expr) \n",
    "\n",
    "class Coth:\n",
    "    @staticmethod\n",
    "    def evaluation_at(sub_expr1,val_dict):\n",
    "        x = sub_expr1.evaluation_at(val_dict)\n",
    "        return np.cosh(x)/np.sinh(x)\n",
    "    \n",
    "    @staticmethod\n",
    "    def derivative_at(sub_expr1,var,val_dict, order=1):\n",
    "        x = sub_expr1.evaluation_at(val_dict)\n",
    "        # d = -csch^2(x)\n",
    "        if order == 1:\n",
    "            return -sub_expr1.derivative_at(var, val_dict) * (1/np.sinh(x)**2)\n",
    "        else: raise NotImplementedError('higher order derivatives not implemented for cotan.')\n",
    "\n",
    "def coth(expr):\n",
    "    return Expression(Coth, expr)    \n",
    "\n",
    "class Arcsin:\n",
    "    @staticmethod\n",
    "    def evaluation_at(sub_expr1,val_dict):\n",
    "        x = sub_expr1.evaluation_at(val_dict)\n",
    "        return np.arcsin(x)\n",
    "    \n",
    "    @staticmethod\n",
    "    def derivative_at(sub_expr1,var,val_dict, order=1):\n",
    "        x = sub_expr1.evaluation_at(val_dict)\n",
    "        d = 1/np.sqrt(1-x**2)\n",
    "        #1/sqrt(1-x^2)\n",
    "        if order == 1:\n",
    "            return sub_expr1.derivative_at(var, val_dict) * d\n",
    "        else: raise NotImplementedError('higher order derivatives not implemented for arcsin.')\n",
    "\n",
    "def arcsin(expr):\n",
    "    return Expression(Arcsin, expr)\n",
    "    \n",
    "class Arccos:\n",
    "    @staticmethod\n",
    "    def evaluation_at(sub_expr1,val_dict):\n",
    "        x = sub_expr1.evaluation_at(val_dict)\n",
    "        return np.arccos(x)\n",
    "    \n",
    "    @staticmethod\n",
    "    def derivative_at(sub_expr1,var,val_dict, order=1):\n",
    "        x = sub_expr1.evaluation_at(val_dict)\n",
    "        d = 1/np.sqrt(1-x**2)\n",
    "        #-1/sqrt(1-x^2)\n",
    "        if order == 1:\n",
    "            return -sub_expr1.derivative_at(var, val_dict) * d\n",
    "        else: raise NotImplementedError('higher order derivatives not implemented for arccos.')\n",
    "\n",
    "def arccos(expr):\n",
    "    return Expression(Arccos, expr)\n",
    "    \n",
    "class Arctan:\n",
    "    @staticmethod\n",
    "    def evaluation_at(sub_expr1,val_dict):\n",
    "        x = sub_expr1.evaluation_at(val_dict)\n",
    "        return np.arctan(x)\n",
    "    \n",
    "    @staticmethod\n",
    "    def derivative_at(sub_expr1,var,val_dict, order=1):\n",
    "        x = sub_expr1.evaluation_at(val_dict)\n",
    "        d = 1/(1+x**2)\n",
    "        # d =1/1-x^2\n",
    "        if order == 1:\n",
    "            return sub_expr1.derivative_at(var, val_dict) * d\n",
    "        else: raise NotImplementedError('higher order derivatives not implemented for arctan.')\n",
    "\n",
    "def arctan(expr):\n",
    "    return Expression(Arctan, expr)"
   ]
  },
  {
   "cell_type": "markdown",
   "metadata": {},
   "source": [
    "Let $f(a, b, c) = e^{a-b+c}$, at $(a, b, c) = (1.0, 2.0, 3.0)$, that should be $e^{2} \\approx 7.389$."
   ]
  },
  {
   "cell_type": "code",
   "execution_count": 34,
   "metadata": {
    "collapsed": true
   },
   "outputs": [],
   "source": [
    "x= Variable()\n",
    "y = Variable()\n",
    "f =x**3*y**3\n",
    "g=(x/y)**3"
   ]
  },
  {
   "cell_type": "markdown",
   "metadata": {},
   "source": [
    "$\\dfrac{\\partial f}{\\partial b} = -e^{a-b+c}$, at $(a, b, c) = (1.0, 2.0, 3.0)$, that should be $-e^{2} \\approx -7.389$."
   ]
  },
  {
   "cell_type": "code",
   "execution_count": 35,
   "metadata": {
    "scrolled": true
   },
   "outputs": [
    {
     "data": {
      "text/plain": [
       "0.44444444444444442"
      ]
     },
     "execution_count": 35,
     "metadata": {},
     "output_type": "execute_result"
    }
   ],
   "source": [
    "g.derivative_at(x, val_dict={x:2,y:3},order=2)"
   ]
  },
  {
   "cell_type": "code",
   "execution_count": 36,
   "metadata": {},
   "outputs": [
    {
     "data": {
      "text/plain": [
       "12.0"
      ]
     },
     "execution_count": 36,
     "metadata": {},
     "output_type": "execute_result"
    }
   ],
   "source": [
    "g.derivative_at(y, val_dict={x:1,y:1},order=2)"
   ]
  },
  {
   "cell_type": "code",
   "execution_count": 37,
   "metadata": {},
   "outputs": [
    {
     "data": {
      "text/plain": [
       "0.4444444444444444"
      ]
     },
     "execution_count": 37,
     "metadata": {},
     "output_type": "execute_result"
    }
   ],
   "source": [
    "6*2/27"
   ]
  },
  {
   "cell_type": "code",
   "execution_count": 38,
   "metadata": {},
   "outputs": [
    {
     "data": {
      "text/plain": [
       "12.0"
      ]
     },
     "execution_count": 38,
     "metadata": {},
     "output_type": "execute_result"
    }
   ],
   "source": [
    "(12*1**3)/(1**5)"
   ]
  },
  {
   "cell_type": "markdown",
   "metadata": {},
   "source": [
    "$\\dfrac{\\partial f}{\\partial a} = e^{a-b+c}$, at $(a, b) = (1.0, 2.0, 3.0)$, that should be $e^{2} \\approx 7.389$."
   ]
  },
  {
   "cell_type": "code",
   "execution_count": 39,
   "metadata": {},
   "outputs": [
    {
     "ename": "NameError",
     "evalue": "name 'a' is not defined",
     "output_type": "error",
     "traceback": [
      "\u001b[0;31m---------------------------------------------------------------------------\u001b[0m",
      "\u001b[0;31mNameError\u001b[0m                                 Traceback (most recent call last)",
      "\u001b[0;32m<ipython-input-39-a84c688003dc>\u001b[0m in \u001b[0;36m<module>\u001b[0;34m()\u001b[0m\n\u001b[0;32m----> 1\u001b[0;31m \u001b[0mf\u001b[0m\u001b[0;34m.\u001b[0m\u001b[0mderivative_at\u001b[0m\u001b[0;34m(\u001b[0m\u001b[0ma\u001b[0m\u001b[0;34m,\u001b[0m \u001b[0;34m{\u001b[0m\u001b[0ma\u001b[0m\u001b[0;34m:\u001b[0m \u001b[0;36m1.0\u001b[0m\u001b[0;34m,\u001b[0m \u001b[0mb\u001b[0m\u001b[0;34m:\u001b[0m \u001b[0;36m2.0\u001b[0m\u001b[0;34m,\u001b[0m \u001b[0mc\u001b[0m\u001b[0;34m:\u001b[0m \u001b[0;36m3.0\u001b[0m\u001b[0;34m}\u001b[0m\u001b[0;34m)\u001b[0m\u001b[0;34m\u001b[0m\u001b[0m\n\u001b[0m",
      "\u001b[0;31mNameError\u001b[0m: name 'a' is not defined"
     ]
    }
   ],
   "source": [
    "f.derivative_at(a, {a: 1.0, b: 2.0, c: 3.0})"
   ]
  },
  {
   "cell_type": "markdown",
   "metadata": {},
   "source": [
    "Let $g(x, y) = x + e^{y-1}$, at $(x, y) = (1.0, 2.0)$, that should be $1+e \\approx 3.718$."
   ]
  },
  {
   "cell_type": "code",
   "execution_count": null,
   "metadata": {
    "collapsed": true
   },
   "outputs": [],
   "source": [
    "x = Variable()\n",
    "y = Variable()\n",
    "g = x + exp(y-1)"
   ]
  },
  {
   "cell_type": "code",
   "execution_count": null,
   "metadata": {},
   "outputs": [],
   "source": [
    "g.evaluation_at({x: 1.0, y: 2.0})"
   ]
  },
  {
   "cell_type": "markdown",
   "metadata": {},
   "source": [
    "$\\dfrac{\\partial g}{\\partial x} = 1$"
   ]
  },
  {
   "cell_type": "code",
   "execution_count": null,
   "metadata": {},
   "outputs": [],
   "source": [
    "g.derivative_at(x, {x: 1.0, y: 2.0})"
   ]
  },
  {
   "cell_type": "markdown",
   "metadata": {},
   "source": [
    "$\\dfrac{\\partial g}{\\partial y} = e^{y-1}$, at $(x, y) = (1.0, 2.0)$, that should be $e^{1} \\approx 2.718$."
   ]
  },
  {
   "cell_type": "code",
   "execution_count": null,
   "metadata": {},
   "outputs": [],
   "source": [
    "g.derivative_at(y, {x: 1.0, y: 2.0})"
   ]
  },
  {
   "cell_type": "markdown",
   "metadata": {},
   "source": [
    "#### Test for Multiple"
   ]
  },
  {
   "cell_type": "code",
   "execution_count": null,
   "metadata": {
    "collapsed": true
   },
   "outputs": [],
   "source": [
    "x = Variable()\n",
    "y = Variable()\n",
    "g = x*y\n",
    "f = x/y"
   ]
  },
  {
   "cell_type": "code",
   "execution_count": null,
   "metadata": {},
   "outputs": [],
   "source": [
    "g.evaluation_at({x: 2.0, y: 2.0})"
   ]
  },
  {
   "cell_type": "code",
   "execution_count": null,
   "metadata": {},
   "outputs": [],
   "source": [
    "g.derivative_at(x, {x: 1.0, y: 2.0})"
   ]
  },
  {
   "cell_type": "code",
   "execution_count": null,
   "metadata": {},
   "outputs": [],
   "source": [
    "f.evaluation_at({x: 3.0, y: 2.0})"
   ]
  },
  {
   "cell_type": "code",
   "execution_count": null,
   "metadata": {},
   "outputs": [],
   "source": [
    "f.derivative_at(y, {x: 4.0, y: 2.0})"
   ]
  },
  {
   "cell_type": "code",
   "execution_count": null,
   "metadata": {
    "collapsed": true
   },
   "outputs": [],
   "source": [
    "a = 3.4"
   ]
  },
  {
   "cell_type": "code",
   "execution_count": null,
   "metadata": {},
   "outputs": [],
   "source": [
    "2/3"
   ]
  },
  {
   "cell_type": "markdown",
   "metadata": {
    "collapsed": true
   },
   "source": [
    "### Test for Power"
   ]
  },
  {
   "cell_type": "code",
   "execution_count": null,
   "metadata": {
    "collapsed": true
   },
   "outputs": [],
   "source": [
    "x = Variable()\n",
    "y = Variable()\n",
    "g = x**y\n",
    "f = x**2+x**0.5"
   ]
  },
  {
   "cell_type": "code",
   "execution_count": null,
   "metadata": {},
   "outputs": [],
   "source": [
    "g.evaluation_at({x: 3.0, y: 2.0})"
   ]
  },
  {
   "cell_type": "code",
   "execution_count": null,
   "metadata": {},
   "outputs": [],
   "source": [
    "f.derivative_at(x, {x: 3.0})"
   ]
  },
  {
   "cell_type": "code",
   "execution_count": null,
   "metadata": {},
   "outputs": [],
   "source": [
    "0.5*3**(-0.5)"
   ]
  },
  {
   "cell_type": "code",
   "execution_count": null,
   "metadata": {
    "scrolled": true
   },
   "outputs": [],
   "source": [
    "g.derivative_at(x, {x: 3.0, y: 2.0})"
   ]
  },
  {
   "cell_type": "code",
   "execution_count": null,
   "metadata": {},
   "outputs": [],
   "source": [
    "np.log(0.1)"
   ]
  },
  {
   "cell_type": "markdown",
   "metadata": {},
   "source": [
    "### Test for unary"
   ]
  },
  {
   "cell_type": "code",
   "execution_count": null,
   "metadata": {},
   "outputs": [],
   "source": [
    "x=Variable()\n",
    "f= -x"
   ]
  },
  {
   "cell_type": "code",
   "execution_count": null,
   "metadata": {},
   "outputs": [],
   "source": [
    "f.evaluation_at({x:2,y:3})"
   ]
  },
  {
   "cell_type": "code",
   "execution_count": null,
   "metadata": {},
   "outputs": [],
   "source": [
    "f.derivative_at(x,2,{x:2,y:3})"
   ]
  },
  {
   "cell_type": "code",
   "execution_count": null,
   "metadata": {},
   "outputs": [],
   "source": [
    "# Import their package\n"
   ]
  },
  {
   "cell_type": "code",
   "execution_count": null,
   "metadata": {},
   "outputs": [],
   "source": [
    "\n"
   ]
  },
  {
   "cell_type": "code",
   "execution_count": 99,
   "metadata": {
    "collapsed": true
   },
   "outputs": [],
   "source": [
    "import numpy as np\n",
    "def newton(f,  init_val_dict, max_iter=10, stop_stepsize=1e-8):\n",
    "    \n",
    "    variables  = [var for var in init_val_dict.keys()]\n",
    "    curr_point = np.array([v for k, v in init_val_dict.items()])\n",
    "    f_grad = f.gradient_at(init_val_dict)\n",
    "    f_hess = f.hessian_at(init_val_dict)\n",
    "    \n",
    "    for i in range(max_iter):\n",
    "        \n",
    "        curr_val_dict = {var: val for var, val in zip(variables, curr_point)}\n",
    "        # solve (Hessian of f at x)s = - (gradient of f at x)\n",
    "        f_grad =f.gradient_at(curr_val_dict)\n",
    "        f_hess = f.hessian_at(curr_val_dict)\n",
    "\n",
    "        step = np.linalg.solve(f_hess, -f_grad)\n",
    "        if np.linalg.norm(step, ord=2) < stop_stepsize: break\n",
    "        \n",
    "        # x := x + s\n",
    "        curr_point = curr_point + step\n",
    "    \n",
    "    return {var: val for var, val in zip(variables, curr_point)}"
   ]
  },
  {
   "cell_type": "code",
   "execution_count": 138,
   "metadata": {
    "collapsed": true
   },
   "outputs": [],
   "source": [
    "def gradient_descent(f,init_val_dict, learning_rate=0.1, max_iter=1000, stop_stepsize=0.000001):\n",
    "    f_grad = f.gradient_at(init_val_dict)\n",
    "    variables  = [var for var in init_val_dict.keys()]\n",
    "    curr_point = np.array([v for k, v in init_val_dict.items()])\n",
    "    \n",
    "    \n",
    "    for i in range(max_iter):\n",
    "        \n",
    "        prev_point =curr_point\n",
    "        prev_val_dict = {var: val for var, val in zip(variables, prev_point)}\n",
    "        f_grad =f.gradient_at(prev_val_dict)\n",
    "\n",
    "        curr_point =curr_point - learning_rate*f_grad\n",
    "        if np.linalg.norm(curr_point-prev_point, ord=2) < stop_stepsize: break\n",
    "        \n",
    "    \n",
    "    return {var: val for var, val in zip(variables, curr_point)}"
   ]
  },
  {
   "cell_type": "code",
   "execution_count": 139,
   "metadata": {
    "scrolled": true
   },
   "outputs": [
    {
     "data": {
      "text/plain": [
       "{<__main__.Variable at 0x113c8d588>: 0.99999754800713458,\n",
       " <__main__.Variable at 0x113c8d668>: 2.4519928653854235e-06}"
      ]
     },
     "execution_count": 139,
     "metadata": {},
     "output_type": "execute_result"
    }
   ],
   "source": [
    "x,y = Variable(),Variable()\n",
    "f= x**2-2*x+1+y**2\n",
    "gradient_descent(f, {x: -1,y:2})"
   ]
  },
  {
   "cell_type": "code",
   "execution_count": 88,
   "metadata": {},
   "outputs": [
    {
     "data": {
      "text/plain": [
       "array([ 2.,  4.])"
      ]
     },
     "execution_count": 88,
     "metadata": {},
     "output_type": "execute_result"
    }
   ],
   "source": [
    "f= x**2-2*x+1+y**2\n",
    "f.gradient_at({x: 2,y:2})\n"
   ]
  },
  {
   "cell_type": "code",
   "execution_count": 89,
   "metadata": {
    "scrolled": true
   },
   "outputs": [
    {
     "data": {
      "text/plain": [
       "array([[ 2.,  0.],\n",
       "       [ 0.,  2.]])"
      ]
     },
     "execution_count": 89,
     "metadata": {},
     "output_type": "execute_result"
    }
   ],
   "source": [
    "f.hessian_at({x: 2,y:2})"
   ]
  },
  {
   "cell_type": "code",
   "execution_count": 90,
   "metadata": {},
   "outputs": [
    {
     "data": {
      "text/plain": [
       "array([-1., -2.])"
      ]
     },
     "execution_count": 90,
     "metadata": {},
     "output_type": "execute_result"
    }
   ],
   "source": [
    "np.linalg.solve(f.hessian_at({x: 2,y:2}),-f.gradient_at({x: 2,y:2}))"
   ]
  },
  {
   "cell_type": "code",
   "execution_count": 63,
   "metadata": {},
   "outputs": [
    {
     "data": {
      "text/plain": [
       "array([-0.00502513, -1.        ])"
      ]
     },
     "execution_count": 63,
     "metadata": {},
     "output_type": "execute_result"
    }
   ],
   "source": [
    "x, y = Variable(), Variable()\n",
    "f=100.0*(y - x**2)**2 + (1 - x)**2.0\n",
    "f_grad=f.gradient_at({x: 0.0, y: 1.0})\n",
    "f_hess=f.hessian_at({x: 0.0, y: 1.0})\n",
    "np.linalg.solve(f_hess, -f_grad)"
   ]
  },
  {
   "cell_type": "code",
   "execution_count": 55,
   "metadata": {},
   "outputs": [
    {
     "data": {
      "text/plain": [
       "array([[-398.,    0.],\n",
       "       [   0.,  200.]])"
      ]
     },
     "execution_count": 55,
     "metadata": {},
     "output_type": "execute_result"
    }
   ],
   "source": [
    "x, y = Variable(), Variable()\n",
    "f=100.0*(y - x**2)**2 + (1 - x)**2.0\n"
   ]
  },
  {
   "cell_type": "code",
   "execution_count": 56,
   "metadata": {
    "collapsed": true
   },
   "outputs": [],
   "source": [
    "dict1= {x: 0.0, y: 1.0}"
   ]
  },
  {
   "cell_type": "code",
   "execution_count": 61,
   "metadata": {},
   "outputs": [
    {
     "data": {
      "text/plain": [
       "dict_values"
      ]
     },
     "execution_count": 61,
     "metadata": {},
     "output_type": "execute_result"
    }
   ],
   "source": [
    "dict1.values()"
   ]
  },
  {
   "cell_type": "code",
   "execution_count": 65,
   "metadata": {},
   "outputs": [],
   "source": [
    "a=np.array([v for k, v in dict1.items()])"
   ]
  },
  {
   "cell_type": "code",
   "execution_count": 66,
   "metadata": {},
   "outputs": [
    {
     "data": {
      "text/plain": [
       "array([-0.00502513,  0.        ])"
      ]
     },
     "execution_count": 66,
     "metadata": {},
     "output_type": "execute_result"
    }
   ],
   "source": [
    "a+np.linalg.solve(f_hess, -f_grad)"
   ]
  },
  {
   "cell_type": "code",
   "execution_count": 103,
   "metadata": {},
   "outputs": [
    {
     "data": {
      "text/plain": [
       "array([  3.10503618e+231,   3.11109133e+231,   3.45845952e-323])"
      ]
     },
     "execution_count": 103,
     "metadata": {},
     "output_type": "execute_result"
    }
   ],
   "source": [
    "np.empty(3)"
   ]
  },
  {
   "cell_type": "code",
   "execution_count": 104,
   "metadata": {},
   "outputs": [
    {
     "data": {
      "text/plain": [
       "2"
      ]
     },
     "execution_count": 104,
     "metadata": {},
     "output_type": "execute_result"
    }
   ],
   "source": [
    "len(dict1)"
   ]
  },
  {
   "cell_type": "code",
   "execution_count": null,
   "metadata": {
    "collapsed": true
   },
   "outputs": [],
   "source": []
  }
 ],
 "metadata": {
  "kernelspec": {
   "display_name": "Python [default]",
   "language": "python",
   "name": "python3"
  },
  "language_info": {
   "codemirror_mode": {
    "name": "ipython",
    "version": 3
   },
   "file_extension": ".py",
   "mimetype": "text/x-python",
   "name": "python",
   "nbconvert_exporter": "python",
   "pygments_lexer": "ipython3",
   "version": "3.6.3"
  }
 },
 "nbformat": 4,
 "nbformat_minor": 2
}
