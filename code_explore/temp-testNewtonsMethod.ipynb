{
 "cells": [
  {
   "cell_type": "code",
   "execution_count": 9,
   "metadata": {},
   "outputs": [],
   "source": [
    "import autodiff.forward\n",
    "from autodiff.forward import *\n",
    "from autodiff.backprop import *"
   ]
  },
  {
   "cell_type": "code",
   "execution_count": 10,
   "metadata": {},
   "outputs": [],
   "source": [
    "t = Variable()\n",
    "f = exp(sin(t)) - cos(t**0.5) * sin((cos(t)**2.0+t**2.0)**0.5)"
   ]
  },
  {
   "cell_type": "code",
   "execution_count": 11,
   "metadata": {},
   "outputs": [
    {
     "name": "stdout",
     "output_type": "stream",
     "text": [
      "nli        x           dx    \n",
      "1    5.664740     3.664740e+00\n",
      "2    5.495501     -1.692387e-01\n",
      "3    5.470687     -2.481412e-02\n",
      "4    5.470122     -5.651209e-04\n",
      "5    5.470122     -2.935793e-07\n",
      "Found solution after 5 iterations.\n",
      "There is a root at x = 5.4701.\n"
     ]
    }
   ],
   "source": [
    "x    = 2.0       # Initial guess\n",
    "tol  = 1.0e-06   # Solver tolerance\n",
    "nmax = 25        # Maximum number of nonlinear iterations\n",
    "\n",
    "nli = 0          # Nonlinear iteration counter\n",
    "\n",
    "print(\"nli        x           dx    \") # Print-out information\n",
    "while True:\n",
    "    evalf = f.evaluation_at({t: x}) # Get function value\n",
    "    derif = f.derivative_at(t, {t: x})\n",
    "    dx = -evalf / derif             # Update step\n",
    "    x = x + dx # Update solution\n",
    "    print(\"{0}    {1:8.6f}     {2:8.6e}\".format(nli+1, x, dx))\n",
    "\n",
    "    # Check for convergence\n",
    "    if abs(dx) <= tol:\n",
    "        print(\"Found solution after {} iterations.\".format(nli+1))\n",
    "        print(\"There is a root at x = {0:6.4f}.\".format(x))\n",
    "        break\n",
    "\n",
    "    # Check iteration count\n",
    "    if nli > nmax:\n",
    "        print(\"Exceeded allowable max iterations without finding a root.\")\n",
    "        break\n",
    "\n",
    "    nli += 1 # Increment nonlinear iteration count"
   ]
  },
  {
   "cell_type": "code",
   "execution_count": 12,
   "metadata": {},
   "outputs": [
    {
     "data": {
      "text/plain": [
       "-1.6538540196120444e-05"
      ]
     },
     "execution_count": 12,
     "metadata": {},
     "output_type": "execute_result"
    }
   ],
   "source": [
    "f.evaluation_at({t: 5.4701})"
   ]
  },
  {
   "cell_type": "code",
   "execution_count": 18,
   "metadata": {},
   "outputs": [],
   "source": [
    "def newton_scalar(f, init_val_dict, tol, max_itr, verbose=False, method = 'Forward'):\n",
    "    itr = 1\n",
    "    val_dict = init_val_dict.copy()\n",
    "    while True:\n",
    "        evalf = f.evaluation_at(val_dict)\n",
    "        if method == 'Forward':    \n",
    "            derif = {v: f.derivative_at(v, val_dict) for v in val_dict.keys()}\n",
    "        else:\n",
    "            back_propagation(f,val_dict)\n",
    "            derif = {v:v.bder for v in val_dict.keys()}\n",
    "        for v in val_dict.keys():\n",
    "            val_dict[v] = val_dict[v] - evalf/derif[v]\n",
    "        \n",
    "        if verbose: print(\"iteration {0}, at {1}, objective function = {2:6.4e}\".format( \\\n",
    "                          itr, list(val_dict.values()), f.evaluation_at(val_dict)))\n",
    "\n",
    "        if abs(f.evaluation_at(val_dict)) <= tol:\n",
    "            print(\"Found solution after {} iterations.\".format(itr))\n",
    "            print(\"There is a root at x = {}.\".format(list(val_dict.values())))\n",
    "            break\n",
    "\n",
    "        if itr > max_itr:\n",
    "            print(\"Exceeded allowable max iterations without finding a root.\")\n",
    "            break\n",
    "        \n",
    "        itr += 1\n",
    "    return val_dict"
   ]
  },
  {
   "cell_type": "code",
   "execution_count": 19,
   "metadata": {},
   "outputs": [
    {
     "name": "stdout",
     "output_type": "stream",
     "text": [
      "iteration 1, at [-1.5, 0.75], objective function = 2.8125e+00\n",
      "iteration 2, at [-0.5625, -1.125], objective function = 1.5820e+00\n",
      "iteration 3, at [0.84375, -0.421875], objective function = 8.8989e-01\n",
      "iteration 4, at [0.31640625, 0.6328125], objective function = 5.0056e-01\n",
      "iteration 5, at [-0.474609375, 0.2373046875], objective function = 2.8157e-01\n",
      "iteration 6, at [-0.177978515625, -0.35595703125], objective function = 1.5838e-01\n",
      "iteration 7, at [0.2669677734375, -0.13348388671875], objective function = 8.9090e-02\n",
      "iteration 8, at [0.1001129150390625, 0.200225830078125], objective function = 5.0113e-02\n",
      "iteration 9, at [-0.15016937255859375, 0.07508468627929688], objective function = 2.8189e-02\n",
      "iteration 10, at [-0.056313514709472656, -0.11262702941894531], objective function = 1.5856e-02\n",
      "iteration 11, at [0.08447027206420898, -0.04223513603210449], objective function = 8.9190e-03\n",
      "iteration 12, at [0.03167635202407837, 0.06335270404815674], objective function = 5.0170e-03\n",
      "iteration 13, at [-0.047514528036117554, 0.023757264018058777], objective function = 2.8220e-03\n",
      "iteration 14, at [-0.017817948013544083, -0.035635896027088165], objective function = 1.5874e-03\n",
      "iteration 15, at [0.026726922020316124, -0.013363461010158062], objective function = 8.9291e-04\n",
      "iteration 16, at [0.010022595757618546, 0.020045191515237093], objective function = 5.0226e-04\n",
      "iteration 17, at [-0.015033893636427816, 0.007516946818213912], objective function = 2.8252e-04\n",
      "iteration 18, at [-0.005637710113660429, -0.011275420227320856], objective function = 1.5892e-04\n",
      "iteration 19, at [0.008456565170490638, -0.004228282585245321], objective function = 8.9392e-05\n",
      "iteration 20, at [0.003171211938933989, 0.006342423877867974], objective function = 5.0283e-05\n",
      "iteration 21, at [-0.004756817908400975, 0.0023784089542004897], objective function = 2.8284e-05\n",
      "iteration 22, at [-0.0017838067156503647, -0.003567613431300726], objective function = 1.5910e-05\n",
      "iteration 23, at [0.00267571007347554, -0.0013378550367377715], objective function = 8.9493e-06\n",
      "iteration 24, at [0.0010033912775533269, 0.002006782555106651], objective function = 5.0340e-06\n",
      "iteration 25, at [-0.001505086916329985, 0.0007525434581649934], objective function = 2.8316e-06\n",
      "iteration 26, at [-0.000564407593623744, -0.0011288151872474866], objective function = 1.5928e-06\n",
      "iteration 27, at [0.0008466113904356132, -0.00042330569521780716], objective function = 8.9594e-07\n",
      "Found solution after 27 iterations.\n",
      "There is a root at x = [0.0008466113904356132, -0.00042330569521780716].\n"
     ]
    }
   ],
   "source": [
    "x, y, z = Variable(), Variable(), Variable()\n",
    "g = x**2 + y**2\n",
    "root = newton_scalar(g, {x: 1.0, y: 2.0}, 1.0e-6, 100, verbose=True)"
   ]
  },
  {
   "cell_type": "code",
   "execution_count": 20,
   "metadata": {},
   "outputs": [
    {
     "name": "stdout",
     "output_type": "stream",
     "text": [
      "iteration 1, at [-1.5, 0.75], objective function = 2.8125e+00\n",
      "iteration 2, at [-0.5625, -1.125], objective function = 1.5820e+00\n",
      "iteration 3, at [0.84375, -0.421875], objective function = 8.8989e-01\n",
      "iteration 4, at [0.31640625, 0.6328125], objective function = 5.0056e-01\n",
      "iteration 5, at [-0.474609375, 0.2373046875], objective function = 2.8157e-01\n",
      "iteration 6, at [-0.177978515625, -0.35595703125], objective function = 1.5838e-01\n",
      "iteration 7, at [0.2669677734375, -0.13348388671875], objective function = 8.9090e-02\n",
      "iteration 8, at [0.1001129150390625, 0.200225830078125], objective function = 5.0113e-02\n",
      "iteration 9, at [-0.15016937255859375, 0.07508468627929688], objective function = 2.8189e-02\n",
      "iteration 10, at [-0.056313514709472656, -0.11262702941894531], objective function = 1.5856e-02\n",
      "iteration 11, at [0.08447027206420898, -0.04223513603210449], objective function = 8.9190e-03\n",
      "iteration 12, at [0.03167635202407837, 0.06335270404815674], objective function = 5.0170e-03\n",
      "iteration 13, at [-0.047514528036117554, 0.023757264018058777], objective function = 2.8220e-03\n",
      "iteration 14, at [-0.017817948013544083, -0.035635896027088165], objective function = 1.5874e-03\n",
      "iteration 15, at [0.026726922020316124, -0.013363461010158062], objective function = 8.9291e-04\n",
      "iteration 16, at [0.010022595757618546, 0.020045191515237093], objective function = 5.0226e-04\n",
      "iteration 17, at [-0.015033893636427816, 0.007516946818213912], objective function = 2.8252e-04\n",
      "iteration 18, at [-0.005637710113660429, -0.011275420227320856], objective function = 1.5892e-04\n",
      "iteration 19, at [0.008456565170490638, -0.004228282585245321], objective function = 8.9392e-05\n",
      "iteration 20, at [0.003171211938933989, 0.006342423877867974], objective function = 5.0283e-05\n",
      "iteration 21, at [-0.004756817908400975, 0.0023784089542004897], objective function = 2.8284e-05\n",
      "iteration 22, at [-0.0017838067156503647, -0.003567613431300726], objective function = 1.5910e-05\n",
      "iteration 23, at [0.00267571007347554, -0.0013378550367377715], objective function = 8.9493e-06\n",
      "iteration 24, at [0.0010033912775533269, 0.002006782555106651], objective function = 5.0340e-06\n",
      "iteration 25, at [-0.001505086916329985, 0.0007525434581649934], objective function = 2.8316e-06\n",
      "iteration 26, at [-0.000564407593623744, -0.0011288151872474866], objective function = 1.5928e-06\n",
      "iteration 27, at [0.0008466113904356132, -0.00042330569521780716], objective function = 8.9594e-07\n",
      "Found solution after 27 iterations.\n",
      "There is a root at x = [0.0008466113904356132, -0.00042330569521780716].\n"
     ]
    }
   ],
   "source": [
    "x, y, z = Variable(), Variable(), Variable()\n",
    "g = x**2 + y**2\n",
    "root = newton_scalar(g, {x: 1.0, y: 2.0}, 1.0e-6, 100, verbose=True,method = 'Backward')"
   ]
  },
  {
   "cell_type": "code",
   "execution_count": 21,
   "metadata": {},
   "outputs": [
    {
     "data": {
      "text/plain": [
       "0.0008466113904356132"
      ]
     },
     "execution_count": 21,
     "metadata": {},
     "output_type": "execute_result"
    }
   ],
   "source": [
    "root[x]"
   ]
  },
  {
   "cell_type": "code",
   "execution_count": 22,
   "metadata": {},
   "outputs": [
    {
     "data": {
      "text/plain": [
       "-0.00042330569521780716"
      ]
     },
     "execution_count": 22,
     "metadata": {},
     "output_type": "execute_result"
    }
   ],
   "source": [
    "root[y]"
   ]
  },
  {
   "cell_type": "code",
   "execution_count": null,
   "metadata": {},
   "outputs": [],
   "source": []
  },
  {
   "cell_type": "code",
   "execution_count": null,
   "metadata": {},
   "outputs": [],
   "source": []
  },
  {
   "cell_type": "code",
   "execution_count": null,
   "metadata": {},
   "outputs": [],
   "source": []
  }
 ],
 "metadata": {
  "kernelspec": {
   "display_name": "Python 3",
   "language": "python",
   "name": "python3"
  },
  "language_info": {
   "codemirror_mode": {
    "name": "ipython",
    "version": 3
   },
   "file_extension": ".py",
   "mimetype": "text/x-python",
   "name": "python",
   "nbconvert_exporter": "python",
   "pygments_lexer": "ipython3",
   "version": "3.6.4"
  }
 },
 "nbformat": 4,
 "nbformat_minor": 2
}
