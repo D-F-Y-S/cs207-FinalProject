{
 "cells": [
  {
   "cell_type": "code",
   "execution_count": 12,
   "metadata": {},
   "outputs": [],
   "source": [
    "import autodiff.forward\n",
    "from autodiff.forward import *\n",
    "\n",
    "import numpy as np\n",
    "from numpy.linalg import pinv\n",
    "from numpy.linalg import norm"
   ]
  },
  {
   "cell_type": "code",
   "execution_count": 6,
   "metadata": {},
   "outputs": [],
   "source": [
    "class VectorFunction:\n",
    "    \n",
    "    def __init__(self, exprlist):\n",
    "        self._exprlist = exprlist.copy()\n",
    "    \n",
    "    def evaluation_at(self, val_dict):\n",
    "        return np.array([expr.evaluation_at(val_dict) \n",
    "                        for expr in self._exprlist])\n",
    "    \n",
    "    def jacobian_at(self, val_dict):\n",
    "        return np.array([[f.derivative_at(var, val_dict) for var in val_dict.keys()]\n",
    "                         for f in self._exprlist])"
   ]
  },
  {
   "cell_type": "markdown",
   "metadata": {},
   "source": [
    "$h(x, y) = (f(x,y), g(x, y)) = (\\sin(x+y), \\cos(x-y))$"
   ]
  },
  {
   "cell_type": "code",
   "execution_count": 7,
   "metadata": {},
   "outputs": [],
   "source": [
    "x, y = Variable(), Variable()\n",
    "f, g = sin(x+y), cos(x-y)\n",
    "h = VectorFunction([f, g])"
   ]
  },
  {
   "cell_type": "markdown",
   "metadata": {},
   "source": [
    "\n",
    "$h(\\dfrac{\\pi}{4}, \\dfrac{\\pi}{4}) = (\\sin(\\dfrac{\\pi}{2}), \\cos(0)) = (1, 1)$"
   ]
  },
  {
   "cell_type": "code",
   "execution_count": 8,
   "metadata": {},
   "outputs": [
    {
     "data": {
      "text/plain": [
       "array([0.8660254, 1.       ])"
      ]
     },
     "execution_count": 8,
     "metadata": {},
     "output_type": "execute_result"
    }
   ],
   "source": [
    "h.evaluation_at({x: np.pi/6, y: np.pi/6})"
   ]
  },
  {
   "cell_type": "markdown",
   "metadata": {},
   "source": [
    "When $(x, y) = (\\dfrac{\\pi}{6}, \\dfrac{\\pi}{6})$:\n",
    "\n",
    "$$\n",
    "J_{h} = \n",
    "\\begin{bmatrix}\n",
    "\\dfrac{\\partial f}{\\partial x} & \\dfrac{\\partial f}{\\partial y} \\\\\n",
    "\\dfrac{\\partial g}{\\partial x} & \\dfrac{\\partial g}{\\partial y} \n",
    "\\end{bmatrix}\n",
    "= \n",
    "\\begin{bmatrix}\n",
    "\\cos(x+y) & \\cos(x+y) \\\\\n",
    "-\\sin(x-y) & \\sin(x-y)\n",
    "\\end{bmatrix}\n",
    "= \n",
    "\\begin{bmatrix}\n",
    "\\cos(\\dfrac{\\pi}{3}) & \\cos(\\dfrac{\\pi}{3}) \\\\\n",
    "-\\sin(0) & \\sin(0)\n",
    "\\end{bmatrix}\n",
    "=\n",
    "\\begin{bmatrix}\n",
    "0.5 & 0.5 \\\\\n",
    "0 & 0\n",
    "\\end{bmatrix}\n",
    "$$"
   ]
  },
  {
   "cell_type": "code",
   "execution_count": 9,
   "metadata": {},
   "outputs": [
    {
     "data": {
      "text/plain": [
       "array([[ 0.5,  0.5],\n",
       "       [-0. ,  0. ]])"
      ]
     },
     "execution_count": 9,
     "metadata": {},
     "output_type": "execute_result"
    }
   ],
   "source": [
    "h.jacobian_at({x: np.pi/6, y: np.pi/6})"
   ]
  },
  {
   "cell_type": "code",
   "execution_count": 19,
   "metadata": {},
   "outputs": [],
   "source": [
    "def newton_multivariable(vectorfunction, init_val_dict, tol, max_itr, verbose):\n",
    "    \n",
    "    itr = 1\n",
    "    val_dict = init_val_dict.copy()\n",
    "    \n",
    "    while True:\n",
    "        \n",
    "        evalvector = vectorfunction.evaluation_at(val_dict)\n",
    "        jacobian   = vectorfunction.jacobian_at(val_dict)\n",
    "        dx = np.dot( pinv(jacobian), evalvector )\n",
    "        \n",
    "        for i, v in enumerate( val_dict.keys() ):\n",
    "            val_dict[v] = val_dict[v] - dx[i]\n",
    "        \n",
    "        if verbose: print(\"iteration {0}, at {1}, objective function = {2}\".format( \\\n",
    "                          itr, list(val_dict.values()), vectorfunction.evaluation_at(val_dict)))\n",
    "\n",
    "        if norm(vectorfunction.evaluation_at(val_dict), ord=2) <= tol:\n",
    "            print(\"Found solution after {} iterations.\".format(itr))\n",
    "            print(\"There is a root at {}.\".format(list(val_dict.values())))\n",
    "            break\n",
    "\n",
    "        if itr > max_itr:\n",
    "            print(\"Exceeded allowable max iterations without finding a root.\")\n",
    "            break\n",
    "        \n",
    "        itr += 1\n",
    "        \n",
    "    return val_dict"
   ]
  },
  {
   "cell_type": "markdown",
   "metadata": {},
   "source": [
    "Try using Newton'w method to solve \n",
    "$$\n",
    "\\begin{cases}\n",
    "\\cos(x)+\\sin(y) = 0 \\\\\n",
    "x^2 + y^2 = 0\n",
    "\\end{cases}\n",
    "$$"
   ]
  },
  {
   "cell_type": "code",
   "execution_count": 25,
   "metadata": {},
   "outputs": [
    {
     "name": "stdout",
     "output_type": "stream",
     "text": [
      "iteration 1, at [-3.208452031970579, -3.208452031970579], objective function = [-0.93095617  0.        ]\n",
      "iteration 2, at [-4.0829379871543505, -4.0829379871543505], objective function = [0.21964977 0.        ]\n",
      "iteration 3, at [-3.9257142101932674, -3.9257142101932674], objective function = [-0.00180539  0.        ]\n",
      "iteration 4, at [-3.926990817680748, -3.926990817680748], objective function = [9.80766024e-10 0.00000000e+00]\n",
      "Found solution after 4 iterations.\n",
      "There is a root at [-3.926990817680748, -3.926990817680748].\n"
     ]
    }
   ],
   "source": [
    "entry1 = cos(x) + sin(y)\n",
    "entry2 = x**2 - y**2\n",
    "vector = VectorFunction([entry1, entry2])\n",
    "root = newton_multivariable(vector, {x: np.pi/6, y: np.pi/6}, 1e-6, 25, verbose=True)"
   ]
  },
  {
   "cell_type": "markdown",
   "metadata": {},
   "source": [
    "Verify that this is indeed a root."
   ]
  },
  {
   "cell_type": "code",
   "execution_count": 26,
   "metadata": {},
   "outputs": [
    {
     "data": {
      "text/plain": [
       "9.807660239502525e-10"
      ]
     },
     "execution_count": 26,
     "metadata": {},
     "output_type": "execute_result"
    }
   ],
   "source": [
    "np.cos(root[x]) + np.sin(root[y])"
   ]
  },
  {
   "cell_type": "code",
   "execution_count": 27,
   "metadata": {},
   "outputs": [
    {
     "data": {
      "text/plain": [
       "0.0"
      ]
     },
     "execution_count": 27,
     "metadata": {},
     "output_type": "execute_result"
    }
   ],
   "source": [
    "root[x]**2 - root[y]**2"
   ]
  }
 ],
 "metadata": {
  "kernelspec": {
   "display_name": "Python 3",
   "language": "python",
   "name": "python3"
  },
  "language_info": {
   "codemirror_mode": {
    "name": "ipython",
    "version": 3
   },
   "file_extension": ".py",
   "mimetype": "text/x-python",
   "name": "python",
   "nbconvert_exporter": "python",
   "pygments_lexer": "ipython3",
   "version": "3.6.5"
  }
 },
 "nbformat": 4,
 "nbformat_minor": 2
}
