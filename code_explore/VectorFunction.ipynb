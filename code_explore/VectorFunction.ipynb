{
 "cells": [
  {
   "cell_type": "code",
   "execution_count": 16,
   "metadata": {},
   "outputs": [],
   "source": [
    "import autodiff.forward\n",
    "from autodiff.forward import *\n",
    "\n",
    "import numpy as np"
   ]
  },
  {
   "cell_type": "code",
   "execution_count": 50,
   "metadata": {},
   "outputs": [],
   "source": [
    "class VectorFunction:\n",
    "    \n",
    "    def __init__(self, exprlist):\n",
    "        self._exprlist = exprlist.copy()\n",
    "    \n",
    "    def evaluation_at(self, val_dict):\n",
    "        return np.array([expr.evaluation_at(val_dict) \n",
    "                        for expr in self._exprlist])\n",
    "    \n",
    "    def jacobian_at(self, val_dict):\n",
    "        print(self._exprlist[0].derivative_at(list(val_dict.keys())[0], val_dict))\n",
    "        return np.array([[f.derivative_at(var, val_dict) for var in val_dict.keys()]\n",
    "                         for f in self._exprlist])"
   ]
  },
  {
   "cell_type": "markdown",
   "metadata": {},
   "source": [
    "$h(x, y) = (f(x,y), g(x, y)) = (\\sin(x+y), \\cos(x-y))$"
   ]
  },
  {
   "cell_type": "code",
   "execution_count": 51,
   "metadata": {},
   "outputs": [],
   "source": [
    "x, y = Variable(), Variable()\n",
    "f, g = sin(x+y), cos(x-y)\n",
    "h = VectorFunction([f, g])"
   ]
  },
  {
   "cell_type": "markdown",
   "metadata": {},
   "source": [
    "\n",
    "$h(\\dfrac{\\pi}{4}, \\dfrac{\\pi}{4}) = (\\sin(\\dfrac{\\pi}{2}), \\cos(0)) = (1, 1)$"
   ]
  },
  {
   "cell_type": "code",
   "execution_count": 56,
   "metadata": {},
   "outputs": [
    {
     "data": {
      "text/plain": [
       "array([0.8660254, 1.       ])"
      ]
     },
     "execution_count": 56,
     "metadata": {},
     "output_type": "execute_result"
    }
   ],
   "source": [
    "h.evaluation_at({x: np.pi/6, y: np.pi/6})"
   ]
  },
  {
   "cell_type": "markdown",
   "metadata": {},
   "source": [
    "When $(x, y) = (\\dfrac{\\pi}{6}, \\dfrac{\\pi}{6})$\n",
    "$$\n",
    "J_{h} = \n",
    "\\begin{bmatrix}\n",
    "\\dfrac{\\partial f}{\\partial x} & \\dfrac{\\partial f}{\\partial y} \\\\\n",
    "\\dfrac{\\partial g}{\\partial x} & \\dfrac{\\partial g}{\\partial y} \n",
    "\\end{bmatrix}\n",
    "= \n",
    "\\begin{bmatrix}\n",
    "\\cos(x+y) & \\cos(x+y) \\\\\n",
    "-\\sin(x-y) & \\sin(x-y)\n",
    "\\end{bmatrix}\n",
    "= \n",
    "\\begin{bmatrix}\n",
    "\\cos(\\dfrac{\\pi}{3}) & \\cos(\\dfrac{\\pi}{3}) \\\\\n",
    "-\\sin(0) & \\sin(0)\n",
    "\\end{bmatrix}\n",
    "=\n",
    "\\begin{bmatrix}\n",
    "0.5 & \\0 \\\\\n",
    "-\\sin(0) & \\sin(0)\n",
    "\\end{bmatrix}\n",
    "$$"
   ]
  },
  {
   "cell_type": "code",
   "execution_count": 57,
   "metadata": {},
   "outputs": [
    {
     "name": "stdout",
     "output_type": "stream",
     "text": [
      "0.5000000000000001\n"
     ]
    },
    {
     "data": {
      "text/plain": [
       "array([[ 0.5,  0.5],\n",
       "       [-0. ,  0. ]])"
      ]
     },
     "execution_count": 57,
     "metadata": {},
     "output_type": "execute_result"
    }
   ],
   "source": [
    "h.jacobian_at({x: np.pi/6, y: np.pi/6})"
   ]
  },
  {
   "cell_type": "code",
   "execution_count": null,
   "metadata": {},
   "outputs": [],
   "source": []
  }
 ],
 "metadata": {
  "kernelspec": {
   "display_name": "Python 3",
   "language": "python",
   "name": "python3"
  },
  "language_info": {
   "codemirror_mode": {
    "name": "ipython",
    "version": 3
   },
   "file_extension": ".py",
   "mimetype": "text/x-python",
   "name": "python",
   "nbconvert_exporter": "python",
   "pygments_lexer": "ipython3",
   "version": "3.6.5"
  }
 },
 "nbformat": 4,
 "nbformat_minor": 2
}
